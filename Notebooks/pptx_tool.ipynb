{
 "cells": [
  {
   "cell_type": "code",
   "execution_count": 2,
   "metadata": {},
   "outputs": [],
   "source": [
    "import os\n",
    "from langchain_openai.chat_models.azure import AzureChatOpenAI\n",
    "\n",
    "openai_api_key = os.getenv('AZURE_OPENAI_API_KEY')\n",
    "openai_api_base = os.getenv('AZURE_OPENAI_ENDPOINT')\n",
    "openai_api_version = os.getenv('AZURE_OPENAI_API_VERSION')\n",
    "embeddings_model = os.getenv('AZURE_OPENAI_EMBEDDING_DEPLOYMENT_NAME')\n",
    "gpt_model = os.getenv(\"AZURE_OPENAI_CHAT_DEPLOYMENT_NAME\")\n",
    "\n",
    "llm = AzureChatOpenAI(\n",
    "                openai_api_version=openai_api_version,\n",
    "                azure_deployment=gpt_model,\n",
    "            )"
   ]
  },
  {
   "cell_type": "code",
   "execution_count": null,
   "metadata": {},
   "outputs": [
    {
     "name": "stdout",
     "output_type": "stream",
     "text": [
      "Here are 15 creative and cool names for your generative AI app designed for new joiners and team members:\n",
      "\n",
      "1. **OnboardGen**\n",
      "2. **LearnFlow AI**\n",
      "3. **SkillWave**\n",
      "4. **GenieGuide**\n",
      "5. **TeamLeap**\n",
      "6. **KnowledgeNest**\n",
      "7. **InsightForge**\n",
      "8. **FlowMinds**\n",
      "9. **GenToolkit**\n",
      "10. **CurioCraft**\n",
      "11. **TeamTrove**\n",
      "12. **InfoPulse**\n",
      "13. **AccelaLearn**\n",
      "14. **TandemThink**\n",
      "15. **EduFusion AI**\n",
      "\n",
      "Feel free to mix and match or modify these names to better suit your project’s vision! Good luck with your hackathon!\n"
     ]
    },
    {
     "ename": "",
     "evalue": "",
     "output_type": "error",
     "traceback": [
      "\u001b[1;31mThe Kernel crashed while executing code in the current cell or a previous cell. \n",
      "\u001b[1;31mPlease review the code in the cell(s) to identify a possible cause of the failure. \n",
      "\u001b[1;31mClick <a href='https://aka.ms/vscodeJupyterKernelCrash'>here</a> for more info. \n",
      "\u001b[1;31mView Jupyter <a href='command:jupyter.viewOutput'>log</a> for further details."
     ]
    }
   ],
   "source": [
    "request = \"\"\"we're participating in a hackaton event about gen ai. \n",
    "Our project is about creating an app that implements \n",
    "- generative ai\n",
    "- langgraph\n",
    "- react\n",
    "- tailwind\n",
    "- rag architecture\n",
    "\n",
    "to generate different kind of files that can be used by new joiners or new team members for self study.\n",
    "\n",
    "please generate a list of 15 smart and cool names that we can use in the hackaton for naming our project\"\"\"\n",
    "\n",
    "output = llm.invoke(request)\n",
    "print(output.content)"
   ]
  },
  {
   "cell_type": "code",
   "execution_count": null,
   "metadata": {},
   "outputs": [],
   "source": [
    "RampUp AI"
   ]
  },
  {
   "cell_type": "code",
   "execution_count": 1,
   "metadata": {},
   "outputs": [],
   "source": [
    "\n",
    "from langchain_core.prompts import PromptTemplate\n",
    "\n",
    "def generate_ppt_request(context: str):\n",
    "        \"generate a sample request for creating a ppt file using pptx library\"\n",
    "\n",
    "        prompt = \"\"\"You are a smart assistant than can create payload samples for creating pptx files.\n",
    "        The content of the sample must be extracted from this context:\n",
    "\n",
    "        ### Context ###\n",
    "        {context}\n",
    "        Your job is to generate a sample request following the example below.\n",
    "        Return just the sample payload. Nothing else.\n",
    "\n",
    "\n",
    "        ### Example of a request ###\n",
    "        sample_request = DocumentRequest(\n",
    "            title=\"Demo Document\",\n",
    "            pages=[\n",
    "                DocumentContent(\n",
    "                    text_items=[\n",
    "                        TextItem(type=\"header\", content=\"Welcome\"),\n",
    "                        TextItem(type=\"paragraph\", content=\"This is a sample slide.\"),\n",
    "                    ],\n",
    "                    images=[\n",
    "                        ImageItem(path=\"sample_image.png\")\n",
    "                    ]\n",
    "                ),\n",
    "\n",
    "                DocumentContent(\n",
    "                    text_items=[\n",
    "                        TextItem(type=\"subheader\", content=\"Second Slide\"),\n",
    "                        TextItem(type=\"paragraph\", content=\"Lorem ipsum dolor sit amet, consectetur adipiscing elit. Vivamus luctus urna sed urna ultricies ac tempor dui sagittis. In condimentum facilisis porta.\\nFusce sed felis eget velit aliquet faucibus. Praesent ac massa at ligula laoreet iaculis.\"),\n",
    "                    ],\n",
    "                    images=[]\n",
    "                )\n",
    "            ]\n",
    "        )\n",
    "        \"\"\"\n",
    "\n",
    "        prompt_template = PromptTemplate.from_template(prompt)\n",
    "        chain  = prompt_template | llm\n",
    "        sample_request = chain.invoke({\"context\": context})\n",
    "        return sample_request"
   ]
  },
  {
   "cell_type": "code",
   "execution_count": 4,
   "metadata": {},
   "outputs": [],
   "source": [
    "sample = generate_ppt_request(\"there are several animals in the jungle, such as the lion, tiger and elephant. funny huh ?\")"
   ]
  },
  {
   "cell_type": "code",
   "execution_count": 6,
   "metadata": {},
   "outputs": [
    {
     "name": "stdout",
     "output_type": "stream",
     "text": [
      "```python\n",
      "sample_request = DocumentRequest(\n",
      "    title=\"Jungle Animals\",\n",
      "    pages=[\n",
      "        DocumentContent(\n",
      "            text_items=[\n",
      "                TextItem(type=\"header\", content=\"Animals of the Jungle\"),\n",
      "                TextItem(type=\"paragraph\", content=\"In the jungle, we can find incredible animals such as the lion, tiger, and elephant. Isn't it funny how diverse these creatures are?\")\n",
      "            ],\n",
      "            images=[]\n",
      "        )\n",
      "    ]\n",
      ")\n",
      "```\n"
     ]
    }
   ],
   "source": [
    "print(sample.content)"
   ]
  }
 ],
 "metadata": {
  "kernelspec": {
   "display_name": ".venv",
   "language": "python",
   "name": "python3"
  },
  "language_info": {
   "codemirror_mode": {
    "name": "ipython",
    "version": 3
   },
   "file_extension": ".py",
   "mimetype": "text/x-python",
   "name": "python",
   "nbconvert_exporter": "python",
   "pygments_lexer": "ipython3",
   "version": "3.11.0"
  }
 },
 "nbformat": 4,
 "nbformat_minor": 2
}

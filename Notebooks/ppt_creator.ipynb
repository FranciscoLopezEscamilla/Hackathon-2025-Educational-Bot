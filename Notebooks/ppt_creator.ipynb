{
 "cells": [
  {
   "cell_type": "code",
   "execution_count": 7,
   "metadata": {},
   "outputs": [],
   "source": [
    "from pptx import Presentation\n",
    "from pptx.util import Inches\n",
    "\n",
    "powerpoint = Presentation()\n",
    "\n",
    "title = powerpoint.slide_layouts[0]\n",
    "content = powerpoint.slide_layouts[1]\n",
    "\n",
    "\n",
    "def title_page(powerpoint, title, heading, subheading):\n",
    "    page = powerpoint.slides.add_slide(title)\n",
    "    page.shapes.title.text = heading\n",
    "    page.placeholders[1].text = subheading\n",
    "\n",
    "def content_page(powerpoint, content, heading, subheading):\n",
    "    page = powerpoint.slides.add_slide(content)\n",
    "    page.shapes.title.text = heading\n",
    "    page.placeholders[1].text = subheading\n",
    "\n",
    "\n",
    "def image_page(powerpoint, img_path, left, top):\n",
    "    page = powerpoint.slides.add_slide(content)\n",
    "    page.shapes.add_picture(img_path, left, top, width = 10, height=10)\n",
    "   \n",
    "title_page(powerpoint, title, \"This is a demo File\", \"Created on vacations\")\n",
    "\n",
    "content_page(powerpoint, content, \"Demo File\", \"Here goes the main content...\")\n",
    "\n",
    "\n",
    "left = top = Inches(1)\n",
    "image_page(powerpoint, \"../api/assets/generated_images/2025-02-27-14-58-20/genai_img_9a12a22b-ccdf-4828-bfdd-9cac4971f474.jpg\", left, top)\n",
    "\n",
    "\n",
    "\n",
    "powerpoint.save(\"my_file.pptx\")\n"
   ]
  }
 ],
 "metadata": {
  "kernelspec": {
   "display_name": ".venv",
   "language": "python",
   "name": "python3"
  },
  "language_info": {
   "codemirror_mode": {
    "name": "ipython",
    "version": 3
   },
   "file_extension": ".py",
   "mimetype": "text/x-python",
   "name": "python",
   "nbconvert_exporter": "python",
   "pygments_lexer": "ipython3",
   "version": "3.11.0"
  }
 },
 "nbformat": 4,
 "nbformat_minor": 2
}

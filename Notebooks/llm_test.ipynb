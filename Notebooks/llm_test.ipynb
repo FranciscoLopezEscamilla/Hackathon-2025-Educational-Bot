{
 "cells": [
  {
   "cell_type": "code",
   "execution_count": 1,
   "metadata": {},
   "outputs": [],
   "source": [
    "import os\n",
    "from openai import AzureOpenAI\n",
    "\n",
    "api_key = os.getenv('AZURE_OPENAI_KEY')\n",
    "endpoint = os.getenv('AZURE_OPENAI_ENDPOINT')\n",
    "version = os.getenv('AZURE_OPENAI_VERSION')\n",
    "model = os.getenv('GPT_DEPLOYMENT_NAME')\n",
    "\n",
    "client = AzureOpenAI(\n",
    "                azure_endpoint=endpoint,\n",
    "                api_key=api_key,\n",
    "                api_version=version\n",
    "            )"
   ]
  },
  {
   "cell_type": "code",
   "execution_count": 16,
   "metadata": {},
   "outputs": [],
   "source": [
    "functions = [\n",
    "    {\n",
    "        \"type\":\"function\",\n",
    "        \"function\" :{\n",
    "            \"name\": \"summarize_text\",\n",
    "            \"description\" : \"summarize text into sections\",\n",
    "            \"strict\": True,\n",
    "            \"parameters\":{\n",
    "                \"type\": \"object\",\n",
    "                \"properties\":{\n",
    "                    \"summary\":{\n",
    "                        \"type\": \"string\",\n",
    "                        \"description\": \"Summary of the text divided into sections\"\n",
    "                    }\n",
    "                },\n",
    "                \"required\":[\"summary\"],\n",
    "                \"additionalProperties\": False\n",
    "            }    \n",
    "        }\n",
    "    }\n",
    "    ]"
   ]
  },
  {
   "cell_type": "code",
   "execution_count": 2,
   "metadata": {},
   "outputs": [],
   "source": [
    "def get_completion(messages: list, temperature:float = 0.7) -> str:\n",
    "    \n",
    "        completion = client.chat.completions.create(\n",
    "            model = model, \n",
    "            messages=messages,\n",
    "            temperature=temperature,\n",
    "            #tools=functions,\n",
    "            #tool_choice={\"type\": \"function\", \"function\": {\"name\": \"summarize_text\"}}\n",
    "        )\n",
    "\n",
    "        return completion.choices[0].message.content#tool_calls[0].function.arguments"
   ]
  },
  {
   "cell_type": "markdown",
   "metadata": {},
   "source": [
    "## agents solution\n",
    "\n",
    "1. Topic choice\n",
    "2. Function to identify what kind of outcome is the user expecting (pptx, pdf, image with text (display))\n",
    "3. Receive as input one of the previous categories (category = \"pdf\")\n",
    "4. Decide which prompts to use based on output of previous function.\n"
   ]
  },
  {
   "cell_type": "code",
   "execution_count": 3,
   "metadata": {},
   "outputs": [],
   "source": [
    "summarization_text_prompt = '''You're going to receive two inputs, a context and a user query.\n",
    "Please read and understand the context below delimited by triple backticks and the user query and follow the next instructions.\n",
    "\n",
    "### CONTEXT ###\n",
    "```{context}```\n",
    "\n",
    "### QUERY ###\n",
    "```{query}```\n",
    "\n",
    "Follow this instructions:\n",
    "### INSTRUCTIONS ###\n",
    "1. Read carefully and understand the context\n",
    "2. Create a summary of the context. The summary must have the most important elements on the text.\n",
    "3. Make sure that the summary contains the necessary information that the user is looking for in the query.\n",
    "4. Split your summary into sections and short paragraphs.\n",
    "\n",
    "Return a string with a valid json format. Use the sections as key names. Do not include the word 'json' as part of your respond.\n",
    "'''"
   ]
  },
  {
   "cell_type": "code",
   "execution_count": 4,
   "metadata": {},
   "outputs": [],
   "source": [
    "text = \"\"\"\n",
    "\"[69] \\n \\nREFERENCES \\n \\nA., A. (2023). The Renaissance of Creativity: Exploring the Impact of Generative AI in the Creative \\nIndustry. https://www.linkedin.com/pulse/renaissance -creativity-exploring-impact-generative-ai-\\nadam \\nAela, E. (2023, April 1). Artificial Intelligence: How AI is Changing Art. \\nhttps://aelaschool.com/en/art/artificial-intelligence-art-changes/ \\nAhmed, R. (2023). The Future of Art and Creativity in the Age of AI. \\nhttps://www.linkedin.com/pulse/future-art-creativity-age-ai-rohan-ahmed \\nGwafan, D. (2023). Python Programming Language: A Versatile and Powerful Tool for Modern \\nDevelopment. https://www.linkedin.com/pulse/python -programming-language-versatile-powerful-\\ntool-modern-gwafan \\nGenerative art. (2023). In Wikipedia. \\nhttps://en.wikipedia.org/w/index.php?title=Generative_art&oldid=1176498478 \\nHarwell, D. (2022). He used AI art from Midjourney to win a fine -arts prize. Did he cheat? - The \\nWashington Post. https://www.washingtonpost.com/technology/2022/09/02/midjourney -artificial-\\nintelligence-state-fair-colorado/ \\nMahadik, S. (2023). Transformation of Creative Industries with Generative AI. \\nhttps://www.linkedin.com/pulse/transformation-creative-industries-generative-ai-sandesh-mahadik \\nMatplotlib. (2023). In Wikipedia. \\nhttps://en.wikipedia.org/w/index.php?title=Matplotlib&oldid=1177283978 \\nNigeria,  consistent_hippopotamus | R. C. A. |. (2023). Artists are not happy with the existence of AI. \\nTopical Talk. https://talk.economistfoundation.org/festivals/festival-2023/ai-and-the-arts/artists-are-\\nnot-happy-with-the-existence-of-ai/ \\nNumPy. (2023). In Wikipedia. https://en.wikipedia.org/w/index.php?title=NumPy&oldid=1174952220 \\nPearson, M. (2011). Generative art, a practical guide using processing. \\nPip (package manager). (2023). In Wikipedia. \\nhttps://en.wikipedia.org/w/index.php?title=Pip_(package_manager)&oldid=1161551744 \\nPyCharm. (2023). In Wikipedia. \\nhttps://en.wikipedia.org/w/index.php?title=PyCharm&oldid=1172673606 \\nPython, R. (2023). The Beginner’s Guide to Python Turtle – Real Python. \\nhttps://realpython.com/beginners-guide-python-turtle/ \\nTempel, M. (2017). Generative art for all. Journal of Innovation and Entrepreneurship , 6(1). \\nhttps://www.academia.edu/88354378/Generative_art_for_all\\n\\n[59] \\n \\nproduce more advanced and higher-quality work and has helped visual artists produce art. AI \\nis modernizing some processes, but it still requires human involvement to create something \\nuseful and, most importantly, interesting. Therefore, AI can be seen as a tool that complements \\nand enhances the work of designers and artists to make their work more productive and efficient. \\nDesigners can fill the gap between human touch and creativity, which is fundamental to the \\nartwork. Unlike computers, artists are endowe d with their own emotions and unique \\nperspectives (Nigeria, 2023). \\nGenerative art, also known as procedural art or algorithmic art, is a form of art that \\ncreates itself independently. This can take the form of mathematical functions that create \\ngeometric and precisely calculated works of art. In other cases, chance takes control and creates \\nchaotic artworks that incorporate abstract styles. In many cases, digital artists combine the two. \\nGenerative art comes in a variety of forms, from music to literature to digital graphics. By \\ndefinition, generative art is a form of art that is either entirely or partially created using an \\nautonomous system. Generative art is a unique combination of computer science and art. This \\nsystem can be represented by any type of algorithm: mathematical, mechanical, or biological. \\nGenerative art creation usually involves a programming language with the use of codes. \\nSimilarly, generative content that uses AI uses prompt technology to generate the desired \\ninformation. Investigating the Python programming language for generating artwo rk will \\ncontribute to the understanding of generative art and provide important and meaningful insights \\ninto artificial intelligence. \\nThis type of art is often inspired by modern art, especially Pop Art, which relies heavily \\non ordered geometric patterns. However, it is a very broad and rich category of art that has one \\ncentral characteristic. Generative art in some way involves a self -governing or autonomous \\nsystem. \\nChance is a kind of autonomous system. By incorporating chance into a piece of code \\nart, different unique pieces of art are generated each time the script is executed or in response \\nto the user's interaction. This can create different types of ideas that are available for selection. \\nThis randomness can also be orderly and autonomous or the integration of mixing and chaos. \\nAutonomous or generative art is not rejecting creativity, it finds creativity through \\ndifferent fields by building art pieces through coding. Artists may argue that generative arts will \\nkill manual art eventually. A game designer from Colorado USA recently took home the first \\nprize in the digital arts or digitally manipulated photography category at the Colorado State Fair \\nFine Arts Competition. His winning image was made with Midjourney - an Artificial \\nIntelligence system that can come up with images at a prompt. The win was met with resistance \\nas many would argue that using AI would be as easy as typing prompts. However, to come up \\nwith such complicated imagery, there were a lot of things involved. It took more than 80 hours. \\nThis example of generative art does not involve any coding but uses prompts, tweaks, light \\nadjustments, and Photoshop to come up with the final art piece which initially needed 900 \\niterations apart from using more AI programs to improve resolution (Harwell, 2022). \\n \\nRESEARCH QUESTIONS \\n1. What is generative art, and how can Python programming language be utilized \\nin its creation? \\nGenerative art is a form of digital art that uses algorithms, often aided by computers and \\nsoftware, to create artwork. Rather than creating art manually through traditional techniques \\nsuch as painting or sculpting, generative artists write code that defin es rules, processes, and\\n\\n[58] \\n \\n \\n \\nUNDERSTANDING OF GENERATIVE ART WITH ‘PYTHON’ \\nPROGRAMMING \\n \\n \\nTeddy Marius Soikun1* \\n \\n1Academy of Arts and Creative Technology,  \\nUniversity Malaysia Sabah, 88400 Kota Kinabalu, Malaysia  \\n*tsoikun@ums.edu.my \\n \\nReceived: 21 June 2023 | Revised: 10 July 2023  \\nAccepted: 30 September 2023 / Published: 20 December 2023 \\nDOI: https://10.51200/ga.v13i2.4735     \\n \\n \\nABSTRACT \\nThe article uses the Python programming language to introduce generative arts as an alternative \\nto conventional art and design. Understanding generative arts in the age of Artificial \\nIntelligence (AI) is seen as a way forward to remain relevant. Through the use of a practice -\\nbased research methodology, the article explores principles, processes, and tools for generating \\nart through coding. Practical samples are used to demonstrate the potential of generative art \\nthrough basic coding examples. This research also highlights the role of generative art in \\nfostering interdisciplinary collaboration and transcending the boundaries of conventional art \\nforms. \\nKeywords: Generative Arts, Python, Artificial Intelligence \\n \\nINTRODUCTION \\nThe computer plays a very important role in our life nowadays. Almost every task is connected \\nto the computer. From ordering groceries online to using public transportation to driving a car \\nor communicating with other people. One part that plays an even mo re important role in \\ntechnology is artificial intelligence. Although it has been with us for quite some time, the term \\nstill inspires fear and awe. Most of us are still wondering about its potential and future. AI can \\nbe used in managing traffic routes, pr oducts, movies, and location suggestions, and as virtual \\nassistants such as chatbots, search engines, banks, and so on (Aela, 2023). \\nRecently, the art world has been transformed by the advent of technology, especially \\nAI and generative arts. Many types of art can now be easily made with the help of a computer. \\nWith the advancement of AI, many high -quality artworks can be created with less time and \\nresources. The technology has achieved significant results in generating visual, animated, and \\naudio content (Hodgkins, 2023). \\nAI is more or less comparable to the advent of photography more than a hundred years \\nago. Everyone was shocked when it first appeared. However, it has become a tool for artists to\\n\\n[65] \\n \\nsimple generative art piece may give insights into how the technology works and may \\nlead to the understanding of AI generative content in art.  \\n Explanation  Sample codes \\n1 Python must be installed in the \\ncomputer as well as the \\nrequired libraries. matplotlib is \\ninstalled using pip: \\n \\n2 Following PBR, the researcher \\ndefine the generative art piece. \\nThe art piece should be pixel \\nbased coloured concept. This \\nis designed for a digital poster \\nbackground.  \\n \\n3 To use the Python’s library, it \\nmust be installed in the \\ncomputer. It is then imported \\nin the current project. The \\nresearcher uses matplotlib for \\nplotting and numpy for \\nnumerical operations. \\n \\n4 Because it is an artpiece, \\nsimilarly to some design \\nsoftware, a blank canvas \\nshould be created. NumPy is \\nused with the specified width \\nand height. \\n \\n5 The art is generated by \\nmanipulating the canvas. \\n \\nThe parameters are defined by \\nthe spiral and iterate through a \\nrange of points. For each \\npoint, the position is \\ncalculated using polar \\ncoordinates, and a random \\ncolor is assigned to it. \\n \\n \\n6 Matplotlib is used to display \\nthe generated art. The axis are \\nturned off to make it purely \\nvisual.\"\n",
    "\"\"\""
   ]
  },
  {
   "cell_type": "code",
   "execution_count": 5,
   "metadata": {},
   "outputs": [],
   "source": [
    "user_prompt = summarization_text_prompt.format(context = text, query = \"generative ai\")\n",
    "\n",
    "messages = [{\"role\":\"user\", \"content\":user_prompt}]\n",
    "\n",
    "summary = get_completion(messages)"
   ]
  },
  {
   "cell_type": "code",
   "execution_count": 58,
   "metadata": {},
   "outputs": [
    {
     "name": "stdout",
     "output_type": "stream",
     "text": [
      "Changing your car's engine oil is a crucial maintenance task that helps ensure the longevity and optimal performance of your vehicle. Below is a detailed step-by-step guide to help you through the process:\n",
      "\n",
      "### Tools and Materials Needed:\n",
      "\n",
      "1. **Tools:**\n",
      "   - Socket wrench or ratchet set\n",
      "   - Oil filter wrench\n",
      "   - Funnel\n",
      "   - Oil drain pan\n",
      "   - Rags or paper towels\n",
      "   - Jack and jack stands (or ramps)\n",
      "\n",
      "2. **Materials:**\n",
      "   - New engine oil (check your owner's manual for the correct type and amount)\n",
      "   - New oil filter\n",
      "   - Oil filter gasket (if needed)\n",
      "   - Oil drain pan (if not using one already)\n",
      "   - Gloves (optional)\n",
      "   - Safety glasses (optional)\n",
      "\n",
      "### Step-by-Step Process:\n",
      "\n",
      "#### 1. Preparation:\n",
      "   - **Check the Owner's Manual:** Before you start, refer to your vehicle's owner manual for specific oil change recommendations, including the type of oil and filter required.\n",
      "   - **Gather Materials:** Make sure you have all necessary tools and materials on hand.\n",
      "\n",
      "#### 2. Safety First:\n",
      "   - **Park on a Level Surface:** Ensure your car is parked on a flat, stable surface.\n",
      "   - **Engage the Parking Brake:** Activate the parking brake to prevent the vehicle from rolling.\n",
      "   - **Wear Protective Gear:** Use gloves and safety glasses if desired.\n",
      "\n",
      "#### 3. Lift the Vehicle (if necessary):\n",
      "   - **Use a Jack:** If your vehicle has low clearance, use a jack to lift it. Secure it with jack stands or drive it onto ramps for better access to the oil pan.\n",
      "\n",
      "#### 4. Drain the Old Oil:\n",
      "   - **Locate the Oil Drain Plug:** Locate the oil drain plug on the bottom of the oil pan.\n",
      "   - **Place the Drain Pan:** Position the oil drain pan under the drain plug.\n",
      "   - **Remove the Drain Plug:** Use a socket wrench to loosen and remove the drain plug. Be cautious as the oil may be hot.\n",
      "   - **Allow Oil to Drain:** Let the old oil completely drain into the pan. This may take a few minutes.\n",
      "\n",
      "#### 5. Replace the Oil Filter:\n",
      "   - **Identify the Oil Filter:** Locate the oil filter (it may be above or below the engine).\n",
      "   - **Remove the Old Filter:** Use an oil filter wrench to loosen and remove the oil filter. Be prepared for some oil to spill out as you remove it.\n",
      "   - **Prepare the New Filter:** Before installing the new filter, apply a bit of new oil to the rubber gasket on the top of the new filter. This helps create a better seal.\n",
      "   - **Install the New Filter:** Screw on the new filter by hand. Ensure it is snug but do not overtighten, as this can damage the gasket.\n",
      "\n",
      "#### 6. Replace the Drain Plug:\n",
      "   - **Reinstall the Drain Plug:** Once all the oil has drained, replace the drain plug and tighten it securely with a wrench. Be careful not to overtighten, which can strip the threads.\n",
      "\n",
      "#### 7. Add New Engine Oil:\n",
      "   - **Open the Oil Filler Cap:** Locate and remove the oil filler cap on the top of the engine.\n",
      "   - **Use a Funnel:** Place a funnel in the opening to avoid spills.\n",
      "   - **Pour in New Oil:** Pour in the new engine oil according to the amount specified in the owner's manual. Usually, this is between 4 to 6 quarts, depending on the engine size.\n",
      "   - **Replace the Oil Cap:** Once the oil is added, securely replace the oil filler cap.\n",
      "\n",
      "#### 8. Check Oil Level:\n",
      "   - **Start the Engine:** Start your vehicle and let it idle for a few minutes. This allows the new oil to circulate.\n",
      "   - **Check for Leaks:** Inspect the area around the oil filter and drain plug for any leaks.\n",
      "   - **Turn Off the Engine:** After a few minutes, turn off the engine and wait a minute for the oil to settle.\n",
      "   - **Use the Dipstick:** Remove the dipstick, wipe it clean, reinsert it, then remove it again to check the oil level. Add more oil if necessary.\n",
      "\n",
      "#### 9. Dispose of Old Oil:\n",
      "   - **Dispose Properly:** Take the used oil and oil filter to a recycling center or an auto parts store that accepts used oil for recycling. Do not pour it down the drain or throw it in the trash.\n",
      "\n",
      "### Final Checks:\n",
      "- **Start the Engine Again:** After verifying everything is secure, start your vehicle again and let it run for a few minutes. Check for leaks one more time.\n",
      "- **Reset Oil Change Light (if applicable):** If your vehicle has an oil change reminder light, refer to the owner's manual on how to reset it.\n",
      "\n",
      "This process may take approximately 30 minutes to an hour, depending on your experience and whether you encounter any issues. Regular oil changes (typically every 5,000 to 7,500 miles, depending on oil type and vehicle) are essential to keep your engine running smoothly.\n"
     ]
    }
   ],
   "source": [
    "instruct = \"\"\"\n",
    "Describe in detail the process of changing my car's engine oil.\n",
    "\"\"\"\n",
    "\n",
    "messages = [{\"role\": \"user\", \"content\": instruct}]\n",
    "\n",
    "result = get_completion(messages)\n",
    "\n",
    "print(result)"
   ]
  },
  {
   "cell_type": "code",
   "execution_count": 60,
   "metadata": {},
   "outputs": [
    {
     "name": "stdout",
     "output_type": "stream",
     "text": [
      "\"An illustration of the step-by-step process of changing a car's engine oil: 1) Tools and materials laid out on a garage floor, including a wrench set, oil filter wrench, funnel, oil drain pan, and new engine oil. 2) A car parked on a level surface with the parking brake engaged. 3) The car lifted with a jack and secured with jack stands. 4) A person draining old oil from the oil pan into a drain pan, wearing gloves. 5) Removing the old oil filter with an oil filter wrench. 6) Installing a new oil filter, applying oil to the gasket. 7) Replacing the drain plug after draining. 8) Pouring new engine oil into the engine using a funnel. 9) Checking the oil level with a dipstick. 10) Properly disposing of old oil at a recycling center. Show a clean, organized garage environment with bright lighting.\"\n"
     ]
    }
   ],
   "source": [
    "prompt2 = f\"\"\"\n",
    "Below there's a text that describes the process of how to change the car's engine oil.\n",
    "\n",
    "Understand the text and create a short sentece that sums up the text.\n",
    "\n",
    "Create your summary as if you were describing a process and then create a draw of it.\n",
    "Be as specific as you can, the text you generate is going to be used as prompt to a dalle-3 model to generate images.\n",
    "\n",
    "###TEXT###\n",
    "{result}\n",
    "\n",
    "return only the drawing prompt for dall-e 3\n",
    "\"\"\"\n",
    "\n",
    "messages = [{\"role\": \"user\", \"content\": prompt2}]\n",
    "\n",
    "description = get_completion(messages)\n",
    "\n",
    "print(description)"
   ]
  },
  {
   "cell_type": "code",
   "execution_count": 61,
   "metadata": {},
   "outputs": [
    {
     "data": {
      "text/plain": [
       "'\"An illustration of the step-by-step process of changing a car\\'s engine oil: 1) Tools and materials laid out on a garage floor, including a wrench set, oil filter wrench, funnel, oil drain pan, and new engine oil. 2) A car parked on a level surface with the parking brake engaged. 3) The car lifted with a jack and secured with jack stands. 4) A person draining old oil from the oil pan into a drain pan, wearing gloves. 5) Removing the old oil filter with an oil filter wrench. 6) Installing a new oil filter, applying oil to the gasket. 7) Replacing the drain plug after draining. 8) Pouring new engine oil into the engine using a funnel. 9) Checking the oil level with a dipstick. 10) Properly disposing of old oil at a recycling center. Show a clean, organized garage environment with bright lighting.\"'"
      ]
     },
     "execution_count": 61,
     "metadata": {},
     "output_type": "execute_result"
    }
   ],
   "source": [
    "description"
   ]
  },
  {
   "cell_type": "code",
   "execution_count": 40,
   "metadata": {},
   "outputs": [],
   "source": [
    "clean_sum = summary.replace(\"`\", \"\").replace(\"json\",\"\")"
   ]
  },
  {
   "cell_type": "code",
   "execution_count": 7,
   "metadata": {},
   "outputs": [],
   "source": [
    "import json\n",
    "\n",
    "sum_json = json.loads(summary)"
   ]
  },
  {
   "cell_type": "code",
   "execution_count": 8,
   "metadata": {},
   "outputs": [
    {
     "data": {
      "text/plain": [
       "{'Definition': 'Generative AI refers to a form of art, known as generative art, which is created using algorithms and autonomous systems. It combines elements of computer science and art, allowing artists to produce works through coding instead of traditional manual techniques.',\n",
       " 'Role of AI in Art': 'AI is transforming the creative industries by enabling artists to produce high-quality artworks more efficiently. While AI serves as a powerful tool for enhancing artistic productivity, it still requires human involvement to infuse creativity and emotional depth into the artwork.',\n",
       " 'Generative Art Characteristics': 'Generative art can take various forms, including visual art, music, and literature. It often involves randomness and can produce unique pieces each time a script is executed. The art is generated through coding, utilizing programming languages like Python, which allows for manipulation of digital canvases and incorporation of complex algorithms.',\n",
       " 'Python and Generative Art': 'The Python programming language plays a significant role in creating generative art. Artists can use libraries such as Matplotlib and NumPy to define rules and processes for generating art. Practical coding examples demonstrate the potential of Python in producing visually appealing digital art.',\n",
       " 'Interdisciplinary Collaboration': 'Generative art fosters interdisciplinary collaboration, breaking the boundaries of conventional art forms. It encourages the integration of technology and creativity, making it essential for artists to remain relevant in the modern landscape influenced by AI.'}"
      ]
     },
     "execution_count": 8,
     "metadata": {},
     "output_type": "execute_result"
    }
   ],
   "source": [
    "sum_json"
   ]
  },
  {
   "cell_type": "code",
   "execution_count": 12,
   "metadata": {},
   "outputs": [],
   "source": [
    "import json\n",
    "\n",
    "json_output = \"\"\"\n",
    "\"text\" : \"{\n",
    "    \"abstract\": \"The article discusses the use of Python programming to explore generative art as a modern approach to art and design influenced by Artificial Intelligence (AI). It emphasizes the relevance of understanding generative art and its processes, highlighting the potential for interdisciplinary collaboration.\",\n",
    "    \"introduction\": \"The rise of technology, particularly AI, has transformed the art world, allowing for the creation of high-quality artworks efficiently. Generative art, which is created through algorithms and autonomous systems, merges art and computer science, enabling both randomness and structured creativity.\",\n",
    "    \"generative_art\": \"Generative art involves the creation of artworks through coded algorithms, contrasting with traditional art forms. It can include various art types and often relies on the use of programming languages like Python, which offers libraries such as Pygame and Processing.py for artists to create visual and interactive pieces.\",\n",
    "    \"python_usage\": \"Python is favored for generative art due to its simplicity, extensive libraries, and readability. Artists can generate artworks through algorithms that define rules and parameters. Examples include fractal patterns, particle systems, and neural networks, each providing unique visual outputs based on coded instructions.\",\n",
    "    \"conclusion\": \"By utilizing Python, artists can leverage technology to enhance creativity and produce innovative art forms. Generative art exemplifies the interplay between human creativity and machine capabilities, fostering new artistic expressions through coding.\"\n",
    "}\"\n",
    "\"\"\"\n",
    "\n",
    "#res = json.loads(json_output)"
   ]
  },
  {
   "cell_type": "code",
   "execution_count": 13,
   "metadata": {},
   "outputs": [
    {
     "name": "stdout",
     "output_type": "stream",
     "text": [
      "```json\n",
      "[\"abstract\", \"introduction\", \"generative_art\", \"python_usage\", \"conclusion\"]\n",
      "```\n"
     ]
    }
   ],
   "source": [
    "description_prompt = f\"\"\"You will receive an input text in json format.\n",
    "Your task is to identify the keys and return them as a list.\n",
    "\n",
    "### INPUT TEXT ###\n",
    "{json_output}\n",
    "\n",
    "return only the list.\n",
    "\"\"\"\n",
    "\n",
    "messages = [{\"role\":\"user\", \"content\":description_prompt}]\n",
    "\n",
    "keys = get_completion(messages)\n",
    "print(keys)"
   ]
  },
  {
   "cell_type": "code",
   "execution_count": 29,
   "metadata": {},
   "outputs": [],
   "source": [
    "jj = \"\"\"\n",
    "```json\\n{\\n  \\\"overview\\\": \\\"The article highlights how Python programming serves as a modern alternative to traditional art forms through the creation of generative art, focusing on the principles, processes, and tools essential for art generation using coding and artificial intelligence.\\\",\\n  \\\"important_concepts\\\": \\\"Generative art is defined as artworks produced by autonomous systems or algorithms, primarily using programming languages like Python, emphasizing the importance of algorithms in establishing creative rules, the role of randomness in art, and the synergy between human creativity and computational power.\\\",\\n  \\\"features\\\": \\\"Python is preferred for generating art due to its user-friendly nature and a wide range of libraries, including Pygame, Processing.py, and Turtle Graphics, enabling artists to create stunning visuals, animations, and interactive experiences, such as fractal patterns, particle system simulations, and realistic image generation through neural networks.\\\",\\n  \\\"relevance\\\": \\\"Generative art challenges conventional ideas about authorship and creativity, encouraging a fresh perspective on the interplay between human and machine-generated art, fostering collaboration between artists and programmers, and demonstrating the transformative impact of technology on artistic expression.\\\",\\n  \\\"conclusion\\\": \\\"Utilizing Python for generative art empowers artists to innovate and express themselves by exploiting algorithms and computational systems, allowing for the creation of distinctive and intricate artworks that fuse creativity with cutting-edge technology.\\\"\\n}\\n```\n",
    "\"\"\"\n",
    "\n",
    "kk = jj.replace(\"`\", \"\").replace(\"json\",\"\").replace(\",\",\" \")"
   ]
  },
  {
   "cell_type": "code",
   "execution_count": 57,
   "metadata": {},
   "outputs": [
    {
     "data": {
      "text/plain": [
       "'../api/assets/generated_images\\\\2025-02-27-14-57-00'"
      ]
     },
     "execution_count": 57,
     "metadata": {},
     "output_type": "execute_result"
    }
   ],
   "source": [
    "from datetime import datetime\n",
    "\n",
    "images_folder = \"../api/assets/generated_images\"\n",
    "\n",
    "sub_folder = (datetime.today().strftime('%Y-%m-%d %H:%M:%S')).replace(\" \",\"-\").replace(\":\",\"-\")\n",
    "images_path = os.path.join(images_folder,sub_folder)\n",
    "\n",
    "if not os.path.exists(images_path):\n",
    "   os.makedirs(images_path) \n",
    "\n",
    "images_path"
   ]
  },
  {
   "cell_type": "markdown",
   "metadata": {},
   "source": [
    "## pictures test"
   ]
  },
  {
   "cell_type": "code",
   "execution_count": 3,
   "metadata": {},
   "outputs": [],
   "source": [
    "from openai import AzureOpenAI\n",
    "\n",
    "openai_api_key = os.getenv('AZURE_OPENAI_API_KEY')\n",
    "openai_api_base = os.getenv('AZURE_OPENAI_ENDPOINT')\n",
    "openai_api_version = os.getenv('AZURE_OPENAI_API_VERSION')\n",
    "dalle_model = os.getenv('GPT_IMAGES_DEPLOYMENT_NAME')\n",
    "gpt_model = os.getenv('AZURE_OPENAI_CHAT_DEPLOYMENT_NAME')\n",
    "\n",
    "llm = AzureOpenAI(\n",
    "    api_key=openai_api_key,\n",
    "    #model=gpt_model,\n",
    "    azure_endpoint = openai_api_base,\n",
    "    api_version=openai_api_version\n",
    ")"
   ]
  },
  {
   "cell_type": "code",
   "execution_count": 2,
   "metadata": {},
   "outputs": [],
   "source": [
    "\n",
    "\n",
    "import os\n",
    "\n",
    "openai_api_key = os.getenv('AZURE_OPENAI_API_KEY')\n",
    "openai_api_base = os.getenv('AZURE_OPENAI_ENDPOINT')\n",
    "openai_api_version = os.getenv('AZURE_OPENAI_API_VERSION')\n",
    "dalle_model = os.getenv('GPT_IMAGES_DEPLOYMENT_NAME')\n",
    "gpt_model = os.getenv('AZURE_OPENAI_CHAT_DEPLOYMENT_NAME')\n"
   ]
  },
  {
   "cell_type": "code",
   "execution_count": 4,
   "metadata": {},
   "outputs": [],
   "source": [
    "import base64\n",
    "\n",
    "def encode_image(image_path):\n",
    "    with open(image_path, \"rb\") as image_file:\n",
    "        return base64.b64encode(image_file.read()).decode('utf-8')"
   ]
  },
  {
   "cell_type": "code",
   "execution_count": null,
   "metadata": {},
   "outputs": [
    {
     "ename": "ValidationError",
     "evalue": "1 validation error for AzureOpenAI\n  Value error, As of openai>=1.0.0, Azure endpoints should be specified via the `azure_endpoint` param not `openai_api_base` (or alias `base_url`). [type=value_error, input_value={'model': 'dall-e-3', 'ap...m/', 'model_kwargs': {}}, input_type=dict]\n    For further information visit https://errors.pydantic.dev/2.10/v/value_error",
     "output_type": "error",
     "traceback": [
      "\u001b[1;31m---------------------------------------------------------------------------\u001b[0m",
      "\u001b[1;31mValidationError\u001b[0m                           Traceback (most recent call last)",
      "Cell \u001b[1;32mIn[11], line 15\u001b[0m\n\u001b[0;32m     12\u001b[0m gpt_model \u001b[38;5;241m=\u001b[39m os\u001b[38;5;241m.\u001b[39mgetenv(\u001b[38;5;124m\"\u001b[39m\u001b[38;5;124mAZURE_OPENAI_CHAT_DEPLOYMENT_NAME\u001b[39m\u001b[38;5;124m\"\u001b[39m)\n\u001b[0;32m     13\u001b[0m dalle_model \u001b[38;5;241m=\u001b[39m os\u001b[38;5;241m.\u001b[39mgetenv(\u001b[38;5;124m\"\u001b[39m\u001b[38;5;124mGPT_IMAGES_DEPLOYMENT_NAME\u001b[39m\u001b[38;5;124m\"\u001b[39m)\n\u001b[1;32m---> 15\u001b[0m dalle_client \u001b[38;5;241m=\u001b[39m \u001b[43mAzureOpenAI\u001b[49m\u001b[43m(\u001b[49m\n\u001b[0;32m     16\u001b[0m \u001b[43m          \u001b[49m\u001b[43mmodel\u001b[49m\u001b[43m \u001b[49m\u001b[38;5;241;43m=\u001b[39;49m\u001b[43m \u001b[49m\u001b[43mdalle_model\u001b[49m\u001b[43m,\u001b[49m\n\u001b[0;32m     17\u001b[0m \u001b[43m          \u001b[49m\u001b[43mapi_key\u001b[49m\u001b[38;5;241;43m=\u001b[39;49m\u001b[43mopenai_api_key\u001b[49m\u001b[43m,\u001b[49m\n\u001b[0;32m     18\u001b[0m \u001b[43m          \u001b[49m\u001b[43mapi_version\u001b[49m\u001b[38;5;241;43m=\u001b[39;49m\u001b[43mopenai_api_version\u001b[49m\u001b[43m,\u001b[49m\n\u001b[0;32m     19\u001b[0m \u001b[43m          \u001b[49m\u001b[43mbase_url\u001b[49m\u001b[38;5;241;43m=\u001b[39;49m\u001b[43mopenai_api_base\u001b[49m\n\u001b[0;32m     20\u001b[0m \u001b[43m    \u001b[49m\u001b[43m)\u001b[49m\n\u001b[0;32m     22\u001b[0m \u001b[38;5;28;01mdef\u001b[39;00m\u001b[38;5;250m \u001b[39m\u001b[38;5;21mlangchain_imgs\u001b[39m(prompt: \u001b[38;5;28mstr\u001b[39m):\n\u001b[0;32m     23\u001b[0m \u001b[38;5;250m        \u001b[39m\u001b[38;5;124;03m\"\"\"Generate images based on user queries\"\"\"\u001b[39;00m\n",
      "File \u001b[1;32mc:\\Users\\p.a.rodriguez.canedo\\Documents\\Hackaton_2025\\.venv\\Lib\\site-packages\\langchain_core\\load\\serializable.py:125\u001b[0m, in \u001b[0;36mSerializable.__init__\u001b[1;34m(self, *args, **kwargs)\u001b[0m\n\u001b[0;32m    123\u001b[0m \u001b[38;5;28;01mdef\u001b[39;00m\u001b[38;5;250m \u001b[39m\u001b[38;5;21m__init__\u001b[39m(\u001b[38;5;28mself\u001b[39m, \u001b[38;5;241m*\u001b[39margs: Any, \u001b[38;5;241m*\u001b[39m\u001b[38;5;241m*\u001b[39mkwargs: Any) \u001b[38;5;241m-\u001b[39m\u001b[38;5;241m>\u001b[39m \u001b[38;5;28;01mNone\u001b[39;00m:\n\u001b[0;32m    124\u001b[0m \u001b[38;5;250m    \u001b[39m\u001b[38;5;124;03m\"\"\"\"\"\"\u001b[39;00m\n\u001b[1;32m--> 125\u001b[0m     \u001b[38;5;28;43msuper\u001b[39;49m\u001b[43m(\u001b[49m\u001b[43m)\u001b[49m\u001b[38;5;241;43m.\u001b[39;49m\u001b[38;5;21;43m__init__\u001b[39;49m\u001b[43m(\u001b[49m\u001b[38;5;241;43m*\u001b[39;49m\u001b[43margs\u001b[49m\u001b[43m,\u001b[49m\u001b[43m \u001b[49m\u001b[38;5;241;43m*\u001b[39;49m\u001b[38;5;241;43m*\u001b[39;49m\u001b[43mkwargs\u001b[49m\u001b[43m)\u001b[49m\n",
      "File \u001b[1;32mc:\\Users\\p.a.rodriguez.canedo\\Documents\\Hackaton_2025\\.venv\\Lib\\site-packages\\pydantic\\main.py:214\u001b[0m, in \u001b[0;36mBaseModel.__init__\u001b[1;34m(self, **data)\u001b[0m\n\u001b[0;32m    212\u001b[0m \u001b[38;5;66;03m# `__tracebackhide__` tells pytest and some other tools to omit this function from tracebacks\u001b[39;00m\n\u001b[0;32m    213\u001b[0m __tracebackhide__ \u001b[38;5;241m=\u001b[39m \u001b[38;5;28;01mTrue\u001b[39;00m\n\u001b[1;32m--> 214\u001b[0m validated_self \u001b[38;5;241m=\u001b[39m \u001b[38;5;28;43mself\u001b[39;49m\u001b[38;5;241;43m.\u001b[39;49m\u001b[43m__pydantic_validator__\u001b[49m\u001b[38;5;241;43m.\u001b[39;49m\u001b[43mvalidate_python\u001b[49m\u001b[43m(\u001b[49m\u001b[43mdata\u001b[49m\u001b[43m,\u001b[49m\u001b[43m \u001b[49m\u001b[43mself_instance\u001b[49m\u001b[38;5;241;43m=\u001b[39;49m\u001b[38;5;28;43mself\u001b[39;49m\u001b[43m)\u001b[49m\n\u001b[0;32m    215\u001b[0m \u001b[38;5;28;01mif\u001b[39;00m \u001b[38;5;28mself\u001b[39m \u001b[38;5;129;01mis\u001b[39;00m \u001b[38;5;129;01mnot\u001b[39;00m validated_self:\n\u001b[0;32m    216\u001b[0m     warnings\u001b[38;5;241m.\u001b[39mwarn(\n\u001b[0;32m    217\u001b[0m         \u001b[38;5;124m'\u001b[39m\u001b[38;5;124mA custom validator is returning a value other than `self`.\u001b[39m\u001b[38;5;130;01m\\n\u001b[39;00m\u001b[38;5;124m'\u001b[39m\n\u001b[0;32m    218\u001b[0m         \u001b[38;5;124m\"\u001b[39m\u001b[38;5;124mReturning anything other than `self` from a top level model validator isn\u001b[39m\u001b[38;5;124m'\u001b[39m\u001b[38;5;124mt supported when validating via `__init__`.\u001b[39m\u001b[38;5;130;01m\\n\u001b[39;00m\u001b[38;5;124m\"\u001b[39m\n\u001b[0;32m    219\u001b[0m         \u001b[38;5;124m'\u001b[39m\u001b[38;5;124mSee the `model_validator` docs (https://docs.pydantic.dev/latest/concepts/validators/#model-validators) for more details.\u001b[39m\u001b[38;5;124m'\u001b[39m,\n\u001b[0;32m    220\u001b[0m         stacklevel\u001b[38;5;241m=\u001b[39m\u001b[38;5;241m2\u001b[39m,\n\u001b[0;32m    221\u001b[0m     )\n",
      "\u001b[1;31mValidationError\u001b[0m: 1 validation error for AzureOpenAI\n  Value error, As of openai>=1.0.0, Azure endpoints should be specified via the `azure_endpoint` param not `openai_api_base` (or alias `base_url`). [type=value_error, input_value={'model': 'dall-e-3', 'ap...m/', 'model_kwargs': {}}, input_type=dict]\n    For further information visit https://errors.pydantic.dev/2.10/v/value_error"
     ]
    }
   ],
   "source": [
    "from langchain.chains import LLMChain\n",
    "from langchain_community.utilities.dalle_image_generator import DallEAPIWrapper\n",
    "from langchain_core.prompts import PromptTemplate\n",
    "import os\n",
    "from langchain_openai import AzureOpenAIEmbeddings, AzureOpenAI\n",
    "#from openai import AzureOpenAI\n",
    "\n",
    "openai_api_key = os.getenv('AZURE_OPENAI_API_KEY')\n",
    "openai_api_base = os.getenv('AZURE_OPENAI_ENDPOINT')\n",
    "openai_api_version = os.getenv('AZURE_OPENAI_API_VERSION')\n",
    "embeddings_model = os.getenv('AZURE_OPENAI_EMBEDDING_DEPLOYMENT_NAME')\n",
    "gpt_model = os.getenv(\"AZURE_OPENAI_CHAT_DEPLOYMENT_NAME\")\n",
    "dalle_model = os.getenv(\"GPT_IMAGES_DEPLOYMENT_NAME\")\n",
    "\n",
    "dalle_client = AzureOpenAI(\n",
    "          model = dalle_model,\n",
    "          api_key=openai_api_key,\n",
    "          api_version=openai_api_version,\n",
    "          azure_endpoit=openai_api_base\n",
    "    )\n",
    "\n",
    "def langchain_imgs(prompt: str):\n",
    "        \"\"\"Generate images based on user queries\"\"\"\n",
    "\n",
    "        prompt_ = PromptTemplate(\n",
    "            input_variables=[\"image_desc\"],\n",
    "            template=\"Generate a detailed prompt to generate an image based on the following query: {image_desc}\",\n",
    "        )\n",
    "\n",
    "        chain = LLMChain(llm=dalle_client, prompt=prompt_)\n",
    "\n",
    "        img_url = DallEAPIWrapper().run(chain.run(prompt))\n",
    "\n",
    "        return img_url"
   ]
  },
  {
   "cell_type": "code",
   "execution_count": 17,
   "metadata": {},
   "outputs": [
    {
     "data": {
      "text/plain": [
       "'dall-e-3'"
      ]
     },
     "execution_count": 17,
     "metadata": {},
     "output_type": "execute_result"
    }
   ],
   "source": [
    "dalle_model"
   ]
  },
  {
   "cell_type": "code",
   "execution_count": 15,
   "metadata": {},
   "outputs": [],
   "source": [
    "dalle_client = AzureOpenAI(\n",
    "          model = dalle_model,\n",
    "          api_key=openai_api_key,\n",
    "          api_version=openai_api_version,\n",
    "          azure_endpoint=openai_api_base\n",
    "    )"
   ]
  },
  {
   "cell_type": "code",
   "execution_count": 16,
   "metadata": {},
   "outputs": [
    {
     "ename": "NotFoundError",
     "evalue": "Error code: 404 - {'error': {'code': '404', 'message': 'Resource not found'}}",
     "output_type": "error",
     "traceback": [
      "\u001b[1;31m---------------------------------------------------------------------------\u001b[0m",
      "\u001b[1;31mNotFoundError\u001b[0m                             Traceback (most recent call last)",
      "Cell \u001b[1;32mIn[16], line 1\u001b[0m\n\u001b[1;32m----> 1\u001b[0m \u001b[43mdalle_client\u001b[49m\u001b[38;5;241;43m.\u001b[39;49m\u001b[43minvoke\u001b[49m\u001b[43m(\u001b[49m\u001b[38;5;124;43m\"\u001b[39;49m\u001b[38;5;124;43mhello\u001b[39;49m\u001b[38;5;124;43m\"\u001b[39;49m\u001b[43m)\u001b[49m\n",
      "File \u001b[1;32mc:\\Users\\p.a.rodriguez.canedo\\Documents\\Hackaton_2025\\.venv\\Lib\\site-packages\\langchain_core\\language_models\\llms.py:387\u001b[0m, in \u001b[0;36mBaseLLM.invoke\u001b[1;34m(self, input, config, stop, **kwargs)\u001b[0m\n\u001b[0;32m    377\u001b[0m \u001b[38;5;28;01mdef\u001b[39;00m\u001b[38;5;250m \u001b[39m\u001b[38;5;21minvoke\u001b[39m(\n\u001b[0;32m    378\u001b[0m     \u001b[38;5;28mself\u001b[39m,\n\u001b[0;32m    379\u001b[0m     \u001b[38;5;28minput\u001b[39m: LanguageModelInput,\n\u001b[1;32m   (...)\u001b[0m\n\u001b[0;32m    383\u001b[0m     \u001b[38;5;241m*\u001b[39m\u001b[38;5;241m*\u001b[39mkwargs: Any,\n\u001b[0;32m    384\u001b[0m ) \u001b[38;5;241m-\u001b[39m\u001b[38;5;241m>\u001b[39m \u001b[38;5;28mstr\u001b[39m:\n\u001b[0;32m    385\u001b[0m     config \u001b[38;5;241m=\u001b[39m ensure_config(config)\n\u001b[0;32m    386\u001b[0m     \u001b[38;5;28;01mreturn\u001b[39;00m (\n\u001b[1;32m--> 387\u001b[0m         \u001b[38;5;28;43mself\u001b[39;49m\u001b[38;5;241;43m.\u001b[39;49m\u001b[43mgenerate_prompt\u001b[49m\u001b[43m(\u001b[49m\n\u001b[0;32m    388\u001b[0m \u001b[43m            \u001b[49m\u001b[43m[\u001b[49m\u001b[38;5;28;43mself\u001b[39;49m\u001b[38;5;241;43m.\u001b[39;49m\u001b[43m_convert_input\u001b[49m\u001b[43m(\u001b[49m\u001b[38;5;28;43minput\u001b[39;49m\u001b[43m)\u001b[49m\u001b[43m]\u001b[49m\u001b[43m,\u001b[49m\n\u001b[0;32m    389\u001b[0m \u001b[43m            \u001b[49m\u001b[43mstop\u001b[49m\u001b[38;5;241;43m=\u001b[39;49m\u001b[43mstop\u001b[49m\u001b[43m,\u001b[49m\n\u001b[0;32m    390\u001b[0m \u001b[43m            \u001b[49m\u001b[43mcallbacks\u001b[49m\u001b[38;5;241;43m=\u001b[39;49m\u001b[43mconfig\u001b[49m\u001b[38;5;241;43m.\u001b[39;49m\u001b[43mget\u001b[49m\u001b[43m(\u001b[49m\u001b[38;5;124;43m\"\u001b[39;49m\u001b[38;5;124;43mcallbacks\u001b[39;49m\u001b[38;5;124;43m\"\u001b[39;49m\u001b[43m)\u001b[49m\u001b[43m,\u001b[49m\n\u001b[0;32m    391\u001b[0m \u001b[43m            \u001b[49m\u001b[43mtags\u001b[49m\u001b[38;5;241;43m=\u001b[39;49m\u001b[43mconfig\u001b[49m\u001b[38;5;241;43m.\u001b[39;49m\u001b[43mget\u001b[49m\u001b[43m(\u001b[49m\u001b[38;5;124;43m\"\u001b[39;49m\u001b[38;5;124;43mtags\u001b[39;49m\u001b[38;5;124;43m\"\u001b[39;49m\u001b[43m)\u001b[49m\u001b[43m,\u001b[49m\n\u001b[0;32m    392\u001b[0m \u001b[43m            \u001b[49m\u001b[43mmetadata\u001b[49m\u001b[38;5;241;43m=\u001b[39;49m\u001b[43mconfig\u001b[49m\u001b[38;5;241;43m.\u001b[39;49m\u001b[43mget\u001b[49m\u001b[43m(\u001b[49m\u001b[38;5;124;43m\"\u001b[39;49m\u001b[38;5;124;43mmetadata\u001b[39;49m\u001b[38;5;124;43m\"\u001b[39;49m\u001b[43m)\u001b[49m\u001b[43m,\u001b[49m\n\u001b[0;32m    393\u001b[0m \u001b[43m            \u001b[49m\u001b[43mrun_name\u001b[49m\u001b[38;5;241;43m=\u001b[39;49m\u001b[43mconfig\u001b[49m\u001b[38;5;241;43m.\u001b[39;49m\u001b[43mget\u001b[49m\u001b[43m(\u001b[49m\u001b[38;5;124;43m\"\u001b[39;49m\u001b[38;5;124;43mrun_name\u001b[39;49m\u001b[38;5;124;43m\"\u001b[39;49m\u001b[43m)\u001b[49m\u001b[43m,\u001b[49m\n\u001b[0;32m    394\u001b[0m \u001b[43m            \u001b[49m\u001b[43mrun_id\u001b[49m\u001b[38;5;241;43m=\u001b[39;49m\u001b[43mconfig\u001b[49m\u001b[38;5;241;43m.\u001b[39;49m\u001b[43mpop\u001b[49m\u001b[43m(\u001b[49m\u001b[38;5;124;43m\"\u001b[39;49m\u001b[38;5;124;43mrun_id\u001b[39;49m\u001b[38;5;124;43m\"\u001b[39;49m\u001b[43m,\u001b[49m\u001b[43m \u001b[49m\u001b[38;5;28;43;01mNone\u001b[39;49;00m\u001b[43m)\u001b[49m\u001b[43m,\u001b[49m\n\u001b[0;32m    395\u001b[0m \u001b[43m            \u001b[49m\u001b[38;5;241;43m*\u001b[39;49m\u001b[38;5;241;43m*\u001b[39;49m\u001b[43mkwargs\u001b[49m\u001b[43m,\u001b[49m\n\u001b[0;32m    396\u001b[0m \u001b[43m        \u001b[49m\u001b[43m)\u001b[49m\n\u001b[0;32m    397\u001b[0m         \u001b[38;5;241m.\u001b[39mgenerations[\u001b[38;5;241m0\u001b[39m][\u001b[38;5;241m0\u001b[39m]\n\u001b[0;32m    398\u001b[0m         \u001b[38;5;241m.\u001b[39mtext\n\u001b[0;32m    399\u001b[0m     )\n",
      "File \u001b[1;32mc:\\Users\\p.a.rodriguez.canedo\\Documents\\Hackaton_2025\\.venv\\Lib\\site-packages\\langchain_core\\language_models\\llms.py:760\u001b[0m, in \u001b[0;36mBaseLLM.generate_prompt\u001b[1;34m(self, prompts, stop, callbacks, **kwargs)\u001b[0m\n\u001b[0;32m    752\u001b[0m \u001b[38;5;28;01mdef\u001b[39;00m\u001b[38;5;250m \u001b[39m\u001b[38;5;21mgenerate_prompt\u001b[39m(\n\u001b[0;32m    753\u001b[0m     \u001b[38;5;28mself\u001b[39m,\n\u001b[0;32m    754\u001b[0m     prompts: \u001b[38;5;28mlist\u001b[39m[PromptValue],\n\u001b[1;32m   (...)\u001b[0m\n\u001b[0;32m    757\u001b[0m     \u001b[38;5;241m*\u001b[39m\u001b[38;5;241m*\u001b[39mkwargs: Any,\n\u001b[0;32m    758\u001b[0m ) \u001b[38;5;241m-\u001b[39m\u001b[38;5;241m>\u001b[39m LLMResult:\n\u001b[0;32m    759\u001b[0m     prompt_strings \u001b[38;5;241m=\u001b[39m [p\u001b[38;5;241m.\u001b[39mto_string() \u001b[38;5;28;01mfor\u001b[39;00m p \u001b[38;5;129;01min\u001b[39;00m prompts]\n\u001b[1;32m--> 760\u001b[0m     \u001b[38;5;28;01mreturn\u001b[39;00m \u001b[38;5;28;43mself\u001b[39;49m\u001b[38;5;241;43m.\u001b[39;49m\u001b[43mgenerate\u001b[49m\u001b[43m(\u001b[49m\u001b[43mprompt_strings\u001b[49m\u001b[43m,\u001b[49m\u001b[43m \u001b[49m\u001b[43mstop\u001b[49m\u001b[38;5;241;43m=\u001b[39;49m\u001b[43mstop\u001b[49m\u001b[43m,\u001b[49m\u001b[43m \u001b[49m\u001b[43mcallbacks\u001b[49m\u001b[38;5;241;43m=\u001b[39;49m\u001b[43mcallbacks\u001b[49m\u001b[43m,\u001b[49m\u001b[43m \u001b[49m\u001b[38;5;241;43m*\u001b[39;49m\u001b[38;5;241;43m*\u001b[39;49m\u001b[43mkwargs\u001b[49m\u001b[43m)\u001b[49m\n",
      "File \u001b[1;32mc:\\Users\\p.a.rodriguez.canedo\\Documents\\Hackaton_2025\\.venv\\Lib\\site-packages\\langchain_core\\language_models\\llms.py:963\u001b[0m, in \u001b[0;36mBaseLLM.generate\u001b[1;34m(self, prompts, stop, callbacks, tags, metadata, run_name, run_id, **kwargs)\u001b[0m\n\u001b[0;32m    948\u001b[0m \u001b[38;5;28;01mif\u001b[39;00m (\u001b[38;5;28mself\u001b[39m\u001b[38;5;241m.\u001b[39mcache \u001b[38;5;129;01mis\u001b[39;00m \u001b[38;5;28;01mNone\u001b[39;00m \u001b[38;5;129;01mand\u001b[39;00m get_llm_cache() \u001b[38;5;129;01mis\u001b[39;00m \u001b[38;5;28;01mNone\u001b[39;00m) \u001b[38;5;129;01mor\u001b[39;00m \u001b[38;5;28mself\u001b[39m\u001b[38;5;241m.\u001b[39mcache \u001b[38;5;129;01mis\u001b[39;00m \u001b[38;5;28;01mFalse\u001b[39;00m:\n\u001b[0;32m    949\u001b[0m     run_managers \u001b[38;5;241m=\u001b[39m [\n\u001b[0;32m    950\u001b[0m         callback_manager\u001b[38;5;241m.\u001b[39mon_llm_start(\n\u001b[0;32m    951\u001b[0m             \u001b[38;5;28mself\u001b[39m\u001b[38;5;241m.\u001b[39m_serialized,\n\u001b[1;32m   (...)\u001b[0m\n\u001b[0;32m    961\u001b[0m         )\n\u001b[0;32m    962\u001b[0m     ]\n\u001b[1;32m--> 963\u001b[0m     output \u001b[38;5;241m=\u001b[39m \u001b[38;5;28;43mself\u001b[39;49m\u001b[38;5;241;43m.\u001b[39;49m\u001b[43m_generate_helper\u001b[49m\u001b[43m(\u001b[49m\n\u001b[0;32m    964\u001b[0m \u001b[43m        \u001b[49m\u001b[43mprompts\u001b[49m\u001b[43m,\u001b[49m\u001b[43m \u001b[49m\u001b[43mstop\u001b[49m\u001b[43m,\u001b[49m\u001b[43m \u001b[49m\u001b[43mrun_managers\u001b[49m\u001b[43m,\u001b[49m\u001b[43m \u001b[49m\u001b[38;5;28;43mbool\u001b[39;49m\u001b[43m(\u001b[49m\u001b[43mnew_arg_supported\u001b[49m\u001b[43m)\u001b[49m\u001b[43m,\u001b[49m\u001b[43m \u001b[49m\u001b[38;5;241;43m*\u001b[39;49m\u001b[38;5;241;43m*\u001b[39;49m\u001b[43mkwargs\u001b[49m\n\u001b[0;32m    965\u001b[0m \u001b[43m    \u001b[49m\u001b[43m)\u001b[49m\n\u001b[0;32m    966\u001b[0m     \u001b[38;5;28;01mreturn\u001b[39;00m output\n\u001b[0;32m    967\u001b[0m \u001b[38;5;28;01mif\u001b[39;00m \u001b[38;5;28mlen\u001b[39m(missing_prompts) \u001b[38;5;241m>\u001b[39m \u001b[38;5;241m0\u001b[39m:\n",
      "File \u001b[1;32mc:\\Users\\p.a.rodriguez.canedo\\Documents\\Hackaton_2025\\.venv\\Lib\\site-packages\\langchain_core\\language_models\\llms.py:784\u001b[0m, in \u001b[0;36mBaseLLM._generate_helper\u001b[1;34m(self, prompts, stop, run_managers, new_arg_supported, **kwargs)\u001b[0m\n\u001b[0;32m    774\u001b[0m \u001b[38;5;28;01mdef\u001b[39;00m\u001b[38;5;250m \u001b[39m\u001b[38;5;21m_generate_helper\u001b[39m(\n\u001b[0;32m    775\u001b[0m     \u001b[38;5;28mself\u001b[39m,\n\u001b[0;32m    776\u001b[0m     prompts: \u001b[38;5;28mlist\u001b[39m[\u001b[38;5;28mstr\u001b[39m],\n\u001b[1;32m   (...)\u001b[0m\n\u001b[0;32m    780\u001b[0m     \u001b[38;5;241m*\u001b[39m\u001b[38;5;241m*\u001b[39mkwargs: Any,\n\u001b[0;32m    781\u001b[0m ) \u001b[38;5;241m-\u001b[39m\u001b[38;5;241m>\u001b[39m LLMResult:\n\u001b[0;32m    782\u001b[0m     \u001b[38;5;28;01mtry\u001b[39;00m:\n\u001b[0;32m    783\u001b[0m         output \u001b[38;5;241m=\u001b[39m (\n\u001b[1;32m--> 784\u001b[0m             \u001b[38;5;28;43mself\u001b[39;49m\u001b[38;5;241;43m.\u001b[39;49m\u001b[43m_generate\u001b[49m\u001b[43m(\u001b[49m\n\u001b[0;32m    785\u001b[0m \u001b[43m                \u001b[49m\u001b[43mprompts\u001b[49m\u001b[43m,\u001b[49m\n\u001b[0;32m    786\u001b[0m \u001b[43m                \u001b[49m\u001b[43mstop\u001b[49m\u001b[38;5;241;43m=\u001b[39;49m\u001b[43mstop\u001b[49m\u001b[43m,\u001b[49m\n\u001b[0;32m    787\u001b[0m \u001b[43m                \u001b[49m\u001b[38;5;66;43;03m# TODO: support multiple run managers\u001b[39;49;00m\n\u001b[0;32m    788\u001b[0m \u001b[43m                \u001b[49m\u001b[43mrun_manager\u001b[49m\u001b[38;5;241;43m=\u001b[39;49m\u001b[43mrun_managers\u001b[49m\u001b[43m[\u001b[49m\u001b[38;5;241;43m0\u001b[39;49m\u001b[43m]\u001b[49m\u001b[43m \u001b[49m\u001b[38;5;28;43;01mif\u001b[39;49;00m\u001b[43m \u001b[49m\u001b[43mrun_managers\u001b[49m\u001b[43m \u001b[49m\u001b[38;5;28;43;01melse\u001b[39;49;00m\u001b[43m \u001b[49m\u001b[38;5;28;43;01mNone\u001b[39;49;00m\u001b[43m,\u001b[49m\n\u001b[0;32m    789\u001b[0m \u001b[43m                \u001b[49m\u001b[38;5;241;43m*\u001b[39;49m\u001b[38;5;241;43m*\u001b[39;49m\u001b[43mkwargs\u001b[49m\u001b[43m,\u001b[49m\n\u001b[0;32m    790\u001b[0m \u001b[43m            \u001b[49m\u001b[43m)\u001b[49m\n\u001b[0;32m    791\u001b[0m             \u001b[38;5;28;01mif\u001b[39;00m new_arg_supported\n\u001b[0;32m    792\u001b[0m             \u001b[38;5;28;01melse\u001b[39;00m \u001b[38;5;28mself\u001b[39m\u001b[38;5;241m.\u001b[39m_generate(prompts, stop\u001b[38;5;241m=\u001b[39mstop)\n\u001b[0;32m    793\u001b[0m         )\n\u001b[0;32m    794\u001b[0m     \u001b[38;5;28;01mexcept\u001b[39;00m \u001b[38;5;167;01mBaseException\u001b[39;00m \u001b[38;5;28;01mas\u001b[39;00m e:\n\u001b[0;32m    795\u001b[0m         \u001b[38;5;28;01mfor\u001b[39;00m run_manager \u001b[38;5;129;01min\u001b[39;00m run_managers:\n",
      "File \u001b[1;32mc:\\Users\\p.a.rodriguez.canedo\\Documents\\Hackaton_2025\\.venv\\Lib\\site-packages\\langchain_openai\\llms\\base.py:343\u001b[0m, in \u001b[0;36mBaseOpenAI._generate\u001b[1;34m(self, prompts, stop, run_manager, **kwargs)\u001b[0m\n\u001b[0;32m    327\u001b[0m     choices\u001b[38;5;241m.\u001b[39mappend(\n\u001b[0;32m    328\u001b[0m         {\n\u001b[0;32m    329\u001b[0m             \u001b[38;5;124m\"\u001b[39m\u001b[38;5;124mtext\u001b[39m\u001b[38;5;124m\"\u001b[39m: generation\u001b[38;5;241m.\u001b[39mtext,\n\u001b[1;32m   (...)\u001b[0m\n\u001b[0;32m    340\u001b[0m         }\n\u001b[0;32m    341\u001b[0m     )\n\u001b[0;32m    342\u001b[0m \u001b[38;5;28;01melse\u001b[39;00m:\n\u001b[1;32m--> 343\u001b[0m     response \u001b[38;5;241m=\u001b[39m \u001b[38;5;28;43mself\u001b[39;49m\u001b[38;5;241;43m.\u001b[39;49m\u001b[43mclient\u001b[49m\u001b[38;5;241;43m.\u001b[39;49m\u001b[43mcreate\u001b[49m\u001b[43m(\u001b[49m\u001b[43mprompt\u001b[49m\u001b[38;5;241;43m=\u001b[39;49m\u001b[43m_prompts\u001b[49m\u001b[43m,\u001b[49m\u001b[43m \u001b[49m\u001b[38;5;241;43m*\u001b[39;49m\u001b[38;5;241;43m*\u001b[39;49m\u001b[43mparams\u001b[49m\u001b[43m)\u001b[49m\n\u001b[0;32m    344\u001b[0m     \u001b[38;5;28;01mif\u001b[39;00m \u001b[38;5;129;01mnot\u001b[39;00m \u001b[38;5;28misinstance\u001b[39m(response, \u001b[38;5;28mdict\u001b[39m):\n\u001b[0;32m    345\u001b[0m         \u001b[38;5;66;03m# V1 client returns the response in an PyDantic object instead of\u001b[39;00m\n\u001b[0;32m    346\u001b[0m         \u001b[38;5;66;03m# dict. For the transition period, we deep convert it to dict.\u001b[39;00m\n\u001b[0;32m    347\u001b[0m         response \u001b[38;5;241m=\u001b[39m response\u001b[38;5;241m.\u001b[39mmodel_dump()\n",
      "File \u001b[1;32mc:\\Users\\p.a.rodriguez.canedo\\Documents\\Hackaton_2025\\.venv\\Lib\\site-packages\\openai\\_utils\\_utils.py:279\u001b[0m, in \u001b[0;36mrequired_args.<locals>.inner.<locals>.wrapper\u001b[1;34m(*args, **kwargs)\u001b[0m\n\u001b[0;32m    277\u001b[0m             msg \u001b[38;5;241m=\u001b[39m \u001b[38;5;124mf\u001b[39m\u001b[38;5;124m\"\u001b[39m\u001b[38;5;124mMissing required argument: \u001b[39m\u001b[38;5;132;01m{\u001b[39;00mquote(missing[\u001b[38;5;241m0\u001b[39m])\u001b[38;5;132;01m}\u001b[39;00m\u001b[38;5;124m\"\u001b[39m\n\u001b[0;32m    278\u001b[0m     \u001b[38;5;28;01mraise\u001b[39;00m \u001b[38;5;167;01mTypeError\u001b[39;00m(msg)\n\u001b[1;32m--> 279\u001b[0m \u001b[38;5;28;01mreturn\u001b[39;00m \u001b[43mfunc\u001b[49m\u001b[43m(\u001b[49m\u001b[38;5;241;43m*\u001b[39;49m\u001b[43margs\u001b[49m\u001b[43m,\u001b[49m\u001b[43m \u001b[49m\u001b[38;5;241;43m*\u001b[39;49m\u001b[38;5;241;43m*\u001b[39;49m\u001b[43mkwargs\u001b[49m\u001b[43m)\u001b[49m\n",
      "File \u001b[1;32mc:\\Users\\p.a.rodriguez.canedo\\Documents\\Hackaton_2025\\.venv\\Lib\\site-packages\\openai\\resources\\completions.py:539\u001b[0m, in \u001b[0;36mCompletions.create\u001b[1;34m(self, model, prompt, best_of, echo, frequency_penalty, logit_bias, logprobs, max_tokens, n, presence_penalty, seed, stop, stream, stream_options, suffix, temperature, top_p, user, extra_headers, extra_query, extra_body, timeout)\u001b[0m\n\u001b[0;32m    510\u001b[0m \u001b[38;5;129m@required_args\u001b[39m([\u001b[38;5;124m\"\u001b[39m\u001b[38;5;124mmodel\u001b[39m\u001b[38;5;124m\"\u001b[39m, \u001b[38;5;124m\"\u001b[39m\u001b[38;5;124mprompt\u001b[39m\u001b[38;5;124m\"\u001b[39m], [\u001b[38;5;124m\"\u001b[39m\u001b[38;5;124mmodel\u001b[39m\u001b[38;5;124m\"\u001b[39m, \u001b[38;5;124m\"\u001b[39m\u001b[38;5;124mprompt\u001b[39m\u001b[38;5;124m\"\u001b[39m, \u001b[38;5;124m\"\u001b[39m\u001b[38;5;124mstream\u001b[39m\u001b[38;5;124m\"\u001b[39m])\n\u001b[0;32m    511\u001b[0m \u001b[38;5;28;01mdef\u001b[39;00m\u001b[38;5;250m \u001b[39m\u001b[38;5;21mcreate\u001b[39m(\n\u001b[0;32m    512\u001b[0m     \u001b[38;5;28mself\u001b[39m,\n\u001b[1;32m   (...)\u001b[0m\n\u001b[0;32m    537\u001b[0m     timeout: \u001b[38;5;28mfloat\u001b[39m \u001b[38;5;241m|\u001b[39m httpx\u001b[38;5;241m.\u001b[39mTimeout \u001b[38;5;241m|\u001b[39m \u001b[38;5;28;01mNone\u001b[39;00m \u001b[38;5;241m|\u001b[39m NotGiven \u001b[38;5;241m=\u001b[39m NOT_GIVEN,\n\u001b[0;32m    538\u001b[0m ) \u001b[38;5;241m-\u001b[39m\u001b[38;5;241m>\u001b[39m Completion \u001b[38;5;241m|\u001b[39m Stream[Completion]:\n\u001b[1;32m--> 539\u001b[0m     \u001b[38;5;28;01mreturn\u001b[39;00m \u001b[38;5;28;43mself\u001b[39;49m\u001b[38;5;241;43m.\u001b[39;49m\u001b[43m_post\u001b[49m\u001b[43m(\u001b[49m\n\u001b[0;32m    540\u001b[0m \u001b[43m        \u001b[49m\u001b[38;5;124;43m\"\u001b[39;49m\u001b[38;5;124;43m/completions\u001b[39;49m\u001b[38;5;124;43m\"\u001b[39;49m\u001b[43m,\u001b[49m\n\u001b[0;32m    541\u001b[0m \u001b[43m        \u001b[49m\u001b[43mbody\u001b[49m\u001b[38;5;241;43m=\u001b[39;49m\u001b[43mmaybe_transform\u001b[49m\u001b[43m(\u001b[49m\n\u001b[0;32m    542\u001b[0m \u001b[43m            \u001b[49m\u001b[43m{\u001b[49m\n\u001b[0;32m    543\u001b[0m \u001b[43m                \u001b[49m\u001b[38;5;124;43m\"\u001b[39;49m\u001b[38;5;124;43mmodel\u001b[39;49m\u001b[38;5;124;43m\"\u001b[39;49m\u001b[43m:\u001b[49m\u001b[43m \u001b[49m\u001b[43mmodel\u001b[49m\u001b[43m,\u001b[49m\n\u001b[0;32m    544\u001b[0m \u001b[43m                \u001b[49m\u001b[38;5;124;43m\"\u001b[39;49m\u001b[38;5;124;43mprompt\u001b[39;49m\u001b[38;5;124;43m\"\u001b[39;49m\u001b[43m:\u001b[49m\u001b[43m \u001b[49m\u001b[43mprompt\u001b[49m\u001b[43m,\u001b[49m\n\u001b[0;32m    545\u001b[0m \u001b[43m                \u001b[49m\u001b[38;5;124;43m\"\u001b[39;49m\u001b[38;5;124;43mbest_of\u001b[39;49m\u001b[38;5;124;43m\"\u001b[39;49m\u001b[43m:\u001b[49m\u001b[43m \u001b[49m\u001b[43mbest_of\u001b[49m\u001b[43m,\u001b[49m\n\u001b[0;32m    546\u001b[0m \u001b[43m                \u001b[49m\u001b[38;5;124;43m\"\u001b[39;49m\u001b[38;5;124;43mecho\u001b[39;49m\u001b[38;5;124;43m\"\u001b[39;49m\u001b[43m:\u001b[49m\u001b[43m \u001b[49m\u001b[43mecho\u001b[49m\u001b[43m,\u001b[49m\n\u001b[0;32m    547\u001b[0m \u001b[43m                \u001b[49m\u001b[38;5;124;43m\"\u001b[39;49m\u001b[38;5;124;43mfrequency_penalty\u001b[39;49m\u001b[38;5;124;43m\"\u001b[39;49m\u001b[43m:\u001b[49m\u001b[43m \u001b[49m\u001b[43mfrequency_penalty\u001b[49m\u001b[43m,\u001b[49m\n\u001b[0;32m    548\u001b[0m \u001b[43m                \u001b[49m\u001b[38;5;124;43m\"\u001b[39;49m\u001b[38;5;124;43mlogit_bias\u001b[39;49m\u001b[38;5;124;43m\"\u001b[39;49m\u001b[43m:\u001b[49m\u001b[43m \u001b[49m\u001b[43mlogit_bias\u001b[49m\u001b[43m,\u001b[49m\n\u001b[0;32m    549\u001b[0m \u001b[43m                \u001b[49m\u001b[38;5;124;43m\"\u001b[39;49m\u001b[38;5;124;43mlogprobs\u001b[39;49m\u001b[38;5;124;43m\"\u001b[39;49m\u001b[43m:\u001b[49m\u001b[43m \u001b[49m\u001b[43mlogprobs\u001b[49m\u001b[43m,\u001b[49m\n\u001b[0;32m    550\u001b[0m \u001b[43m                \u001b[49m\u001b[38;5;124;43m\"\u001b[39;49m\u001b[38;5;124;43mmax_tokens\u001b[39;49m\u001b[38;5;124;43m\"\u001b[39;49m\u001b[43m:\u001b[49m\u001b[43m \u001b[49m\u001b[43mmax_tokens\u001b[49m\u001b[43m,\u001b[49m\n\u001b[0;32m    551\u001b[0m \u001b[43m                \u001b[49m\u001b[38;5;124;43m\"\u001b[39;49m\u001b[38;5;124;43mn\u001b[39;49m\u001b[38;5;124;43m\"\u001b[39;49m\u001b[43m:\u001b[49m\u001b[43m \u001b[49m\u001b[43mn\u001b[49m\u001b[43m,\u001b[49m\n\u001b[0;32m    552\u001b[0m \u001b[43m                \u001b[49m\u001b[38;5;124;43m\"\u001b[39;49m\u001b[38;5;124;43mpresence_penalty\u001b[39;49m\u001b[38;5;124;43m\"\u001b[39;49m\u001b[43m:\u001b[49m\u001b[43m \u001b[49m\u001b[43mpresence_penalty\u001b[49m\u001b[43m,\u001b[49m\n\u001b[0;32m    553\u001b[0m \u001b[43m                \u001b[49m\u001b[38;5;124;43m\"\u001b[39;49m\u001b[38;5;124;43mseed\u001b[39;49m\u001b[38;5;124;43m\"\u001b[39;49m\u001b[43m:\u001b[49m\u001b[43m \u001b[49m\u001b[43mseed\u001b[49m\u001b[43m,\u001b[49m\n\u001b[0;32m    554\u001b[0m \u001b[43m                \u001b[49m\u001b[38;5;124;43m\"\u001b[39;49m\u001b[38;5;124;43mstop\u001b[39;49m\u001b[38;5;124;43m\"\u001b[39;49m\u001b[43m:\u001b[49m\u001b[43m \u001b[49m\u001b[43mstop\u001b[49m\u001b[43m,\u001b[49m\n\u001b[0;32m    555\u001b[0m \u001b[43m                \u001b[49m\u001b[38;5;124;43m\"\u001b[39;49m\u001b[38;5;124;43mstream\u001b[39;49m\u001b[38;5;124;43m\"\u001b[39;49m\u001b[43m:\u001b[49m\u001b[43m \u001b[49m\u001b[43mstream\u001b[49m\u001b[43m,\u001b[49m\n\u001b[0;32m    556\u001b[0m \u001b[43m                \u001b[49m\u001b[38;5;124;43m\"\u001b[39;49m\u001b[38;5;124;43mstream_options\u001b[39;49m\u001b[38;5;124;43m\"\u001b[39;49m\u001b[43m:\u001b[49m\u001b[43m \u001b[49m\u001b[43mstream_options\u001b[49m\u001b[43m,\u001b[49m\n\u001b[0;32m    557\u001b[0m \u001b[43m                \u001b[49m\u001b[38;5;124;43m\"\u001b[39;49m\u001b[38;5;124;43msuffix\u001b[39;49m\u001b[38;5;124;43m\"\u001b[39;49m\u001b[43m:\u001b[49m\u001b[43m \u001b[49m\u001b[43msuffix\u001b[49m\u001b[43m,\u001b[49m\n\u001b[0;32m    558\u001b[0m \u001b[43m                \u001b[49m\u001b[38;5;124;43m\"\u001b[39;49m\u001b[38;5;124;43mtemperature\u001b[39;49m\u001b[38;5;124;43m\"\u001b[39;49m\u001b[43m:\u001b[49m\u001b[43m \u001b[49m\u001b[43mtemperature\u001b[49m\u001b[43m,\u001b[49m\n\u001b[0;32m    559\u001b[0m \u001b[43m                \u001b[49m\u001b[38;5;124;43m\"\u001b[39;49m\u001b[38;5;124;43mtop_p\u001b[39;49m\u001b[38;5;124;43m\"\u001b[39;49m\u001b[43m:\u001b[49m\u001b[43m \u001b[49m\u001b[43mtop_p\u001b[49m\u001b[43m,\u001b[49m\n\u001b[0;32m    560\u001b[0m \u001b[43m                \u001b[49m\u001b[38;5;124;43m\"\u001b[39;49m\u001b[38;5;124;43muser\u001b[39;49m\u001b[38;5;124;43m\"\u001b[39;49m\u001b[43m:\u001b[49m\u001b[43m \u001b[49m\u001b[43muser\u001b[49m\u001b[43m,\u001b[49m\n\u001b[0;32m    561\u001b[0m \u001b[43m            \u001b[49m\u001b[43m}\u001b[49m\u001b[43m,\u001b[49m\n\u001b[0;32m    562\u001b[0m \u001b[43m            \u001b[49m\u001b[43mcompletion_create_params\u001b[49m\u001b[38;5;241;43m.\u001b[39;49m\u001b[43mCompletionCreateParams\u001b[49m\u001b[43m,\u001b[49m\n\u001b[0;32m    563\u001b[0m \u001b[43m        \u001b[49m\u001b[43m)\u001b[49m\u001b[43m,\u001b[49m\n\u001b[0;32m    564\u001b[0m \u001b[43m        \u001b[49m\u001b[43moptions\u001b[49m\u001b[38;5;241;43m=\u001b[39;49m\u001b[43mmake_request_options\u001b[49m\u001b[43m(\u001b[49m\n\u001b[0;32m    565\u001b[0m \u001b[43m            \u001b[49m\u001b[43mextra_headers\u001b[49m\u001b[38;5;241;43m=\u001b[39;49m\u001b[43mextra_headers\u001b[49m\u001b[43m,\u001b[49m\u001b[43m \u001b[49m\u001b[43mextra_query\u001b[49m\u001b[38;5;241;43m=\u001b[39;49m\u001b[43mextra_query\u001b[49m\u001b[43m,\u001b[49m\u001b[43m \u001b[49m\u001b[43mextra_body\u001b[49m\u001b[38;5;241;43m=\u001b[39;49m\u001b[43mextra_body\u001b[49m\u001b[43m,\u001b[49m\u001b[43m \u001b[49m\u001b[43mtimeout\u001b[49m\u001b[38;5;241;43m=\u001b[39;49m\u001b[43mtimeout\u001b[49m\n\u001b[0;32m    566\u001b[0m \u001b[43m        \u001b[49m\u001b[43m)\u001b[49m\u001b[43m,\u001b[49m\n\u001b[0;32m    567\u001b[0m \u001b[43m        \u001b[49m\u001b[43mcast_to\u001b[49m\u001b[38;5;241;43m=\u001b[39;49m\u001b[43mCompletion\u001b[49m\u001b[43m,\u001b[49m\n\u001b[0;32m    568\u001b[0m \u001b[43m        \u001b[49m\u001b[43mstream\u001b[49m\u001b[38;5;241;43m=\u001b[39;49m\u001b[43mstream\u001b[49m\u001b[43m \u001b[49m\u001b[38;5;129;43;01mor\u001b[39;49;00m\u001b[43m \u001b[49m\u001b[38;5;28;43;01mFalse\u001b[39;49;00m\u001b[43m,\u001b[49m\n\u001b[0;32m    569\u001b[0m \u001b[43m        \u001b[49m\u001b[43mstream_cls\u001b[49m\u001b[38;5;241;43m=\u001b[39;49m\u001b[43mStream\u001b[49m\u001b[43m[\u001b[49m\u001b[43mCompletion\u001b[49m\u001b[43m]\u001b[49m\u001b[43m,\u001b[49m\n\u001b[0;32m    570\u001b[0m \u001b[43m    \u001b[49m\u001b[43m)\u001b[49m\n",
      "File \u001b[1;32mc:\\Users\\p.a.rodriguez.canedo\\Documents\\Hackaton_2025\\.venv\\Lib\\site-packages\\openai\\_base_client.py:1290\u001b[0m, in \u001b[0;36mSyncAPIClient.post\u001b[1;34m(self, path, cast_to, body, options, files, stream, stream_cls)\u001b[0m\n\u001b[0;32m   1276\u001b[0m \u001b[38;5;28;01mdef\u001b[39;00m\u001b[38;5;250m \u001b[39m\u001b[38;5;21mpost\u001b[39m(\n\u001b[0;32m   1277\u001b[0m     \u001b[38;5;28mself\u001b[39m,\n\u001b[0;32m   1278\u001b[0m     path: \u001b[38;5;28mstr\u001b[39m,\n\u001b[1;32m   (...)\u001b[0m\n\u001b[0;32m   1285\u001b[0m     stream_cls: \u001b[38;5;28mtype\u001b[39m[_StreamT] \u001b[38;5;241m|\u001b[39m \u001b[38;5;28;01mNone\u001b[39;00m \u001b[38;5;241m=\u001b[39m \u001b[38;5;28;01mNone\u001b[39;00m,\n\u001b[0;32m   1286\u001b[0m ) \u001b[38;5;241m-\u001b[39m\u001b[38;5;241m>\u001b[39m ResponseT \u001b[38;5;241m|\u001b[39m _StreamT:\n\u001b[0;32m   1287\u001b[0m     opts \u001b[38;5;241m=\u001b[39m FinalRequestOptions\u001b[38;5;241m.\u001b[39mconstruct(\n\u001b[0;32m   1288\u001b[0m         method\u001b[38;5;241m=\u001b[39m\u001b[38;5;124m\"\u001b[39m\u001b[38;5;124mpost\u001b[39m\u001b[38;5;124m\"\u001b[39m, url\u001b[38;5;241m=\u001b[39mpath, json_data\u001b[38;5;241m=\u001b[39mbody, files\u001b[38;5;241m=\u001b[39mto_httpx_files(files), \u001b[38;5;241m*\u001b[39m\u001b[38;5;241m*\u001b[39moptions\n\u001b[0;32m   1289\u001b[0m     )\n\u001b[1;32m-> 1290\u001b[0m     \u001b[38;5;28;01mreturn\u001b[39;00m cast(ResponseT, \u001b[38;5;28;43mself\u001b[39;49m\u001b[38;5;241;43m.\u001b[39;49m\u001b[43mrequest\u001b[49m\u001b[43m(\u001b[49m\u001b[43mcast_to\u001b[49m\u001b[43m,\u001b[49m\u001b[43m \u001b[49m\u001b[43mopts\u001b[49m\u001b[43m,\u001b[49m\u001b[43m \u001b[49m\u001b[43mstream\u001b[49m\u001b[38;5;241;43m=\u001b[39;49m\u001b[43mstream\u001b[49m\u001b[43m,\u001b[49m\u001b[43m \u001b[49m\u001b[43mstream_cls\u001b[49m\u001b[38;5;241;43m=\u001b[39;49m\u001b[43mstream_cls\u001b[49m\u001b[43m)\u001b[49m)\n",
      "File \u001b[1;32mc:\\Users\\p.a.rodriguez.canedo\\Documents\\Hackaton_2025\\.venv\\Lib\\site-packages\\openai\\_base_client.py:967\u001b[0m, in \u001b[0;36mSyncAPIClient.request\u001b[1;34m(self, cast_to, options, remaining_retries, stream, stream_cls)\u001b[0m\n\u001b[0;32m    964\u001b[0m \u001b[38;5;28;01melse\u001b[39;00m:\n\u001b[0;32m    965\u001b[0m     retries_taken \u001b[38;5;241m=\u001b[39m \u001b[38;5;241m0\u001b[39m\n\u001b[1;32m--> 967\u001b[0m \u001b[38;5;28;01mreturn\u001b[39;00m \u001b[38;5;28;43mself\u001b[39;49m\u001b[38;5;241;43m.\u001b[39;49m\u001b[43m_request\u001b[49m\u001b[43m(\u001b[49m\n\u001b[0;32m    968\u001b[0m \u001b[43m    \u001b[49m\u001b[43mcast_to\u001b[49m\u001b[38;5;241;43m=\u001b[39;49m\u001b[43mcast_to\u001b[49m\u001b[43m,\u001b[49m\n\u001b[0;32m    969\u001b[0m \u001b[43m    \u001b[49m\u001b[43moptions\u001b[49m\u001b[38;5;241;43m=\u001b[39;49m\u001b[43moptions\u001b[49m\u001b[43m,\u001b[49m\n\u001b[0;32m    970\u001b[0m \u001b[43m    \u001b[49m\u001b[43mstream\u001b[49m\u001b[38;5;241;43m=\u001b[39;49m\u001b[43mstream\u001b[49m\u001b[43m,\u001b[49m\n\u001b[0;32m    971\u001b[0m \u001b[43m    \u001b[49m\u001b[43mstream_cls\u001b[49m\u001b[38;5;241;43m=\u001b[39;49m\u001b[43mstream_cls\u001b[49m\u001b[43m,\u001b[49m\n\u001b[0;32m    972\u001b[0m \u001b[43m    \u001b[49m\u001b[43mretries_taken\u001b[49m\u001b[38;5;241;43m=\u001b[39;49m\u001b[43mretries_taken\u001b[49m\u001b[43m,\u001b[49m\n\u001b[0;32m    973\u001b[0m \u001b[43m\u001b[49m\u001b[43m)\u001b[49m\n",
      "File \u001b[1;32mc:\\Users\\p.a.rodriguez.canedo\\Documents\\Hackaton_2025\\.venv\\Lib\\site-packages\\openai\\_base_client.py:1071\u001b[0m, in \u001b[0;36mSyncAPIClient._request\u001b[1;34m(self, cast_to, options, retries_taken, stream, stream_cls)\u001b[0m\n\u001b[0;32m   1068\u001b[0m         err\u001b[38;5;241m.\u001b[39mresponse\u001b[38;5;241m.\u001b[39mread()\n\u001b[0;32m   1070\u001b[0m     log\u001b[38;5;241m.\u001b[39mdebug(\u001b[38;5;124m\"\u001b[39m\u001b[38;5;124mRe-raising status error\u001b[39m\u001b[38;5;124m\"\u001b[39m)\n\u001b[1;32m-> 1071\u001b[0m     \u001b[38;5;28;01mraise\u001b[39;00m \u001b[38;5;28mself\u001b[39m\u001b[38;5;241m.\u001b[39m_make_status_error_from_response(err\u001b[38;5;241m.\u001b[39mresponse) \u001b[38;5;28;01mfrom\u001b[39;00m\u001b[38;5;250m \u001b[39m\u001b[38;5;28;01mNone\u001b[39;00m\n\u001b[0;32m   1073\u001b[0m \u001b[38;5;28;01mreturn\u001b[39;00m \u001b[38;5;28mself\u001b[39m\u001b[38;5;241m.\u001b[39m_process_response(\n\u001b[0;32m   1074\u001b[0m     cast_to\u001b[38;5;241m=\u001b[39mcast_to,\n\u001b[0;32m   1075\u001b[0m     options\u001b[38;5;241m=\u001b[39moptions,\n\u001b[1;32m   (...)\u001b[0m\n\u001b[0;32m   1079\u001b[0m     retries_taken\u001b[38;5;241m=\u001b[39mretries_taken,\n\u001b[0;32m   1080\u001b[0m )\n",
      "\u001b[1;31mNotFoundError\u001b[0m: Error code: 404 - {'error': {'code': '404', 'message': 'Resource not found'}}"
     ]
    }
   ],
   "source": [
    "dalle_client.invoke(\"hello\")"
   ]
  }
 ],
 "metadata": {
  "kernelspec": {
   "display_name": ".venv",
   "language": "python",
   "name": "python3"
  },
  "language_info": {
   "codemirror_mode": {
    "name": "ipython",
    "version": 3
   },
   "file_extension": ".py",
   "mimetype": "text/x-python",
   "name": "python",
   "nbconvert_exporter": "python",
   "pygments_lexer": "ipython3",
   "version": "3.11.0"
  }
 },
 "nbformat": 4,
 "nbformat_minor": 2
}

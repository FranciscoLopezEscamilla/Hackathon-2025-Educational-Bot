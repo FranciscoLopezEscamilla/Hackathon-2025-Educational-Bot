{
 "cells": [
  {
   "cell_type": "code",
   "execution_count": 1,
   "metadata": {},
   "outputs": [],
   "source": [
    "import os\n",
    "from openai import AzureOpenAI\n",
    "\n",
    "api_key = os.getenv('AZURE_OPENAI_KEY')\n",
    "endpoint = os.getenv('AZURE_OPENAI_ENDPOINT')\n",
    "version = os.getenv('AZURE_OPENAI_VERSION')\n",
    "model = os.getenv('GPT_DEPLOYMENT_NAME')\n",
    "\n",
    "client = AzureOpenAI(\n",
    "                azure_endpoint=endpoint,\n",
    "                api_key=api_key,\n",
    "                api_version=version\n",
    "            )"
   ]
  },
  {
   "cell_type": "code",
   "execution_count": 16,
   "metadata": {},
   "outputs": [],
   "source": [
    "functions = [\n",
    "    {\n",
    "        \"type\":\"function\",\n",
    "        \"function\" :{\n",
    "            \"name\": \"summarize_text\",\n",
    "            \"description\" : \"summarize text into sections\",\n",
    "            \"strict\": True,\n",
    "            \"parameters\":{\n",
    "                \"type\": \"object\",\n",
    "                \"properties\":{\n",
    "                    \"summary\":{\n",
    "                        \"type\": \"string\",\n",
    "                        \"description\": \"Summary of the text divided into sections\"\n",
    "                    }\n",
    "                },\n",
    "                \"required\":[\"summary\"],\n",
    "                \"additionalProperties\": False\n",
    "            }    \n",
    "        }\n",
    "    }\n",
    "    ]"
   ]
  },
  {
   "cell_type": "code",
   "execution_count": 2,
   "metadata": {},
   "outputs": [],
   "source": [
    "def get_completion(messages: list, temperature:float = 0.7) -> str:\n",
    "    \n",
    "        completion = client.chat.completions.create(\n",
    "            model = model, \n",
    "            messages=messages,\n",
    "            temperature=temperature,\n",
    "            #tools=functions,\n",
    "            #tool_choice={\"type\": \"function\", \"function\": {\"name\": \"summarize_text\"}}\n",
    "        )\n",
    "\n",
    "        return completion.choices[0].message.content#tool_calls[0].function.arguments"
   ]
  },
  {
   "cell_type": "code",
   "execution_count": 3,
   "metadata": {},
   "outputs": [],
   "source": [
    "summarization_text_prompt = '''You're going to receive two inputs, a context and a user query.\n",
    "Please read and understand the context below delimited by triple backticks and the user query and follow the next instructions.\n",
    "\n",
    "### CONTEXT ###\n",
    "```{context}```\n",
    "\n",
    "### QUERY ###\n",
    "```{query}```\n",
    "\n",
    "Follow this instructions:\n",
    "### INSTRUCTIONS ###\n",
    "1. Read carefully and understand the context\n",
    "2. Create a summary of the context. The summary must have the most important elements on the text.\n",
    "3. Make sure that the summary contains the necessary information that the user is looking for in the query.\n",
    "4. Split your summary into sections and short paragraphs.\n",
    "\n",
    "Return a string with a valid json format. Use the sections as key names. Do not include the word 'json' as part of your respond.\n",
    "'''"
   ]
  },
  {
   "cell_type": "code",
   "execution_count": 4,
   "metadata": {},
   "outputs": [],
   "source": [
    "text = \"\"\"\n",
    "\"[69] \\n \\nREFERENCES \\n \\nA., A. (2023). The Renaissance of Creativity: Exploring the Impact of Generative AI in the Creative \\nIndustry. https://www.linkedin.com/pulse/renaissance -creativity-exploring-impact-generative-ai-\\nadam \\nAela, E. (2023, April 1). Artificial Intelligence: How AI is Changing Art. \\nhttps://aelaschool.com/en/art/artificial-intelligence-art-changes/ \\nAhmed, R. (2023). The Future of Art and Creativity in the Age of AI. \\nhttps://www.linkedin.com/pulse/future-art-creativity-age-ai-rohan-ahmed \\nGwafan, D. (2023). Python Programming Language: A Versatile and Powerful Tool for Modern \\nDevelopment. https://www.linkedin.com/pulse/python -programming-language-versatile-powerful-\\ntool-modern-gwafan \\nGenerative art. (2023). In Wikipedia. \\nhttps://en.wikipedia.org/w/index.php?title=Generative_art&oldid=1176498478 \\nHarwell, D. (2022). He used AI art from Midjourney to win a fine -arts prize. Did he cheat? - The \\nWashington Post. https://www.washingtonpost.com/technology/2022/09/02/midjourney -artificial-\\nintelligence-state-fair-colorado/ \\nMahadik, S. (2023). Transformation of Creative Industries with Generative AI. \\nhttps://www.linkedin.com/pulse/transformation-creative-industries-generative-ai-sandesh-mahadik \\nMatplotlib. (2023). In Wikipedia. \\nhttps://en.wikipedia.org/w/index.php?title=Matplotlib&oldid=1177283978 \\nNigeria,  consistent_hippopotamus | R. C. A. |. (2023). Artists are not happy with the existence of AI. \\nTopical Talk. https://talk.economistfoundation.org/festivals/festival-2023/ai-and-the-arts/artists-are-\\nnot-happy-with-the-existence-of-ai/ \\nNumPy. (2023). In Wikipedia. https://en.wikipedia.org/w/index.php?title=NumPy&oldid=1174952220 \\nPearson, M. (2011). Generative art, a practical guide using processing. \\nPip (package manager). (2023). In Wikipedia. \\nhttps://en.wikipedia.org/w/index.php?title=Pip_(package_manager)&oldid=1161551744 \\nPyCharm. (2023). In Wikipedia. \\nhttps://en.wikipedia.org/w/index.php?title=PyCharm&oldid=1172673606 \\nPython, R. (2023). The Beginner’s Guide to Python Turtle – Real Python. \\nhttps://realpython.com/beginners-guide-python-turtle/ \\nTempel, M. (2017). Generative art for all. Journal of Innovation and Entrepreneurship , 6(1). \\nhttps://www.academia.edu/88354378/Generative_art_for_all\\n\\n[59] \\n \\nproduce more advanced and higher-quality work and has helped visual artists produce art. AI \\nis modernizing some processes, but it still requires human involvement to create something \\nuseful and, most importantly, interesting. Therefore, AI can be seen as a tool that complements \\nand enhances the work of designers and artists to make their work more productive and efficient. \\nDesigners can fill the gap between human touch and creativity, which is fundamental to the \\nartwork. Unlike computers, artists are endowe d with their own emotions and unique \\nperspectives (Nigeria, 2023). \\nGenerative art, also known as procedural art or algorithmic art, is a form of art that \\ncreates itself independently. This can take the form of mathematical functions that create \\ngeometric and precisely calculated works of art. In other cases, chance takes control and creates \\nchaotic artworks that incorporate abstract styles. In many cases, digital artists combine the two. \\nGenerative art comes in a variety of forms, from music to literature to digital graphics. By \\ndefinition, generative art is a form of art that is either entirely or partially created using an \\nautonomous system. Generative art is a unique combination of computer science and art. This \\nsystem can be represented by any type of algorithm: mathematical, mechanical, or biological. \\nGenerative art creation usually involves a programming language with the use of codes. \\nSimilarly, generative content that uses AI uses prompt technology to generate the desired \\ninformation. Investigating the Python programming language for generating artwo rk will \\ncontribute to the understanding of generative art and provide important and meaningful insights \\ninto artificial intelligence. \\nThis type of art is often inspired by modern art, especially Pop Art, which relies heavily \\non ordered geometric patterns. However, it is a very broad and rich category of art that has one \\ncentral characteristic. Generative art in some way involves a self -governing or autonomous \\nsystem. \\nChance is a kind of autonomous system. By incorporating chance into a piece of code \\nart, different unique pieces of art are generated each time the script is executed or in response \\nto the user's interaction. This can create different types of ideas that are available for selection. \\nThis randomness can also be orderly and autonomous or the integration of mixing and chaos. \\nAutonomous or generative art is not rejecting creativity, it finds creativity through \\ndifferent fields by building art pieces through coding. Artists may argue that generative arts will \\nkill manual art eventually. A game designer from Colorado USA recently took home the first \\nprize in the digital arts or digitally manipulated photography category at the Colorado State Fair \\nFine Arts Competition. His winning image was made with Midjourney - an Artificial \\nIntelligence system that can come up with images at a prompt. The win was met with resistance \\nas many would argue that using AI would be as easy as typing prompts. However, to come up \\nwith such complicated imagery, there were a lot of things involved. It took more than 80 hours. \\nThis example of generative art does not involve any coding but uses prompts, tweaks, light \\nadjustments, and Photoshop to come up with the final art piece which initially needed 900 \\niterations apart from using more AI programs to improve resolution (Harwell, 2022). \\n \\nRESEARCH QUESTIONS \\n1. What is generative art, and how can Python programming language be utilized \\nin its creation? \\nGenerative art is a form of digital art that uses algorithms, often aided by computers and \\nsoftware, to create artwork. Rather than creating art manually through traditional techniques \\nsuch as painting or sculpting, generative artists write code that defin es rules, processes, and\\n\\n[58] \\n \\n \\n \\nUNDERSTANDING OF GENERATIVE ART WITH ‘PYTHON’ \\nPROGRAMMING \\n \\n \\nTeddy Marius Soikun1* \\n \\n1Academy of Arts and Creative Technology,  \\nUniversity Malaysia Sabah, 88400 Kota Kinabalu, Malaysia  \\n*tsoikun@ums.edu.my \\n \\nReceived: 21 June 2023 | Revised: 10 July 2023  \\nAccepted: 30 September 2023 / Published: 20 December 2023 \\nDOI: https://10.51200/ga.v13i2.4735     \\n \\n \\nABSTRACT \\nThe article uses the Python programming language to introduce generative arts as an alternative \\nto conventional art and design. Understanding generative arts in the age of Artificial \\nIntelligence (AI) is seen as a way forward to remain relevant. Through the use of a practice -\\nbased research methodology, the article explores principles, processes, and tools for generating \\nart through coding. Practical samples are used to demonstrate the potential of generative art \\nthrough basic coding examples. This research also highlights the role of generative art in \\nfostering interdisciplinary collaboration and transcending the boundaries of conventional art \\nforms. \\nKeywords: Generative Arts, Python, Artificial Intelligence \\n \\nINTRODUCTION \\nThe computer plays a very important role in our life nowadays. Almost every task is connected \\nto the computer. From ordering groceries online to using public transportation to driving a car \\nor communicating with other people. One part that plays an even mo re important role in \\ntechnology is artificial intelligence. Although it has been with us for quite some time, the term \\nstill inspires fear and awe. Most of us are still wondering about its potential and future. AI can \\nbe used in managing traffic routes, pr oducts, movies, and location suggestions, and as virtual \\nassistants such as chatbots, search engines, banks, and so on (Aela, 2023). \\nRecently, the art world has been transformed by the advent of technology, especially \\nAI and generative arts. Many types of art can now be easily made with the help of a computer. \\nWith the advancement of AI, many high -quality artworks can be created with less time and \\nresources. The technology has achieved significant results in generating visual, animated, and \\naudio content (Hodgkins, 2023). \\nAI is more or less comparable to the advent of photography more than a hundred years \\nago. Everyone was shocked when it first appeared. However, it has become a tool for artists to\\n\\n[65] \\n \\nsimple generative art piece may give insights into how the technology works and may \\nlead to the understanding of AI generative content in art.  \\n Explanation  Sample codes \\n1 Python must be installed in the \\ncomputer as well as the \\nrequired libraries. matplotlib is \\ninstalled using pip: \\n \\n2 Following PBR, the researcher \\ndefine the generative art piece. \\nThe art piece should be pixel \\nbased coloured concept. This \\nis designed for a digital poster \\nbackground.  \\n \\n3 To use the Python’s library, it \\nmust be installed in the \\ncomputer. It is then imported \\nin the current project. The \\nresearcher uses matplotlib for \\nplotting and numpy for \\nnumerical operations. \\n \\n4 Because it is an artpiece, \\nsimilarly to some design \\nsoftware, a blank canvas \\nshould be created. NumPy is \\nused with the specified width \\nand height. \\n \\n5 The art is generated by \\nmanipulating the canvas. \\n \\nThe parameters are defined by \\nthe spiral and iterate through a \\nrange of points. For each \\npoint, the position is \\ncalculated using polar \\ncoordinates, and a random \\ncolor is assigned to it. \\n \\n \\n6 Matplotlib is used to display \\nthe generated art. The axis are \\nturned off to make it purely \\nvisual.\"\n",
    "\"\"\""
   ]
  },
  {
   "cell_type": "code",
   "execution_count": 5,
   "metadata": {},
   "outputs": [],
   "source": [
    "user_prompt = summarization_text_prompt.format(context = text, query = \"generative ai\")\n",
    "\n",
    "messages = [{\"role\":\"user\", \"content\":user_prompt}]\n",
    "\n",
    "summary = get_completion(messages)"
   ]
  },
  {
   "cell_type": "code",
   "execution_count": 6,
   "metadata": {},
   "outputs": [
    {
     "name": "stdout",
     "output_type": "stream",
     "text": [
      "{\n",
      "  \"Definition\": \"Generative AI refers to a form of art, known as generative art, which is created using algorithms and autonomous systems. It combines elements of computer science and art, allowing artists to produce works through coding instead of traditional manual techniques.\",\n",
      "  \n",
      "  \"Role of AI in Art\": \"AI is transforming the creative industries by enabling artists to produce high-quality artworks more efficiently. While AI serves as a powerful tool for enhancing artistic productivity, it still requires human involvement to infuse creativity and emotional depth into the artwork.\",\n",
      "  \n",
      "  \"Generative Art Characteristics\": \"Generative art can take various forms, including visual art, music, and literature. It often involves randomness and can produce unique pieces each time a script is executed. The art is generated through coding, utilizing programming languages like Python, which allows for manipulation of digital canvases and incorporation of complex algorithms.\",\n",
      "  \n",
      "  \"Python and Generative Art\": \"The Python programming language plays a significant role in creating generative art. Artists can use libraries such as Matplotlib and NumPy to define rules and processes for generating art. Practical coding examples demonstrate the potential of Python in producing visually appealing digital art.\",\n",
      "  \n",
      "  \"Interdisciplinary Collaboration\": \"Generative art fosters interdisciplinary collaboration, breaking the boundaries of conventional art forms. It encourages the integration of technology and creativity, making it essential for artists to remain relevant in the modern landscape influenced by AI.\"\n",
      "}\n"
     ]
    }
   ],
   "source": [
    "print(summary)"
   ]
  },
  {
   "cell_type": "code",
   "execution_count": 40,
   "metadata": {},
   "outputs": [],
   "source": [
    "clean_sum = summary.replace(\"`\", \"\").replace(\"json\",\"\")"
   ]
  },
  {
   "cell_type": "code",
   "execution_count": 7,
   "metadata": {},
   "outputs": [],
   "source": [
    "import json\n",
    "\n",
    "sum_json = json.loads(summary)"
   ]
  },
  {
   "cell_type": "code",
   "execution_count": 8,
   "metadata": {},
   "outputs": [
    {
     "data": {
      "text/plain": [
       "{'Definition': 'Generative AI refers to a form of art, known as generative art, which is created using algorithms and autonomous systems. It combines elements of computer science and art, allowing artists to produce works through coding instead of traditional manual techniques.',\n",
       " 'Role of AI in Art': 'AI is transforming the creative industries by enabling artists to produce high-quality artworks more efficiently. While AI serves as a powerful tool for enhancing artistic productivity, it still requires human involvement to infuse creativity and emotional depth into the artwork.',\n",
       " 'Generative Art Characteristics': 'Generative art can take various forms, including visual art, music, and literature. It often involves randomness and can produce unique pieces each time a script is executed. The art is generated through coding, utilizing programming languages like Python, which allows for manipulation of digital canvases and incorporation of complex algorithms.',\n",
       " 'Python and Generative Art': 'The Python programming language plays a significant role in creating generative art. Artists can use libraries such as Matplotlib and NumPy to define rules and processes for generating art. Practical coding examples demonstrate the potential of Python in producing visually appealing digital art.',\n",
       " 'Interdisciplinary Collaboration': 'Generative art fosters interdisciplinary collaboration, breaking the boundaries of conventional art forms. It encourages the integration of technology and creativity, making it essential for artists to remain relevant in the modern landscape influenced by AI.'}"
      ]
     },
     "execution_count": 8,
     "metadata": {},
     "output_type": "execute_result"
    }
   ],
   "source": [
    "sum_json"
   ]
  },
  {
   "cell_type": "code",
   "execution_count": 9,
   "metadata": {},
   "outputs": [],
   "source": [
    "import json\n",
    "\n",
    "json_output = \"\"\"\n",
    "{\n",
    "    \"abstract\": \"The article discusses the use of Python programming to explore generative art as a modern approach to art and design influenced by Artificial Intelligence (AI). It emphasizes the relevance of understanding generative art and its processes, highlighting the potential for interdisciplinary collaboration.\",\n",
    "    \"introduction\": \"The rise of technology, particularly AI, has transformed the art world, allowing for the creation of high-quality artworks efficiently. Generative art, which is created through algorithms and autonomous systems, merges art and computer science, enabling both randomness and structured creativity.\",\n",
    "    \"generative_art\": \"Generative art involves the creation of artworks through coded algorithms, contrasting with traditional art forms. It can include various art types and often relies on the use of programming languages like Python, which offers libraries such as Pygame and Processing.py for artists to create visual and interactive pieces.\",\n",
    "    \"python_usage\": \"Python is favored for generative art due to its simplicity, extensive libraries, and readability. Artists can generate artworks through algorithms that define rules and parameters. Examples include fractal patterns, particle systems, and neural networks, each providing unique visual outputs based on coded instructions.\",\n",
    "    \"conclusion\": \"By utilizing Python, artists can leverage technology to enhance creativity and produce innovative art forms. Generative art exemplifies the interplay between human creativity and machine capabilities, fostering new artistic expressions through coding.\"\n",
    "}\n",
    "\"\"\"\n",
    "\n",
    "res = json.loads(json_output)"
   ]
  },
  {
   "cell_type": "code",
   "execution_count": 11,
   "metadata": {},
   "outputs": [
    {
     "name": "stdout",
     "output_type": "stream",
     "text": [
      "['abstract', 'introduction', 'generative_art', 'python_usage', 'conclusion']\n"
     ]
    }
   ],
   "source": [
    "description_prompt = f\"\"\"You will receive an input text in json format.\n",
    "Your task is to identify the keys and return them as a list.\n",
    "\n",
    "### INPUT TEXT ###\n",
    "{res}\n",
    "\n",
    "return only the list.\n",
    "\"\"\"\n",
    "\n",
    "messages = [{\"role\":\"user\", \"content\":description_prompt}]\n",
    "\n",
    "keys = get_completion(messages)\n",
    "print(keys)"
   ]
  },
  {
   "cell_type": "code",
   "execution_count": null,
   "metadata": {},
   "outputs": [],
   "source": []
  }
 ],
 "metadata": {
  "kernelspec": {
   "display_name": ".venv",
   "language": "python",
   "name": "python3"
  },
  "language_info": {
   "codemirror_mode": {
    "name": "ipython",
    "version": 3
   },
   "file_extension": ".py",
   "mimetype": "text/x-python",
   "name": "python",
   "nbconvert_exporter": "python",
   "pygments_lexer": "ipython3",
   "version": "3.11.0"
  }
 },
 "nbformat": 4,
 "nbformat_minor": 2
}

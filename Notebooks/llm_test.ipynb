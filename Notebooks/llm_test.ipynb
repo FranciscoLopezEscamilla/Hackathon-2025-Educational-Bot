{
 "cells": [
  {
   "cell_type": "code",
   "execution_count": 1,
   "metadata": {},
   "outputs": [],
   "source": [
    "import os\n",
    "from openai import AzureOpenAI\n",
    "\n",
    "api_key = os.getenv('AZURE_OPENAI_KEY')\n",
    "endpoint = os.getenv('AZURE_OPENAI_ENDPOINT')\n",
    "version = os.getenv('AZURE_OPENAI_VERSION')\n",
    "model = os.getenv('GPT_DEPLOYMENT_NAME')\n",
    "\n",
    "client = AzureOpenAI(\n",
    "                azure_endpoint=endpoint,\n",
    "                api_key=api_key,\n",
    "                api_version=version\n",
    "            )"
   ]
  },
  {
   "cell_type": "code",
   "execution_count": 16,
   "metadata": {},
   "outputs": [],
   "source": [
    "functions = [\n",
    "    {\n",
    "        \"type\":\"function\",\n",
    "        \"function\" :{\n",
    "            \"name\": \"summarize_text\",\n",
    "            \"description\" : \"summarize text into sections\",\n",
    "            \"strict\": True,\n",
    "            \"parameters\":{\n",
    "                \"type\": \"object\",\n",
    "                \"properties\":{\n",
    "                    \"summary\":{\n",
    "                        \"type\": \"string\",\n",
    "                        \"description\": \"Summary of the text divided into sections\"\n",
    "                    }\n",
    "                },\n",
    "                \"required\":[\"summary\"],\n",
    "                \"additionalProperties\": False\n",
    "            }    \n",
    "        }\n",
    "    }\n",
    "    ]"
   ]
  },
  {
   "cell_type": "code",
   "execution_count": 2,
   "metadata": {},
   "outputs": [],
   "source": [
    "def get_completion(messages: list, temperature:float = 0.7) -> str:\n",
    "    \n",
    "        completion = client.chat.completions.create(\n",
    "            model = model, \n",
    "            messages=messages,\n",
    "            temperature=temperature,\n",
    "            #tools=functions,\n",
    "            #tool_choice={\"type\": \"function\", \"function\": {\"name\": \"summarize_text\"}}\n",
    "        )\n",
    "\n",
    "        return completion.choices[0].message.content#tool_calls[0].function.arguments"
   ]
  },
  {
   "cell_type": "markdown",
   "metadata": {},
   "source": [
    "## agents solution\n",
    "\n",
    "1. Topic choice\n",
    "2. Function to identify what kind of outcome is the user expecting (pptx, pdf, image with text (display))\n",
    "3. Receive as input one of the previous categories (category = \"pdf\")\n",
    "4. Decide which prompts to use based on output of previous function.\n"
   ]
  },
  {
   "cell_type": "code",
   "execution_count": 3,
   "metadata": {},
   "outputs": [],
   "source": [
    "summarization_text_prompt = '''You're going to receive two inputs, a context and a user query.\n",
    "Please read and understand the context below delimited by triple backticks and the user query and follow the next instructions.\n",
    "\n",
    "### CONTEXT ###\n",
    "```{context}```\n",
    "\n",
    "### QUERY ###\n",
    "```{query}```\n",
    "\n",
    "Follow this instructions:\n",
    "### INSTRUCTIONS ###\n",
    "1. Read carefully and understand the context\n",
    "2. Create a summary of the context. The summary must have the most important elements on the text.\n",
    "3. Make sure that the summary contains the necessary information that the user is looking for in the query.\n",
    "4. Split your summary into sections and short paragraphs.\n",
    "\n",
    "Return a string with a valid json format. Use the sections as key names. Do not include the word 'json' as part of your respond.\n",
    "'''"
   ]
  },
  {
   "cell_type": "code",
   "execution_count": 4,
   "metadata": {},
   "outputs": [],
   "source": [
    "text = \"\"\"\n",
    "\"[69] \\n \\nREFERENCES \\n \\nA., A. (2023). The Renaissance of Creativity: Exploring the Impact of Generative AI in the Creative \\nIndustry. https://www.linkedin.com/pulse/renaissance -creativity-exploring-impact-generative-ai-\\nadam \\nAela, E. (2023, April 1). Artificial Intelligence: How AI is Changing Art. \\nhttps://aelaschool.com/en/art/artificial-intelligence-art-changes/ \\nAhmed, R. (2023). The Future of Art and Creativity in the Age of AI. \\nhttps://www.linkedin.com/pulse/future-art-creativity-age-ai-rohan-ahmed \\nGwafan, D. (2023). Python Programming Language: A Versatile and Powerful Tool for Modern \\nDevelopment. https://www.linkedin.com/pulse/python -programming-language-versatile-powerful-\\ntool-modern-gwafan \\nGenerative art. (2023). In Wikipedia. \\nhttps://en.wikipedia.org/w/index.php?title=Generative_art&oldid=1176498478 \\nHarwell, D. (2022). He used AI art from Midjourney to win a fine -arts prize. Did he cheat? - The \\nWashington Post. https://www.washingtonpost.com/technology/2022/09/02/midjourney -artificial-\\nintelligence-state-fair-colorado/ \\nMahadik, S. (2023). Transformation of Creative Industries with Generative AI. \\nhttps://www.linkedin.com/pulse/transformation-creative-industries-generative-ai-sandesh-mahadik \\nMatplotlib. (2023). In Wikipedia. \\nhttps://en.wikipedia.org/w/index.php?title=Matplotlib&oldid=1177283978 \\nNigeria,  consistent_hippopotamus | R. C. A. |. (2023). Artists are not happy with the existence of AI. \\nTopical Talk. https://talk.economistfoundation.org/festivals/festival-2023/ai-and-the-arts/artists-are-\\nnot-happy-with-the-existence-of-ai/ \\nNumPy. (2023). In Wikipedia. https://en.wikipedia.org/w/index.php?title=NumPy&oldid=1174952220 \\nPearson, M. (2011). Generative art, a practical guide using processing. \\nPip (package manager). (2023). In Wikipedia. \\nhttps://en.wikipedia.org/w/index.php?title=Pip_(package_manager)&oldid=1161551744 \\nPyCharm. (2023). In Wikipedia. \\nhttps://en.wikipedia.org/w/index.php?title=PyCharm&oldid=1172673606 \\nPython, R. (2023). The Beginner’s Guide to Python Turtle – Real Python. \\nhttps://realpython.com/beginners-guide-python-turtle/ \\nTempel, M. (2017). Generative art for all. Journal of Innovation and Entrepreneurship , 6(1). \\nhttps://www.academia.edu/88354378/Generative_art_for_all\\n\\n[59] \\n \\nproduce more advanced and higher-quality work and has helped visual artists produce art. AI \\nis modernizing some processes, but it still requires human involvement to create something \\nuseful and, most importantly, interesting. Therefore, AI can be seen as a tool that complements \\nand enhances the work of designers and artists to make their work more productive and efficient. \\nDesigners can fill the gap between human touch and creativity, which is fundamental to the \\nartwork. Unlike computers, artists are endowe d with their own emotions and unique \\nperspectives (Nigeria, 2023). \\nGenerative art, also known as procedural art or algorithmic art, is a form of art that \\ncreates itself independently. This can take the form of mathematical functions that create \\ngeometric and precisely calculated works of art. In other cases, chance takes control and creates \\nchaotic artworks that incorporate abstract styles. In many cases, digital artists combine the two. \\nGenerative art comes in a variety of forms, from music to literature to digital graphics. By \\ndefinition, generative art is a form of art that is either entirely or partially created using an \\nautonomous system. Generative art is a unique combination of computer science and art. This \\nsystem can be represented by any type of algorithm: mathematical, mechanical, or biological. \\nGenerative art creation usually involves a programming language with the use of codes. \\nSimilarly, generative content that uses AI uses prompt technology to generate the desired \\ninformation. Investigating the Python programming language for generating artwo rk will \\ncontribute to the understanding of generative art and provide important and meaningful insights \\ninto artificial intelligence. \\nThis type of art is often inspired by modern art, especially Pop Art, which relies heavily \\non ordered geometric patterns. However, it is a very broad and rich category of art that has one \\ncentral characteristic. Generative art in some way involves a self -governing or autonomous \\nsystem. \\nChance is a kind of autonomous system. By incorporating chance into a piece of code \\nart, different unique pieces of art are generated each time the script is executed or in response \\nto the user's interaction. This can create different types of ideas that are available for selection. \\nThis randomness can also be orderly and autonomous or the integration of mixing and chaos. \\nAutonomous or generative art is not rejecting creativity, it finds creativity through \\ndifferent fields by building art pieces through coding. Artists may argue that generative arts will \\nkill manual art eventually. A game designer from Colorado USA recently took home the first \\nprize in the digital arts or digitally manipulated photography category at the Colorado State Fair \\nFine Arts Competition. His winning image was made with Midjourney - an Artificial \\nIntelligence system that can come up with images at a prompt. The win was met with resistance \\nas many would argue that using AI would be as easy as typing prompts. However, to come up \\nwith such complicated imagery, there were a lot of things involved. It took more than 80 hours. \\nThis example of generative art does not involve any coding but uses prompts, tweaks, light \\nadjustments, and Photoshop to come up with the final art piece which initially needed 900 \\niterations apart from using more AI programs to improve resolution (Harwell, 2022). \\n \\nRESEARCH QUESTIONS \\n1. What is generative art, and how can Python programming language be utilized \\nin its creation? \\nGenerative art is a form of digital art that uses algorithms, often aided by computers and \\nsoftware, to create artwork. Rather than creating art manually through traditional techniques \\nsuch as painting or sculpting, generative artists write code that defin es rules, processes, and\\n\\n[58] \\n \\n \\n \\nUNDERSTANDING OF GENERATIVE ART WITH ‘PYTHON’ \\nPROGRAMMING \\n \\n \\nTeddy Marius Soikun1* \\n \\n1Academy of Arts and Creative Technology,  \\nUniversity Malaysia Sabah, 88400 Kota Kinabalu, Malaysia  \\n*tsoikun@ums.edu.my \\n \\nReceived: 21 June 2023 | Revised: 10 July 2023  \\nAccepted: 30 September 2023 / Published: 20 December 2023 \\nDOI: https://10.51200/ga.v13i2.4735     \\n \\n \\nABSTRACT \\nThe article uses the Python programming language to introduce generative arts as an alternative \\nto conventional art and design. Understanding generative arts in the age of Artificial \\nIntelligence (AI) is seen as a way forward to remain relevant. Through the use of a practice -\\nbased research methodology, the article explores principles, processes, and tools for generating \\nart through coding. Practical samples are used to demonstrate the potential of generative art \\nthrough basic coding examples. This research also highlights the role of generative art in \\nfostering interdisciplinary collaboration and transcending the boundaries of conventional art \\nforms. \\nKeywords: Generative Arts, Python, Artificial Intelligence \\n \\nINTRODUCTION \\nThe computer plays a very important role in our life nowadays. Almost every task is connected \\nto the computer. From ordering groceries online to using public transportation to driving a car \\nor communicating with other people. One part that plays an even mo re important role in \\ntechnology is artificial intelligence. Although it has been with us for quite some time, the term \\nstill inspires fear and awe. Most of us are still wondering about its potential and future. AI can \\nbe used in managing traffic routes, pr oducts, movies, and location suggestions, and as virtual \\nassistants such as chatbots, search engines, banks, and so on (Aela, 2023). \\nRecently, the art world has been transformed by the advent of technology, especially \\nAI and generative arts. Many types of art can now be easily made with the help of a computer. \\nWith the advancement of AI, many high -quality artworks can be created with less time and \\nresources. The technology has achieved significant results in generating visual, animated, and \\naudio content (Hodgkins, 2023). \\nAI is more or less comparable to the advent of photography more than a hundred years \\nago. Everyone was shocked when it first appeared. However, it has become a tool for artists to\\n\\n[65] \\n \\nsimple generative art piece may give insights into how the technology works and may \\nlead to the understanding of AI generative content in art.  \\n Explanation  Sample codes \\n1 Python must be installed in the \\ncomputer as well as the \\nrequired libraries. matplotlib is \\ninstalled using pip: \\n \\n2 Following PBR, the researcher \\ndefine the generative art piece. \\nThe art piece should be pixel \\nbased coloured concept. This \\nis designed for a digital poster \\nbackground.  \\n \\n3 To use the Python’s library, it \\nmust be installed in the \\ncomputer. It is then imported \\nin the current project. The \\nresearcher uses matplotlib for \\nplotting and numpy for \\nnumerical operations. \\n \\n4 Because it is an artpiece, \\nsimilarly to some design \\nsoftware, a blank canvas \\nshould be created. NumPy is \\nused with the specified width \\nand height. \\n \\n5 The art is generated by \\nmanipulating the canvas. \\n \\nThe parameters are defined by \\nthe spiral and iterate through a \\nrange of points. For each \\npoint, the position is \\ncalculated using polar \\ncoordinates, and a random \\ncolor is assigned to it. \\n \\n \\n6 Matplotlib is used to display \\nthe generated art. The axis are \\nturned off to make it purely \\nvisual.\"\n",
    "\"\"\""
   ]
  },
  {
   "cell_type": "code",
   "execution_count": 5,
   "metadata": {},
   "outputs": [],
   "source": [
    "user_prompt = summarization_text_prompt.format(context = text, query = \"generative ai\")\n",
    "\n",
    "messages = [{\"role\":\"user\", \"content\":user_prompt}]\n",
    "\n",
    "summary = get_completion(messages)"
   ]
  },
  {
   "cell_type": "code",
   "execution_count": 58,
   "metadata": {},
   "outputs": [
    {
     "name": "stdout",
     "output_type": "stream",
     "text": [
      "Changing your car's engine oil is a crucial maintenance task that helps ensure the longevity and optimal performance of your vehicle. Below is a detailed step-by-step guide to help you through the process:\n",
      "\n",
      "### Tools and Materials Needed:\n",
      "\n",
      "1. **Tools:**\n",
      "   - Socket wrench or ratchet set\n",
      "   - Oil filter wrench\n",
      "   - Funnel\n",
      "   - Oil drain pan\n",
      "   - Rags or paper towels\n",
      "   - Jack and jack stands (or ramps)\n",
      "\n",
      "2. **Materials:**\n",
      "   - New engine oil (check your owner's manual for the correct type and amount)\n",
      "   - New oil filter\n",
      "   - Oil filter gasket (if needed)\n",
      "   - Oil drain pan (if not using one already)\n",
      "   - Gloves (optional)\n",
      "   - Safety glasses (optional)\n",
      "\n",
      "### Step-by-Step Process:\n",
      "\n",
      "#### 1. Preparation:\n",
      "   - **Check the Owner's Manual:** Before you start, refer to your vehicle's owner manual for specific oil change recommendations, including the type of oil and filter required.\n",
      "   - **Gather Materials:** Make sure you have all necessary tools and materials on hand.\n",
      "\n",
      "#### 2. Safety First:\n",
      "   - **Park on a Level Surface:** Ensure your car is parked on a flat, stable surface.\n",
      "   - **Engage the Parking Brake:** Activate the parking brake to prevent the vehicle from rolling.\n",
      "   - **Wear Protective Gear:** Use gloves and safety glasses if desired.\n",
      "\n",
      "#### 3. Lift the Vehicle (if necessary):\n",
      "   - **Use a Jack:** If your vehicle has low clearance, use a jack to lift it. Secure it with jack stands or drive it onto ramps for better access to the oil pan.\n",
      "\n",
      "#### 4. Drain the Old Oil:\n",
      "   - **Locate the Oil Drain Plug:** Locate the oil drain plug on the bottom of the oil pan.\n",
      "   - **Place the Drain Pan:** Position the oil drain pan under the drain plug.\n",
      "   - **Remove the Drain Plug:** Use a socket wrench to loosen and remove the drain plug. Be cautious as the oil may be hot.\n",
      "   - **Allow Oil to Drain:** Let the old oil completely drain into the pan. This may take a few minutes.\n",
      "\n",
      "#### 5. Replace the Oil Filter:\n",
      "   - **Identify the Oil Filter:** Locate the oil filter (it may be above or below the engine).\n",
      "   - **Remove the Old Filter:** Use an oil filter wrench to loosen and remove the oil filter. Be prepared for some oil to spill out as you remove it.\n",
      "   - **Prepare the New Filter:** Before installing the new filter, apply a bit of new oil to the rubber gasket on the top of the new filter. This helps create a better seal.\n",
      "   - **Install the New Filter:** Screw on the new filter by hand. Ensure it is snug but do not overtighten, as this can damage the gasket.\n",
      "\n",
      "#### 6. Replace the Drain Plug:\n",
      "   - **Reinstall the Drain Plug:** Once all the oil has drained, replace the drain plug and tighten it securely with a wrench. Be careful not to overtighten, which can strip the threads.\n",
      "\n",
      "#### 7. Add New Engine Oil:\n",
      "   - **Open the Oil Filler Cap:** Locate and remove the oil filler cap on the top of the engine.\n",
      "   - **Use a Funnel:** Place a funnel in the opening to avoid spills.\n",
      "   - **Pour in New Oil:** Pour in the new engine oil according to the amount specified in the owner's manual. Usually, this is between 4 to 6 quarts, depending on the engine size.\n",
      "   - **Replace the Oil Cap:** Once the oil is added, securely replace the oil filler cap.\n",
      "\n",
      "#### 8. Check Oil Level:\n",
      "   - **Start the Engine:** Start your vehicle and let it idle for a few minutes. This allows the new oil to circulate.\n",
      "   - **Check for Leaks:** Inspect the area around the oil filter and drain plug for any leaks.\n",
      "   - **Turn Off the Engine:** After a few minutes, turn off the engine and wait a minute for the oil to settle.\n",
      "   - **Use the Dipstick:** Remove the dipstick, wipe it clean, reinsert it, then remove it again to check the oil level. Add more oil if necessary.\n",
      "\n",
      "#### 9. Dispose of Old Oil:\n",
      "   - **Dispose Properly:** Take the used oil and oil filter to a recycling center or an auto parts store that accepts used oil for recycling. Do not pour it down the drain or throw it in the trash.\n",
      "\n",
      "### Final Checks:\n",
      "- **Start the Engine Again:** After verifying everything is secure, start your vehicle again and let it run for a few minutes. Check for leaks one more time.\n",
      "- **Reset Oil Change Light (if applicable):** If your vehicle has an oil change reminder light, refer to the owner's manual on how to reset it.\n",
      "\n",
      "This process may take approximately 30 minutes to an hour, depending on your experience and whether you encounter any issues. Regular oil changes (typically every 5,000 to 7,500 miles, depending on oil type and vehicle) are essential to keep your engine running smoothly.\n"
     ]
    }
   ],
   "source": [
    "instruct = \"\"\"\n",
    "Describe in detail the process of changing my car's engine oil.\n",
    "\"\"\"\n",
    "\n",
    "messages = [{\"role\": \"user\", \"content\": instruct}]\n",
    "\n",
    "result = get_completion(messages)\n",
    "\n",
    "print(result)"
   ]
  },
  {
   "cell_type": "code",
   "execution_count": 60,
   "metadata": {},
   "outputs": [
    {
     "name": "stdout",
     "output_type": "stream",
     "text": [
      "\"An illustration of the step-by-step process of changing a car's engine oil: 1) Tools and materials laid out on a garage floor, including a wrench set, oil filter wrench, funnel, oil drain pan, and new engine oil. 2) A car parked on a level surface with the parking brake engaged. 3) The car lifted with a jack and secured with jack stands. 4) A person draining old oil from the oil pan into a drain pan, wearing gloves. 5) Removing the old oil filter with an oil filter wrench. 6) Installing a new oil filter, applying oil to the gasket. 7) Replacing the drain plug after draining. 8) Pouring new engine oil into the engine using a funnel. 9) Checking the oil level with a dipstick. 10) Properly disposing of old oil at a recycling center. Show a clean, organized garage environment with bright lighting.\"\n"
     ]
    }
   ],
   "source": [
    "prompt2 = f\"\"\"\n",
    "Below there's a text that describes the process of how to change the car's engine oil.\n",
    "\n",
    "Understand the text and create a short sentece that sums up the text.\n",
    "\n",
    "Create your summary as if you were describing a process and then create a draw of it.\n",
    "Be as specific as you can, the text you generate is going to be used as prompt to a dalle-3 model to generate images.\n",
    "\n",
    "###TEXT###\n",
    "{result}\n",
    "\n",
    "return only the drawing prompt for dall-e 3\n",
    "\"\"\"\n",
    "\n",
    "messages = [{\"role\": \"user\", \"content\": prompt2}]\n",
    "\n",
    "description = get_completion(messages)\n",
    "\n",
    "print(description)"
   ]
  },
  {
   "cell_type": "code",
   "execution_count": 61,
   "metadata": {},
   "outputs": [
    {
     "data": {
      "text/plain": [
       "'\"An illustration of the step-by-step process of changing a car\\'s engine oil: 1) Tools and materials laid out on a garage floor, including a wrench set, oil filter wrench, funnel, oil drain pan, and new engine oil. 2) A car parked on a level surface with the parking brake engaged. 3) The car lifted with a jack and secured with jack stands. 4) A person draining old oil from the oil pan into a drain pan, wearing gloves. 5) Removing the old oil filter with an oil filter wrench. 6) Installing a new oil filter, applying oil to the gasket. 7) Replacing the drain plug after draining. 8) Pouring new engine oil into the engine using a funnel. 9) Checking the oil level with a dipstick. 10) Properly disposing of old oil at a recycling center. Show a clean, organized garage environment with bright lighting.\"'"
      ]
     },
     "execution_count": 61,
     "metadata": {},
     "output_type": "execute_result"
    }
   ],
   "source": [
    "description"
   ]
  },
  {
   "cell_type": "code",
   "execution_count": 40,
   "metadata": {},
   "outputs": [],
   "source": [
    "clean_sum = summary.replace(\"`\", \"\").replace(\"json\",\"\")"
   ]
  },
  {
   "cell_type": "code",
   "execution_count": 7,
   "metadata": {},
   "outputs": [],
   "source": [
    "import json\n",
    "\n",
    "sum_json = json.loads(summary)"
   ]
  },
  {
   "cell_type": "code",
   "execution_count": 8,
   "metadata": {},
   "outputs": [
    {
     "data": {
      "text/plain": [
       "{'Definition': 'Generative AI refers to a form of art, known as generative art, which is created using algorithms and autonomous systems. It combines elements of computer science and art, allowing artists to produce works through coding instead of traditional manual techniques.',\n",
       " 'Role of AI in Art': 'AI is transforming the creative industries by enabling artists to produce high-quality artworks more efficiently. While AI serves as a powerful tool for enhancing artistic productivity, it still requires human involvement to infuse creativity and emotional depth into the artwork.',\n",
       " 'Generative Art Characteristics': 'Generative art can take various forms, including visual art, music, and literature. It often involves randomness and can produce unique pieces each time a script is executed. The art is generated through coding, utilizing programming languages like Python, which allows for manipulation of digital canvases and incorporation of complex algorithms.',\n",
       " 'Python and Generative Art': 'The Python programming language plays a significant role in creating generative art. Artists can use libraries such as Matplotlib and NumPy to define rules and processes for generating art. Practical coding examples demonstrate the potential of Python in producing visually appealing digital art.',\n",
       " 'Interdisciplinary Collaboration': 'Generative art fosters interdisciplinary collaboration, breaking the boundaries of conventional art forms. It encourages the integration of technology and creativity, making it essential for artists to remain relevant in the modern landscape influenced by AI.'}"
      ]
     },
     "execution_count": 8,
     "metadata": {},
     "output_type": "execute_result"
    }
   ],
   "source": [
    "sum_json"
   ]
  },
  {
   "cell_type": "code",
   "execution_count": 12,
   "metadata": {},
   "outputs": [],
   "source": [
    "import json\n",
    "\n",
    "json_output = \"\"\"\n",
    "\"text\" : \"{\n",
    "    \"abstract\": \"The article discusses the use of Python programming to explore generative art as a modern approach to art and design influenced by Artificial Intelligence (AI). It emphasizes the relevance of understanding generative art and its processes, highlighting the potential for interdisciplinary collaboration.\",\n",
    "    \"introduction\": \"The rise of technology, particularly AI, has transformed the art world, allowing for the creation of high-quality artworks efficiently. Generative art, which is created through algorithms and autonomous systems, merges art and computer science, enabling both randomness and structured creativity.\",\n",
    "    \"generative_art\": \"Generative art involves the creation of artworks through coded algorithms, contrasting with traditional art forms. It can include various art types and often relies on the use of programming languages like Python, which offers libraries such as Pygame and Processing.py for artists to create visual and interactive pieces.\",\n",
    "    \"python_usage\": \"Python is favored for generative art due to its simplicity, extensive libraries, and readability. Artists can generate artworks through algorithms that define rules and parameters. Examples include fractal patterns, particle systems, and neural networks, each providing unique visual outputs based on coded instructions.\",\n",
    "    \"conclusion\": \"By utilizing Python, artists can leverage technology to enhance creativity and produce innovative art forms. Generative art exemplifies the interplay between human creativity and machine capabilities, fostering new artistic expressions through coding.\"\n",
    "}\"\n",
    "\"\"\"\n",
    "\n",
    "#res = json.loads(json_output)"
   ]
  },
  {
   "cell_type": "code",
   "execution_count": 13,
   "metadata": {},
   "outputs": [
    {
     "name": "stdout",
     "output_type": "stream",
     "text": [
      "```json\n",
      "[\"abstract\", \"introduction\", \"generative_art\", \"python_usage\", \"conclusion\"]\n",
      "```\n"
     ]
    }
   ],
   "source": [
    "description_prompt = f\"\"\"You will receive an input text in json format.\n",
    "Your task is to identify the keys and return them as a list.\n",
    "\n",
    "### INPUT TEXT ###\n",
    "{json_output}\n",
    "\n",
    "return only the list.\n",
    "\"\"\"\n",
    "\n",
    "messages = [{\"role\":\"user\", \"content\":description_prompt}]\n",
    "\n",
    "keys = get_completion(messages)\n",
    "print(keys)"
   ]
  },
  {
   "cell_type": "code",
   "execution_count": 29,
   "metadata": {},
   "outputs": [],
   "source": [
    "jj = \"\"\"\n",
    "```json\\n{\\n  \\\"overview\\\": \\\"The article highlights how Python programming serves as a modern alternative to traditional art forms through the creation of generative art, focusing on the principles, processes, and tools essential for art generation using coding and artificial intelligence.\\\",\\n  \\\"important_concepts\\\": \\\"Generative art is defined as artworks produced by autonomous systems or algorithms, primarily using programming languages like Python, emphasizing the importance of algorithms in establishing creative rules, the role of randomness in art, and the synergy between human creativity and computational power.\\\",\\n  \\\"features\\\": \\\"Python is preferred for generating art due to its user-friendly nature and a wide range of libraries, including Pygame, Processing.py, and Turtle Graphics, enabling artists to create stunning visuals, animations, and interactive experiences, such as fractal patterns, particle system simulations, and realistic image generation through neural networks.\\\",\\n  \\\"relevance\\\": \\\"Generative art challenges conventional ideas about authorship and creativity, encouraging a fresh perspective on the interplay between human and machine-generated art, fostering collaboration between artists and programmers, and demonstrating the transformative impact of technology on artistic expression.\\\",\\n  \\\"conclusion\\\": \\\"Utilizing Python for generative art empowers artists to innovate and express themselves by exploiting algorithms and computational systems, allowing for the creation of distinctive and intricate artworks that fuse creativity with cutting-edge technology.\\\"\\n}\\n```\n",
    "\"\"\"\n",
    "\n",
    "kk = jj.replace(\"`\", \"\").replace(\"json\",\"\").replace(\",\",\" \")"
   ]
  },
  {
   "cell_type": "code",
   "execution_count": 57,
   "metadata": {},
   "outputs": [
    {
     "data": {
      "text/plain": [
       "'../api/assets/generated_images\\\\2025-02-27-14-57-00'"
      ]
     },
     "execution_count": 57,
     "metadata": {},
     "output_type": "execute_result"
    }
   ],
   "source": [
    "from datetime import datetime\n",
    "\n",
    "images_folder = \"../api/assets/generated_images\"\n",
    "\n",
    "sub_folder = (datetime.today().strftime('%Y-%m-%d %H:%M:%S')).replace(\" \",\"-\").replace(\":\",\"-\")\n",
    "images_path = os.path.join(images_folder,sub_folder)\n",
    "\n",
    "if not os.path.exists(images_path):\n",
    "   os.makedirs(images_path) \n",
    "\n",
    "images_path"
   ]
  },
  {
   "cell_type": "markdown",
   "metadata": {},
   "source": [
    "## pictures test"
   ]
  },
  {
   "cell_type": "code",
   "execution_count": 3,
   "metadata": {},
   "outputs": [],
   "source": [
    "from openai import AzureOpenAI\n",
    "\n",
    "openai_api_key = os.getenv('AZURE_OPENAI_API_KEY')\n",
    "openai_api_base = os.getenv('AZURE_OPENAI_ENDPOINT')\n",
    "openai_api_version = os.getenv('AZURE_OPENAI_API_VERSION')\n",
    "dalle_model = os.getenv('GPT_IMAGES_DEPLOYMENT_NAME')\n",
    "gpt_model = os.getenv('AZURE_OPENAI_CHAT_DEPLOYMENT_NAME')\n",
    "\n",
    "llm = AzureOpenAI(\n",
    "    api_key=openai_api_key,\n",
    "    #model=gpt_model,\n",
    "    azure_endpoint = openai_api_base,\n",
    "    api_version=openai_api_version\n",
    ")"
   ]
  },
  {
   "cell_type": "code",
   "execution_count": 2,
   "metadata": {},
   "outputs": [],
   "source": [
    "\n",
    "\n",
    "import os\n",
    "\n",
    "openai_api_key = os.getenv('AZURE_OPENAI_API_KEY')\n",
    "openai_api_base = os.getenv('AZURE_OPENAI_ENDPOINT')\n",
    "openai_api_version = os.getenv('AZURE_OPENAI_API_VERSION')\n",
    "dalle_model = os.getenv('GPT_IMAGES_DEPLOYMENT_NAME')\n",
    "gpt_model = os.getenv('AZURE_OPENAI_CHAT_DEPLOYMENT_NAME')\n"
   ]
  },
  {
   "cell_type": "code",
   "execution_count": 4,
   "metadata": {},
   "outputs": [],
   "source": [
    "import base64\n",
    "\n",
    "def encode_image(image_path):\n",
    "    with open(image_path, \"rb\") as image_file:\n",
    "        return base64.b64encode(image_file.read()).decode('utf-8')"
   ]
  }
 ],
 "metadata": {
  "kernelspec": {
   "display_name": ".venv",
   "language": "python",
   "name": "python3"
  },
  "language_info": {
   "codemirror_mode": {
    "name": "ipython",
    "version": 3
   },
   "file_extension": ".py",
   "mimetype": "text/x-python",
   "name": "python",
   "nbconvert_exporter": "python",
   "pygments_lexer": "ipython3",
   "version": "3.11.0"
  }
 },
 "nbformat": 4,
 "nbformat_minor": 2
}

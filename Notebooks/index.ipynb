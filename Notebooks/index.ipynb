{
 "cells": [
  {
   "cell_type": "code",
   "execution_count": 16,
   "metadata": {},
   "outputs": [
    {
     "data": {
      "text/plain": [
       "['../api/index_documents\\\\ED2_PAPER+ID+05+GENERATIVE+ART.pdf',\n",
       " '../api/index_documents\\\\UH Onboarding Manual.pdf']"
      ]
     },
     "execution_count": 16,
     "metadata": {},
     "output_type": "execute_result"
    }
   ],
   "source": [
    "import glob\n",
    "\n",
    "path = \"../api/index_documents\"\n",
    "\n",
    "files  = glob.glob(path + \"/*\")\n",
    "\n",
    "#for filename in glob.glob(f\"{path}/*\"):\n",
    "#    print(filename)\n",
    "\n",
    "files"
   ]
  },
  {
   "cell_type": "code",
   "execution_count": 17,
   "metadata": {},
   "outputs": [
    {
     "name": "stdout",
     "output_type": "stream",
     "text": [
      "../api/index_documents\\ED2_PAPER+ID+05+GENERATIVE+ART.pdf\n",
      "../api/index_documents\\UH Onboarding Manual.pdf\n"
     ]
    }
   ],
   "source": [
    "from langchain_community.document_loaders import PyPDFLoader\n",
    "\n",
    "docs = []\n",
    "for file in files:\n",
    "    loader = PyPDFLoader(file)\n",
    "    pages = loader.load()\n",
    "    docs.append(pages)\n",
    "    print(file)"
   ]
  },
  {
   "cell_type": "code",
   "execution_count": 7,
   "metadata": {},
   "outputs": [],
   "source": [
    "from langchain_community.vectorstores import FAISS\n",
    "from langchain_openai import AzureOpenAIEmbeddings\n",
    "from langchain_core.documents import Document\n",
    "import os\n",
    "\n",
    "embeddings = AzureOpenAIEmbeddings(\n",
    "                azure_endpoint=os.getenv('AZURE_OPENAI_ENDPOINT'),\n",
    "                api_key=os.getenv('AZURE_OPENAI_KEY'),\n",
    "                azure_deployment=os.getenv('EMBEDDINGS_DEPLOYMENT_NAME')\n",
    "            )\n",
    "\n",
    "\n",
    "\n",
    "#vector_store = FAISS.from_documents(docs[0], embeddings)\n",
    "\n",
    "#vector_store.save_local(os.path.join(full_path, \"faiss_index\"))\n",
    "#index_path = os.path.join(full_path, \"faiss_index\")"
   ]
  },
  {
   "cell_type": "code",
   "execution_count": 36,
   "metadata": {},
   "outputs": [],
   "source": [
    "from langchain_community.docstore.in_memory import InMemoryDocstore\n",
    "import faiss\n",
    "\n",
    "d = 1536\n",
    "faiss_index = faiss.IndexFlatL2(d)\n",
    "\n",
    "vs = FAISS( \n",
    "    embedding_function=embeddings,\n",
    "    index=faiss_index,\n",
    "    docstore= InMemoryDocstore(),\n",
    "    index_to_docstore_id={}\n",
    "    )"
   ]
  },
  {
   "cell_type": "code",
   "execution_count": 37,
   "metadata": {},
   "outputs": [
    {
     "data": {
      "text/plain": [
       "['150c06d2-c2e2-4606-b532-f2d23d9b8a69',\n",
       " 'f9a3bcd5-8cb8-44e3-b608-4c98296e073f',\n",
       " '527f2c0c-b259-49dc-8508-9aa38a698674',\n",
       " '5f87d2b1-b797-4e96-822c-0dd3e08603a9',\n",
       " '1dba8287-2d01-4383-84ed-fec70cd962f8',\n",
       " '476f9526-aa71-48e9-bc16-df5a9980763e',\n",
       " '52aae229-4cbf-4fd5-bfa4-bea8ac2f55d7',\n",
       " '6123d1dc-99ef-4ab5-bdf1-9400f813af63',\n",
       " 'b3b1e494-4f60-4adb-8c05-d390e5b19865',\n",
       " '51cf03b7-da8a-4047-b076-1ad8ce488ef3',\n",
       " '35afd121-e91c-422b-8e3b-bad72cb871cc',\n",
       " '66c101ef-485b-4ccd-bd36-e21178638350']"
      ]
     },
     "execution_count": 37,
     "metadata": {},
     "output_type": "execute_result"
    }
   ],
   "source": [
    "vs.add_documents(docs[0])"
   ]
  },
  {
   "cell_type": "code",
   "execution_count": 30,
   "metadata": {},
   "outputs": [
    {
     "data": {
      "text/plain": [
       "[Document(id='98c139b5-e527-497c-a3dd-eabc9c2f63c0', metadata={'producer': 'Microsoft® Word 2016', 'creator': 'Microsoft® Word 2016', 'creationdate': '2023-12-15T20:26:26+08:00', 'author': 'Teddy Soikun', 'moddate': '2023-12-15T20:26:26+08:00', 'source': '../api/index_documents\\\\ED2_PAPER+ID+05+GENERATIVE+ART.pdf', 'total_pages': 12, 'page': 11, 'page_label': '12'}, page_content='[69] \\n \\nREFERENCES \\n \\nA., A. (2023). The Renaissance of Creativity: Exploring the Impact of Generative AI in the Creative \\nIndustry. https://www.linkedin.com/pulse/renaissance -creativity-exploring-impact-generative-ai-\\nadam \\nAela, E. (2023, April 1). Artificial Intelligence: How AI is Changing Art. \\nhttps://aelaschool.com/en/art/artificial-intelligence-art-changes/ \\nAhmed, R. (2023). The Future of Art and Creativity in the Age of AI. \\nhttps://www.linkedin.com/pulse/future-art-creativity-age-ai-rohan-ahmed \\nGwafan, D. (2023). Python Programming Language: A Versatile and Powerful Tool for Modern \\nDevelopment. https://www.linkedin.com/pulse/python -programming-language-versatile-powerful-\\ntool-modern-gwafan \\nGenerative art. (2023). In Wikipedia. \\nhttps://en.wikipedia.org/w/index.php?title=Generative_art&oldid=1176498478 \\nHarwell, D. (2022). He used AI art from Midjourney to win a fine -arts prize. Did he cheat? - The \\nWashington Post. https://www.washingtonpost.com/technology/2022/09/02/midjourney -artificial-\\nintelligence-state-fair-colorado/ \\nMahadik, S. (2023). Transformation of Creative Industries with Generative AI. \\nhttps://www.linkedin.com/pulse/transformation-creative-industries-generative-ai-sandesh-mahadik \\nMatplotlib. (2023). In Wikipedia. \\nhttps://en.wikipedia.org/w/index.php?title=Matplotlib&oldid=1177283978 \\nNigeria,  consistent_hippopotamus | R. C. A. |. (2023). Artists are not happy with the existence of AI. \\nTopical Talk. https://talk.economistfoundation.org/festivals/festival-2023/ai-and-the-arts/artists-are-\\nnot-happy-with-the-existence-of-ai/ \\nNumPy. (2023). In Wikipedia. https://en.wikipedia.org/w/index.php?title=NumPy&oldid=1174952220 \\nPearson, M. (2011). Generative art, a practical guide using processing. \\nPip (package manager). (2023). In Wikipedia. \\nhttps://en.wikipedia.org/w/index.php?title=Pip_(package_manager)&oldid=1161551744 \\nPyCharm. (2023). In Wikipedia. \\nhttps://en.wikipedia.org/w/index.php?title=PyCharm&oldid=1172673606 \\nPython, R. (2023). The Beginner’s Guide to Python Turtle – Real Python. \\nhttps://realpython.com/beginners-guide-python-turtle/ \\nTempel, M. (2017). Generative art for all. Journal of Innovation and Entrepreneurship , 6(1). \\nhttps://www.academia.edu/88354378/Generative_art_for_all'),\n",
       " Document(id='f05f9c53-4a35-4da0-a3a5-8fa3ac643b8a', metadata={'producer': 'Microsoft® Word 2016', 'creator': 'Microsoft® Word 2016', 'creationdate': '2023-12-15T20:26:26+08:00', 'author': 'Teddy Soikun', 'moddate': '2023-12-15T20:26:26+08:00', 'source': '../api/index_documents\\\\ED2_PAPER+ID+05+GENERATIVE+ART.pdf', 'total_pages': 12, 'page': 0, 'page_label': '1'}, page_content='[58] \\n \\n \\n \\nUNDERSTANDING OF GENERATIVE ART WITH ‘PYTHON’ \\nPROGRAMMING \\n \\n \\nTeddy Marius Soikun1* \\n \\n1Academy of Arts and Creative Technology,  \\nUniversity Malaysia Sabah, 88400 Kota Kinabalu, Malaysia  \\n*tsoikun@ums.edu.my \\n \\nReceived: 21 June 2023 | Revised: 10 July 2023  \\nAccepted: 30 September 2023 / Published: 20 December 2023 \\nDOI: https://10.51200/ga.v13i2.4735     \\n \\n \\nABSTRACT \\nThe article uses the Python programming language to introduce generative arts as an alternative \\nto conventional art and design. Understanding generative arts in the age of Artificial \\nIntelligence (AI) is seen as a way forward to remain relevant. Through the use of a practice -\\nbased research methodology, the article explores principles, processes, and tools for generating \\nart through coding. Practical samples are used to demonstrate the potential of generative art \\nthrough basic coding examples. This research also highlights the role of generative art in \\nfostering interdisciplinary collaboration and transcending the boundaries of conventional art \\nforms. \\nKeywords: Generative Arts, Python, Artificial Intelligence \\n \\nINTRODUCTION \\nThe computer plays a very important role in our life nowadays. Almost every task is connected \\nto the computer. From ordering groceries online to using public transportation to driving a car \\nor communicating with other people. One part that plays an even mo re important role in \\ntechnology is artificial intelligence. Although it has been with us for quite some time, the term \\nstill inspires fear and awe. Most of us are still wondering about its potential and future. AI can \\nbe used in managing traffic routes, pr oducts, movies, and location suggestions, and as virtual \\nassistants such as chatbots, search engines, banks, and so on (Aela, 2023). \\nRecently, the art world has been transformed by the advent of technology, especially \\nAI and generative arts. Many types of art can now be easily made with the help of a computer. \\nWith the advancement of AI, many high -quality artworks can be created with less time and \\nresources. The technology has achieved significant results in generating visual, animated, and \\naudio content (Hodgkins, 2023). \\nAI is more or less comparable to the advent of photography more than a hundred years \\nago. Everyone was shocked when it first appeared. However, it has become a tool for artists to'),\n",
       " Document(id='e231add2-466d-42ba-9e4f-de61abe9028a', metadata={'producer': 'Microsoft® Word 2016', 'creator': 'Microsoft® Word 2016', 'creationdate': '2023-12-15T20:26:26+08:00', 'author': 'Teddy Soikun', 'moddate': '2023-12-15T20:26:26+08:00', 'source': '../api/index_documents\\\\ED2_PAPER+ID+05+GENERATIVE+ART.pdf', 'total_pages': 12, 'page': 1, 'page_label': '2'}, page_content=\"[59] \\n \\nproduce more advanced and higher-quality work and has helped visual artists produce art. AI \\nis modernizing some processes, but it still requires human involvement to create something \\nuseful and, most importantly, interesting. Therefore, AI can be seen as a tool that complements \\nand enhances the work of designers and artists to make their work more productive and efficient. \\nDesigners can fill the gap between human touch and creativity, which is fundamental to the \\nartwork. Unlike computers, artists are endowe d with their own emotions and unique \\nperspectives (Nigeria, 2023). \\nGenerative art, also known as procedural art or algorithmic art, is a form of art that \\ncreates itself independently. This can take the form of mathematical functions that create \\ngeometric and precisely calculated works of art. In other cases, chance takes control and creates \\nchaotic artworks that incorporate abstract styles. In many cases, digital artists combine the two. \\nGenerative art comes in a variety of forms, from music to literature to digital graphics. By \\ndefinition, generative art is a form of art that is either entirely or partially created using an \\nautonomous system. Generative art is a unique combination of computer science and art. This \\nsystem can be represented by any type of algorithm: mathematical, mechanical, or biological. \\nGenerative art creation usually involves a programming language with the use of codes. \\nSimilarly, generative content that uses AI uses prompt technology to generate the desired \\ninformation. Investigating the Python programming language for generating artwo rk will \\ncontribute to the understanding of generative art and provide important and meaningful insights \\ninto artificial intelligence. \\nThis type of art is often inspired by modern art, especially Pop Art, which relies heavily \\non ordered geometric patterns. However, it is a very broad and rich category of art that has one \\ncentral characteristic. Generative art in some way involves a self -governing or autonomous \\nsystem. \\nChance is a kind of autonomous system. By incorporating chance into a piece of code \\nart, different unique pieces of art are generated each time the script is executed or in response \\nto the user's interaction. This can create different types of ideas that are available for selection. \\nThis randomness can also be orderly and autonomous or the integration of mixing and chaos. \\nAutonomous or generative art is not rejecting creativity, it finds creativity through \\ndifferent fields by building art pieces through coding. Artists may argue that generative arts will \\nkill manual art eventually. A game designer from Colorado USA recently took home the first \\nprize in the digital arts or digitally manipulated photography category at the Colorado State Fair \\nFine Arts Competition. His winning image was made with Midjourney - an Artificial \\nIntelligence system that can come up with images at a prompt. The win was met with resistance \\nas many would argue that using AI would be as easy as typing prompts. However, to come up \\nwith such complicated imagery, there were a lot of things involved. It took more than 80 hours. \\nThis example of generative art does not involve any coding but uses prompts, tweaks, light \\nadjustments, and Photoshop to come up with the final art piece which initially needed 900 \\niterations apart from using more AI programs to improve resolution (Harwell, 2022). \\n \\nRESEARCH QUESTIONS \\n1. What is generative art, and how can Python programming language be utilized \\nin its creation? \\nGenerative art is a form of digital art that uses algorithms, often aided by computers and \\nsoftware, to create artwork. Rather than creating art manually through traditional techniques \\nsuch as painting or sculpting, generative artists write code that defin es rules, processes, and\")]"
      ]
     },
     "execution_count": 30,
     "metadata": {},
     "output_type": "execute_result"
    }
   ],
   "source": [
    "vector_store.similarity_search(\"genai\", k=3)"
   ]
  },
  {
   "cell_type": "code",
   "execution_count": 19,
   "metadata": {},
   "outputs": [],
   "source": [
    "from langchain_community.docstore.in_memory import InMemoryDocstore\n",
    "import faiss\n",
    "parent_dir = \"../api/index\"\n",
    "\n",
    "def create_vector_store(documents):\n",
    "\n",
    "        index = faiss.IndexFlatL2(1536)\n",
    "\n",
    "        vector_store = FAISS(\n",
    "            embedding_function=embeddings,\n",
    "            index=index,\n",
    "            docstore= InMemoryDocstore(),\n",
    "            index_to_docstore_id={}\n",
    "        )\n",
    "\n",
    "        for document in documents:\n",
    "            vector_store.add_documents(document)\n",
    "\n",
    "        vector_store.save_local(os.path.join(parent_dir, \"faiss_index\"))\n",
    "        index_path = os.path.join(parent_dir, \"faiss_index\")\n",
    "        return index_path"
   ]
  },
  {
   "cell_type": "code",
   "execution_count": 20,
   "metadata": {},
   "outputs": [
    {
     "data": {
      "text/plain": [
       "'../api/index\\\\faiss_index'"
      ]
     },
     "execution_count": 20,
     "metadata": {},
     "output_type": "execute_result"
    }
   ],
   "source": [
    "create_vector_store(docs)"
   ]
  },
  {
   "cell_type": "code",
   "execution_count": 11,
   "metadata": {},
   "outputs": [],
   "source": [
    "index_path = \"../api/index/faiss_index\"\n",
    "from langchain_community.vectorstores import FAISS\n",
    "\n",
    "def query_index(query: str):\n",
    "    vector_store = FAISS.load_local(index_path, embeddings, allow_dangerous_deserialization=True)\n",
    "    #retriever = vector_store.as_retriever()\n",
    "    #documents = retriever.invoke(query)\n",
    "    #result_string = \"\\n\\n\".join(doc.page_content for doc in documents)\n",
    "    return vector_store"
   ]
  },
  {
   "cell_type": "code",
   "execution_count": 26,
   "metadata": {},
   "outputs": [
    {
     "data": {
      "text/plain": [
       "'c:\\\\Users\\\\p.a.rodriguez.canedo\\\\Documents\\\\Hackaton_2025\\\\Notebooks\\\\index_documents'"
      ]
     },
     "execution_count": 26,
     "metadata": {},
     "output_type": "execute_result"
    }
   ],
   "source": [
    "os.getcwd()+\"\\\\index_documents\""
   ]
  },
  {
   "cell_type": "code",
   "execution_count": 21,
   "metadata": {},
   "outputs": [],
   "source": [
    "vs = query_index(\"generative ai in art\")"
   ]
  },
  {
   "cell_type": "code",
   "execution_count": 23,
   "metadata": {},
   "outputs": [
    {
     "data": {
      "text/plain": [
       "[Document(id='8a061273-52b8-4f20-a1a5-0dd12f5390aa', metadata={'producer': 'Microsoft® Word 2016', 'creator': 'Microsoft® Word 2016', 'creationdate': '2023-12-15T20:26:26+08:00', 'author': 'Teddy Soikun', 'moddate': '2023-12-15T20:26:26+08:00', 'source': '../api/index_documents\\\\ED2_PAPER+ID+05+GENERATIVE+ART.pdf', 'total_pages': 12, 'page': 1, 'page_label': '2'}, page_content=\"[59] \\n \\nproduce more advanced and higher-quality work and has helped visual artists produce art. AI \\nis modernizing some processes, but it still requires human involvement to create something \\nuseful and, most importantly, interesting. Therefore, AI can be seen as a tool that complements \\nand enhances the work of designers and artists to make their work more productive and efficient. \\nDesigners can fill the gap between human touch and creativity, which is fundamental to the \\nartwork. Unlike computers, artists are endowe d with their own emotions and unique \\nperspectives (Nigeria, 2023). \\nGenerative art, also known as procedural art or algorithmic art, is a form of art that \\ncreates itself independently. This can take the form of mathematical functions that create \\ngeometric and precisely calculated works of art. In other cases, chance takes control and creates \\nchaotic artworks that incorporate abstract styles. In many cases, digital artists combine the two. \\nGenerative art comes in a variety of forms, from music to literature to digital graphics. By \\ndefinition, generative art is a form of art that is either entirely or partially created using an \\nautonomous system. Generative art is a unique combination of computer science and art. This \\nsystem can be represented by any type of algorithm: mathematical, mechanical, or biological. \\nGenerative art creation usually involves a programming language with the use of codes. \\nSimilarly, generative content that uses AI uses prompt technology to generate the desired \\ninformation. Investigating the Python programming language for generating artwo rk will \\ncontribute to the understanding of generative art and provide important and meaningful insights \\ninto artificial intelligence. \\nThis type of art is often inspired by modern art, especially Pop Art, which relies heavily \\non ordered geometric patterns. However, it is a very broad and rich category of art that has one \\ncentral characteristic. Generative art in some way involves a self -governing or autonomous \\nsystem. \\nChance is a kind of autonomous system. By incorporating chance into a piece of code \\nart, different unique pieces of art are generated each time the script is executed or in response \\nto the user's interaction. This can create different types of ideas that are available for selection. \\nThis randomness can also be orderly and autonomous or the integration of mixing and chaos. \\nAutonomous or generative art is not rejecting creativity, it finds creativity through \\ndifferent fields by building art pieces through coding. Artists may argue that generative arts will \\nkill manual art eventually. A game designer from Colorado USA recently took home the first \\nprize in the digital arts or digitally manipulated photography category at the Colorado State Fair \\nFine Arts Competition. His winning image was made with Midjourney - an Artificial \\nIntelligence system that can come up with images at a prompt. The win was met with resistance \\nas many would argue that using AI would be as easy as typing prompts. However, to come up \\nwith such complicated imagery, there were a lot of things involved. It took more than 80 hours. \\nThis example of generative art does not involve any coding but uses prompts, tweaks, light \\nadjustments, and Photoshop to come up with the final art piece which initially needed 900 \\niterations apart from using more AI programs to improve resolution (Harwell, 2022). \\n \\nRESEARCH QUESTIONS \\n1. What is generative art, and how can Python programming language be utilized \\nin its creation? \\nGenerative art is a form of digital art that uses algorithms, often aided by computers and \\nsoftware, to create artwork. Rather than creating art manually through traditional techniques \\nsuch as painting or sculpting, generative artists write code that defin es rules, processes, and\"),\n",
       " Document(id='ff221aff-4c4d-4719-8556-8a4dd8a1a2aa', metadata={'producer': 'Microsoft® Word 2016', 'creator': 'Microsoft® Word 2016', 'creationdate': '2023-12-15T20:26:26+08:00', 'author': 'Teddy Soikun', 'moddate': '2023-12-15T20:26:26+08:00', 'source': '../api/index_documents\\\\ED2_PAPER+ID+05+GENERATIVE+ART.pdf', 'total_pages': 12, 'page': 11, 'page_label': '12'}, page_content='[69] \\n \\nREFERENCES \\n \\nA., A. (2023). The Renaissance of Creativity: Exploring the Impact of Generative AI in the Creative \\nIndustry. https://www.linkedin.com/pulse/renaissance -creativity-exploring-impact-generative-ai-\\nadam \\nAela, E. (2023, April 1). Artificial Intelligence: How AI is Changing Art. \\nhttps://aelaschool.com/en/art/artificial-intelligence-art-changes/ \\nAhmed, R. (2023). The Future of Art and Creativity in the Age of AI. \\nhttps://www.linkedin.com/pulse/future-art-creativity-age-ai-rohan-ahmed \\nGwafan, D. (2023). Python Programming Language: A Versatile and Powerful Tool for Modern \\nDevelopment. https://www.linkedin.com/pulse/python -programming-language-versatile-powerful-\\ntool-modern-gwafan \\nGenerative art. (2023). In Wikipedia. \\nhttps://en.wikipedia.org/w/index.php?title=Generative_art&oldid=1176498478 \\nHarwell, D. (2022). He used AI art from Midjourney to win a fine -arts prize. Did he cheat? - The \\nWashington Post. https://www.washingtonpost.com/technology/2022/09/02/midjourney -artificial-\\nintelligence-state-fair-colorado/ \\nMahadik, S. (2023). Transformation of Creative Industries with Generative AI. \\nhttps://www.linkedin.com/pulse/transformation-creative-industries-generative-ai-sandesh-mahadik \\nMatplotlib. (2023). In Wikipedia. \\nhttps://en.wikipedia.org/w/index.php?title=Matplotlib&oldid=1177283978 \\nNigeria,  consistent_hippopotamus | R. C. A. |. (2023). Artists are not happy with the existence of AI. \\nTopical Talk. https://talk.economistfoundation.org/festivals/festival-2023/ai-and-the-arts/artists-are-\\nnot-happy-with-the-existence-of-ai/ \\nNumPy. (2023). In Wikipedia. https://en.wikipedia.org/w/index.php?title=NumPy&oldid=1174952220 \\nPearson, M. (2011). Generative art, a practical guide using processing. \\nPip (package manager). (2023). In Wikipedia. \\nhttps://en.wikipedia.org/w/index.php?title=Pip_(package_manager)&oldid=1161551744 \\nPyCharm. (2023). In Wikipedia. \\nhttps://en.wikipedia.org/w/index.php?title=PyCharm&oldid=1172673606 \\nPython, R. (2023). The Beginner’s Guide to Python Turtle – Real Python. \\nhttps://realpython.com/beginners-guide-python-turtle/ \\nTempel, M. (2017). Generative art for all. Journal of Innovation and Entrepreneurship , 6(1). \\nhttps://www.academia.edu/88354378/Generative_art_for_all'),\n",
       " Document(id='95afa3ea-cf00-40fe-9d0e-e146e125f9fe', metadata={'producer': 'Microsoft® Word 2016', 'creator': 'Microsoft® Word 2016', 'creationdate': '2023-12-15T20:26:26+08:00', 'author': 'Teddy Soikun', 'moddate': '2023-12-15T20:26:26+08:00', 'source': '../api/index_documents\\\\ED2_PAPER+ID+05+GENERATIVE+ART.pdf', 'total_pages': 12, 'page': 0, 'page_label': '1'}, page_content='[58] \\n \\n \\n \\nUNDERSTANDING OF GENERATIVE ART WITH ‘PYTHON’ \\nPROGRAMMING \\n \\n \\nTeddy Marius Soikun1* \\n \\n1Academy of Arts and Creative Technology,  \\nUniversity Malaysia Sabah, 88400 Kota Kinabalu, Malaysia  \\n*tsoikun@ums.edu.my \\n \\nReceived: 21 June 2023 | Revised: 10 July 2023  \\nAccepted: 30 September 2023 / Published: 20 December 2023 \\nDOI: https://10.51200/ga.v13i2.4735     \\n \\n \\nABSTRACT \\nThe article uses the Python programming language to introduce generative arts as an alternative \\nto conventional art and design. Understanding generative arts in the age of Artificial \\nIntelligence (AI) is seen as a way forward to remain relevant. Through the use of a practice -\\nbased research methodology, the article explores principles, processes, and tools for generating \\nart through coding. Practical samples are used to demonstrate the potential of generative art \\nthrough basic coding examples. This research also highlights the role of generative art in \\nfostering interdisciplinary collaboration and transcending the boundaries of conventional art \\nforms. \\nKeywords: Generative Arts, Python, Artificial Intelligence \\n \\nINTRODUCTION \\nThe computer plays a very important role in our life nowadays. Almost every task is connected \\nto the computer. From ordering groceries online to using public transportation to driving a car \\nor communicating with other people. One part that plays an even mo re important role in \\ntechnology is artificial intelligence. Although it has been with us for quite some time, the term \\nstill inspires fear and awe. Most of us are still wondering about its potential and future. AI can \\nbe used in managing traffic routes, pr oducts, movies, and location suggestions, and as virtual \\nassistants such as chatbots, search engines, banks, and so on (Aela, 2023). \\nRecently, the art world has been transformed by the advent of technology, especially \\nAI and generative arts. Many types of art can now be easily made with the help of a computer. \\nWith the advancement of AI, many high -quality artworks can be created with less time and \\nresources. The technology has achieved significant results in generating visual, animated, and \\naudio content (Hodgkins, 2023). \\nAI is more or less comparable to the advent of photography more than a hundred years \\nago. Everyone was shocked when it first appeared. However, it has become a tool for artists to'),\n",
       " Document(id='49d4c718-8c8e-461f-b018-a3da58c39776', metadata={'producer': 'Microsoft® Word 2016', 'creator': 'Microsoft® Word 2016', 'creationdate': '2023-12-15T20:26:26+08:00', 'author': 'Teddy Soikun', 'moddate': '2023-12-15T20:26:26+08:00', 'source': '../api/index_documents\\\\ED2_PAPER+ID+05+GENERATIVE+ART.pdf', 'total_pages': 12, 'page': 7, 'page_label': '8'}, page_content='[65] \\n \\nsimple generative art piece may give insights into how the technology works and may \\nlead to the understanding of AI generative content in art.  \\n Explanation  Sample codes \\n1 Python must be installed in the \\ncomputer as well as the \\nrequired libraries. matplotlib is \\ninstalled using pip: \\n \\n2 Following PBR, the researcher \\ndefine the generative art piece. \\nThe art piece should be pixel \\nbased coloured concept. This \\nis designed for a digital poster \\nbackground.  \\n \\n3 To use the Python’s library, it \\nmust be installed in the \\ncomputer. It is then imported \\nin the current project. The \\nresearcher uses matplotlib for \\nplotting and numpy for \\nnumerical operations. \\n \\n4 Because it is an artpiece, \\nsimilarly to some design \\nsoftware, a blank canvas \\nshould be created. NumPy is \\nused with the specified width \\nand height. \\n \\n5 The art is generated by \\nmanipulating the canvas. \\n \\nThe parameters are defined by \\nthe spiral and iterate through a \\nrange of points. For each \\npoint, the position is \\ncalculated using polar \\ncoordinates, and a random \\ncolor is assigned to it. \\n \\n \\n6 Matplotlib is used to display \\nthe generated art. The axis are \\nturned off to make it purely \\nvisual.')]"
      ]
     },
     "execution_count": 23,
     "metadata": {},
     "output_type": "execute_result"
    }
   ],
   "source": [
    "vs.similarity_search(\"generative ai\")"
   ]
  },
  {
   "cell_type": "code",
   "execution_count": 28,
   "metadata": {},
   "outputs": [
    {
     "data": {
      "text/plain": [
       "30"
      ]
     },
     "execution_count": 28,
     "metadata": {},
     "output_type": "execute_result"
    }
   ],
   "source": [
    "vs.index.ntotal"
   ]
  }
 ],
 "metadata": {
  "kernelspec": {
   "display_name": ".venv",
   "language": "python",
   "name": "python3"
  },
  "language_info": {
   "codemirror_mode": {
    "name": "ipython",
    "version": 3
   },
   "file_extension": ".py",
   "mimetype": "text/x-python",
   "name": "python",
   "nbconvert_exporter": "python",
   "pygments_lexer": "ipython3",
   "version": "3.11.0"
  }
 },
 "nbformat": 4,
 "nbformat_minor": 2
}

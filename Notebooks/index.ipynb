{
 "cells": [
  {
   "cell_type": "code",
   "execution_count": 37,
   "metadata": {},
   "outputs": [
    {
     "data": {
      "text/plain": [
       "['../api/index_documents\\\\ED2_PAPER+ID+05+GENERATIVE+ART.pdf',\n",
       " '../api/index_documents\\\\genai-art.pdf',\n",
       " '../api/index_documents\\\\genai-music.pdf']"
      ]
     },
     "execution_count": 37,
     "metadata": {},
     "output_type": "execute_result"
    }
   ],
   "source": [
    "import glob\n",
    "\n",
    "path = \"../api/index_documents\"\n",
    "\n",
    "files  = glob.glob(path + \"/*\")\n",
    "\n",
    "#for filename in glob.glob(f\"{path}/*\"):\n",
    "#    print(filename)\n",
    "\n",
    "files"
   ]
  },
  {
   "cell_type": "code",
   "execution_count": 38,
   "metadata": {},
   "outputs": [
    {
     "name": "stdout",
     "output_type": "stream",
     "text": [
      "../api/index_documents\\ED2_PAPER+ID+05+GENERATIVE+ART.pdf\n",
      "../api/index_documents\\genai-art.pdf\n",
      "../api/index_documents\\genai-music.pdf\n"
     ]
    }
   ],
   "source": [
    "from langchain_community.document_loaders import PyPDFLoader\n",
    "\n",
    "docs = []\n",
    "for file in files:\n",
    "    loader = PyPDFLoader(file)\n",
    "    pages = loader.load()\n",
    "    docs.append(pages)\n",
    "    print(file)"
   ]
  },
  {
   "cell_type": "code",
   "execution_count": 30,
   "metadata": {},
   "outputs": [],
   "source": [
    "from langchain_community.vectorstores import FAISS\n",
    "from langchain_openai import AzureOpenAIEmbeddings\n",
    "from langchain_core.documents import Document\n",
    "import os\n",
    "\n",
    "embeddings = AzureOpenAIEmbeddings(\n",
    "                azure_endpoint=os.getenv('AZURE_OPENAI_ENDPOINT'),\n",
    "                api_key=os.getenv('AZURE_OPENAI_KEY'),\n",
    "                azure_deployment=os.getenv('EMBEDDINGS_DEPLOYMENT_NAME')\n",
    "            )\n",
    "\n",
    "\n",
    "\n",
    "#vector_store = FAISS.from_documents(docs[0], embeddings)\n",
    "\n",
    "#vector_store.save_local(os.path.join(full_path, \"faiss_index\"))\n",
    "#index_path = os.path.join(full_path, \"faiss_index\")"
   ]
  },
  {
   "cell_type": "code",
   "execution_count": 36,
   "metadata": {},
   "outputs": [],
   "source": [
    "from langchain_community.docstore.in_memory import InMemoryDocstore\n",
    "import faiss\n",
    "\n",
    "d = 1536\n",
    "faiss_index = faiss.IndexFlatL2(d)\n",
    "\n",
    "vs = FAISS( \n",
    "    embedding_function=embeddings,\n",
    "    index=faiss_index,\n",
    "    docstore= InMemoryDocstore(),\n",
    "    index_to_docstore_id={}\n",
    "    )"
   ]
  },
  {
   "cell_type": "code",
   "execution_count": 29,
   "metadata": {},
   "outputs": [],
   "source": [
    "parent_dir = \"../api/index\"\n",
    "def create_vector_store(documents):\n",
    "\n",
    "        index = faiss.IndexFlatL2(1536)\n",
    "        \n",
    "        vector_store = FAISS(\n",
    "            embedding_function=embeddings,\n",
    "            index=index,\n",
    "            docstore= InMemoryDocstore(),\n",
    "            index_to_docstore_id={}\n",
    "        )\n",
    "\n",
    "        for document in documents:\n",
    "            vector_store.add_documents(document)\n",
    "\n",
    "        vector_store.save_local(os.path.join(parent_dir, \"faiss_index\"))\n",
    "        return vector_store"
   ]
  },
  {
   "cell_type": "code",
   "execution_count": 39,
   "metadata": {},
   "outputs": [],
   "source": [
    "vector_store = create_vector_store(docs)"
   ]
  },
  {
   "cell_type": "code",
   "execution_count": 40,
   "metadata": {},
   "outputs": [
    {
     "data": {
      "text/plain": [
       "[Document(id='0830b0aa-3515-4dd3-bd4f-1f1a9de0352d', metadata={'producer': 'pdfTeX-1.40.20; modified using iText 4.2.0 by 1T3XT', 'creator': 'LaTeX with hyperref', 'creationdate': '2020-01-09T07:59:40+00:00', 'keywords': 'Human-AI Interaction; Generative Deep Neural Networks; Co-Creation', 'moddate': '2025-02-26T13:02:18-08:00', 'trapped': '/False', 'subject': '', 'ptex.fullbanner': 'This is pdfTeX, Version 3.14159265-2.6-1.40.20 (TeX Live 2019) kpathsea version 6.3.1', 'author': '', 'title': 'Novice-AI Music Co-Creation via AI-Steering Tools for Deep Generative Models', 'source': '../api/index_documents\\\\genai-music.pdf', 'total_pages': 13, 'page': 0, 'page_label': '1'}, page_content='CHI 2020 Paper\\nCHI 2020, April 25–30, 2020, Honolulu, HI, USA\\nNovice-AI Music Co-Creation via \\nAI-Steering Tools for Deep Generative Models \\nRyan Louie∗, Andy Coenen†, Cheng Zhi Huang, Michael Terry†, Carrie J. Cai† \\n∗Northwestern University, †Google Research \\nryanlouie@u.northwestern.edu, andycoenen@google.com, chengzhiannahuang@gmail.com, \\nmichaelterry@google.com, cjcai@google.com \\nABSTRACT \\nWhile generative deep neural networks (DNNs) have demon-\\nstrated their capacity for creating novel musical compositions, \\nless attention has been paid to the challenges and potential of \\nco-creating with these musical AIs, especially for novices. In \\na needﬁnding study with a widely used, interactive musical AI, \\nwe found that the AI can overwhelm users with the amount of \\nmusical content it generates, and frustrate them with its non-\\ndeterministic output. To better match co-creation needs, we \\ndeveloped AI-steering tools, consisting of V oice Lanes that re-\\nstrict content generation to particular voices; Example-Based \\nSliders to control the similarity of generated content to an \\nexisting example; Semantic Sliders to nudge music generation \\nin high-level directions (happy/sad, conventional/surprising); \\nand Multiple Alternatives of generated content to audition and \\nchoose from. In a summative study (N=21), we discovered the \\ntools not only increased users’ trust, control, comprehension, \\nand sense of collaboration with the AI, but also contributed to \\na greater sense of self-efﬁcacy and ownership of the composi-\\ntion relative to the AI. \\nAuthor Keywords \\nHuman-AI Interaction; Generative Deep Neural Networks; \\nCo-Creation \\nCCS Concepts \\n•Human-centered computing → Human computer inter -\\naction (HCI); User studies; Collaborative interaction;\\nINTRODUCTION \\nRapid advances in deep learning have made it possible for \\nartiﬁcial intelligence (AI) to actively collaborate with humans \\nto co-create new content [36, 9, 18, 33, 23, 31]. One promising \\napplication of machine learning in this space has been the use \\nof generative deep neural network (DNN)-backed systems for \\n*This work was completed during the ﬁrst author’s summer in-\\nternship at Google. \\nPermission to make digital or hard copies of part or all of this work for personal or \\nclassroom use is granted without fee provided that copies are not made or distributed \\nfor proﬁt or commercial advantage and that copies bear this notice and the full citation \\non the ﬁrst page. Copyrights for third-party components o f this work must be honored. \\nFor all other uses, contact the owner/author(s). \\nCHI ’20, April \\n25–30, 2020, Honolulu, HI, USA. \\n© 2020 Copyright is held by the owner/author(s). \\nACM ISBN 978-1-4503-6708-0/20/04. \\nhttp://dx.doi.org/10.1145/3313831.3376739 \\ncreative activities such as poetry writing, drawing, and music \\ncreation—experiences that bear intrinsic value for people, but \\noften require specialized skill sets. For example, by complet-\\ning a drawing that a user has started [36, 9, 32, 14] or ﬁlling in \\na missing section of a song [27, 24], generative models could \\nenable untrained lay users to take part in creative experiences \\nthat would otherwise be difﬁcult to achieve without additional \\ntraining or specialization [29, 12, 19]. In this paper, we fo-\\ncus on the needs of music novices co-creating music with a \\ngenerative DNN model. \\nWhile substantial work has focused on improving the algo-\\nrithmic performance of generative music models, little work \\nhas examined what interaction capabilities users actually need \\nwhen co-creating with generative AI, and how those capabil-\\nities might affect the music co-creation experience. Recent \\ngenerative music models have made it conceivable for novices \\nto create an entire musical composition from scratch, in part-\\nnership with a generative model. For example, the widely \\navailable Bach Doodle [29] sought to enable anyone on the \\nweb to create a four-part chorale in the style of J.S. Bach by \\nwriting only a few notes, allowing an AI to ﬁll in the rest. \\nWhile this app makes it conceivable for even novices with \\nno composition training to create music, it is not clear how \\npeople perceive and engage in co-creation activities like these, \\nor what types of capabilities they might ﬁnd useful. \\nIn a study we conducted to understand the human-AI co-\\ncreation process, we found that AI music models can some-\\ntimes be quite challenging to co-create with. Paradoxically, \\nthe very capabilities that enable such sophisticated models \\nto rival human performance can impede human partnership: \\nUsers struggled to evaluate and edit the generated music be-\\ncause the system created too much content at once; in essence, \\nthey experienced information overload. They also struggled \\nwith the system’s non-deterministic output: While the output \\nwould typically be coherent, it would not always align with \\nthe user’s musical goals at the moment. These ﬁndings raise \\ncritical questions about how to co-create with an AI that al-\\nready matches or supercedes a novice’s generative capabilities: \\nWhat user interfaces and interactive controls are important, \\nand what interactive capabilities should be exposed by deep \\ngenerative neural nets to beneﬁt co-creation? \\nIn this work, we examined what novices may need when co-\\ncreating music with a deep generative model, then proposed \\nand evaluated AI-steering tools that enable novice users to \\nPaper 610\\nPage 1\\nThis work is licensed under a Creative Commons Attribution-ShareAlike \\nInternational 4.0 License.'),\n",
       " Document(id='3b7b2440-1974-4d18-8da9-ee399c5b1cbc', metadata={'producer': 'pdfTeX-1.40.25', 'creator': 'LaTeX with hyperref', 'creationdate': '2023-06-08T00:43:38+00:00', 'author': '', 'keywords': '', 'moddate': '2023-06-08T00:43:38+00:00', 'ptex.fullbanner': 'This is pdfTeX, Version 3.141592653-2.6-1.40.25 (TeX Live 2023) kpathsea version 6.3.5', 'subject': '', 'title': '', 'trapped': '/False', 'source': '../api/index_documents\\\\genai-art.pdf', 'total_pages': 23, 'page': 0, 'page_label': '1'}, page_content='Art and the science of generative AI: A deeper dive\\nZiv Epstein1∗, Aaron Hertzmann2, Laura Herman3,4, Robert Mahari1,5,\\nMorgan R. Frank 6, Matthew Groh1, Hope Schroeder1, Amy Smith7,\\nMemo Akten8, Jessica Fjeld5, Hany Farid9, Neil Leach10,\\nAlex “Sandy” Pentland1, Olga Russakovsky11\\n1MIT Media Lab\\n2Adobe Research\\n3University of Oxford\\n4Adobe, Inc.\\n5Harvard Law School\\n6University of Pittsburgh\\n7Queen Mary University London\\n8University of California, San Diego\\n9University of California, Berkeley\\n10Florida International University\\n11Princeton University\\n∗To whom correspondence should be addressed; E-mail: zive@mit.edu.\\nA new class of tools, colloquially calledgenerative AI, can produce high-quality\\nartistic media for visual arts, concept art, music, fiction, literature, video, and\\nanimation. The generative capabilities of these tools are likely to fundamen-\\ntally alter the creative processes by which creators formulate ideas and put\\nthem into production. As creativity is reimagined, so too may be many sec-\\ntors of society. Understanding the impact of generative AI—and making pol-\\nicy decisions around it—requires new interdisciplinary scientific inquiry into\\nculture, economics, law, algorithms, and the interaction of technology and cre-\\nativity. We argue that generative AI is not the harbinger of art’s demise, but\\nrather is a new medium with its own distinct affordances. In this vein, we\\nconsider the impacts of this new medium on creators across four themes: aes-\\nthetics and culture, legal questions of ownership and credit, the future of cre-\\native work, and impacts on the contemporary media ecosystem. Across these\\n1\\narXiv:2306.04141v1  [cs.AI]  7 Jun 2023'),\n",
       " Document(id='c4e8338d-e9cc-4bfa-94fe-f8049c58a304', metadata={'producer': 'pdfTeX-1.40.25', 'creator': 'LaTeX with hyperref', 'creationdate': '2023-06-08T00:43:38+00:00', 'author': '', 'keywords': '', 'moddate': '2023-06-08T00:43:38+00:00', 'ptex.fullbanner': 'This is pdfTeX, Version 3.141592653-2.6-1.40.25 (TeX Live 2023) kpathsea version 6.3.5', 'subject': '', 'title': '', 'trapped': '/False', 'source': '../api/index_documents\\\\genai-art.pdf', 'total_pages': 23, 'page': 1, 'page_label': '2'}, page_content='themes, we highlight key research questions and directions to inform policy\\nand beneficial uses of the technology.\\nNote: This white paper is an expanded version of Epstein et al 2023 published in Sci-\\nence Perspectives on July 16, 2023 which you can find at the following DOI: 10.1126/sci-\\nence.adh4451.\\n1 Introduction\\nGenerative AI systems increasingly have the capability to produce high-quality artistic media\\nfor visual arts, concept art, music, fiction, literature, and video/animation. For example, dif-\\nfusion models can synthesize high-quality images [ 1] and large language models can produce\\nsensible-sounding and impressive prose and verse in a wide range of contexts [2]. The genera-\\ntive capabilities of these tools are likely to fundamentally alter the creative processes by which\\ncreators formulate ideas and put them into production. As creativity is reimagined, so too may\\nbe many sectors of society. Understanding the impact of generative AI—and making policy\\ndecisions around it—requires new interdisciplinary scientific inquiry into culture, economics,\\nlaw, algorithms, and the interaction of technology and creativity.\\nGenerative AI tools, at first glance, seem to fully automate artistic production—an impres-\\nsion that mirrors past instances when traditionalists viewed new technologies as threatening\\n“art itself.” In fact, these moments of technological change did not indicate the “end of art,” but\\nhad much more complex effects, recasting the roles and practices of creators and shifting the\\naesthetics of contemporary media [ 3]. For example, some 19th-century artists saw the advent\\nof photography as a threat to painting. Instead of replacing painting, however, photography\\neventually liberated it from realism, giving rise to Impressionism and the Modern Art move-\\nment. On the other hand, portrait photography did largely replace portrait painting, leading to\\na short-term loss of jobs among portraiturists and postcard painters [ 4]. Many other historical\\nanalogies illustrate similar trends, with a new artistic technology challenging traditional creative\\npractices and jobs while in time creating new roles for and genres of art. The digitization of\\nmusic production (e.g., digital sampling and sound synthesis) was decried as “the end of mu-\\nsic.” Instead, it altered the ways we produce and listen to music and helped spawn new genres,\\nlike Hip Hop and Drum’n’bass. This follows trends in computer animation (where traditional\\nanimators thought that computers would replace animators entirely, but instead computer an-\\nimation flourished as a medium and jobs for computer animators increased [ 5, 6]) and digital\\nphotography (which in its time challenged photographic principles and assumptions, but now it\\nis commonplace and widely used [7, 8]).\\nLike these historical analogs, generative AI is not necessarily the harbinger of art’s demise,\\nbut rather is a new medium with its own distinct affordances. As a suite of tools used by\\nhuman creators, generative AI is positioned to upend many sectors of the creative industry and\\nbeyond—threatening existing jobs and labor models in the short term, while ultimately enabling\\n2')]"
      ]
     },
     "execution_count": 40,
     "metadata": {},
     "output_type": "execute_result"
    }
   ],
   "source": [
    "vector_store.similarity_search(\"audio with gen ai\", k=3)"
   ]
  },
  {
   "cell_type": "code",
   "execution_count": 19,
   "metadata": {},
   "outputs": [],
   "source": [
    "from langchain_community.docstore.in_memory import InMemoryDocstore\n",
    "import faiss\n",
    "parent_dir = \"../api/index\"\n",
    "\n",
    "def create_vector_store(documents):\n",
    "\n",
    "        index = faiss.IndexFlatL2(1536)\n",
    "\n",
    "        vector_store = FAISS(\n",
    "            embedding_function=embeddings,\n",
    "            index=index,\n",
    "            docstore= InMemoryDocstore(),\n",
    "            index_to_docstore_id={}\n",
    "        )\n",
    "\n",
    "        for document in documents:\n",
    "            vector_store.add_documents(document)\n",
    "\n",
    "        vector_store.save_local(os.path.join(parent_dir, \"faiss_index\"))\n",
    "        index_path = os.path.join(parent_dir, \"faiss_index\")\n",
    "        return index_path"
   ]
  },
  {
   "cell_type": "code",
   "execution_count": 20,
   "metadata": {},
   "outputs": [
    {
     "data": {
      "text/plain": [
       "'../api/index\\\\faiss_index'"
      ]
     },
     "execution_count": 20,
     "metadata": {},
     "output_type": "execute_result"
    }
   ],
   "source": [
    "create_vector_store(docs)"
   ]
  },
  {
   "cell_type": "code",
   "execution_count": 11,
   "metadata": {},
   "outputs": [],
   "source": [
    "index_path = \"../api/index/faiss_index\"\n",
    "from langchain_community.vectorstores import FAISS\n",
    "\n",
    "def query_index(query: str):\n",
    "    vector_store = FAISS.load_local(index_path, embeddings, allow_dangerous_deserialization=True)\n",
    "    #retriever = vector_store.as_retriever()\n",
    "    #documents = retriever.invoke(query)\n",
    "    #result_string = \"\\n\\n\".join(doc.page_content for doc in documents)\n",
    "    return vector_store"
   ]
  },
  {
   "cell_type": "code",
   "execution_count": 26,
   "metadata": {},
   "outputs": [
    {
     "data": {
      "text/plain": [
       "'c:\\\\Users\\\\p.a.rodriguez.canedo\\\\Documents\\\\Hackaton_2025\\\\Notebooks\\\\index_documents'"
      ]
     },
     "execution_count": 26,
     "metadata": {},
     "output_type": "execute_result"
    }
   ],
   "source": [
    "os.getcwd()+\"\\\\index_documents\""
   ]
  },
  {
   "cell_type": "code",
   "execution_count": 21,
   "metadata": {},
   "outputs": [],
   "source": [
    "vs = query_index(\"generative ai in art\")"
   ]
  },
  {
   "cell_type": "code",
   "execution_count": 23,
   "metadata": {},
   "outputs": [
    {
     "data": {
      "text/plain": [
       "[Document(id='8a061273-52b8-4f20-a1a5-0dd12f5390aa', metadata={'producer': 'Microsoft® Word 2016', 'creator': 'Microsoft® Word 2016', 'creationdate': '2023-12-15T20:26:26+08:00', 'author': 'Teddy Soikun', 'moddate': '2023-12-15T20:26:26+08:00', 'source': '../api/index_documents\\\\ED2_PAPER+ID+05+GENERATIVE+ART.pdf', 'total_pages': 12, 'page': 1, 'page_label': '2'}, page_content=\"[59] \\n \\nproduce more advanced and higher-quality work and has helped visual artists produce art. AI \\nis modernizing some processes, but it still requires human involvement to create something \\nuseful and, most importantly, interesting. Therefore, AI can be seen as a tool that complements \\nand enhances the work of designers and artists to make their work more productive and efficient. \\nDesigners can fill the gap between human touch and creativity, which is fundamental to the \\nartwork. Unlike computers, artists are endowe d with their own emotions and unique \\nperspectives (Nigeria, 2023). \\nGenerative art, also known as procedural art or algorithmic art, is a form of art that \\ncreates itself independently. This can take the form of mathematical functions that create \\ngeometric and precisely calculated works of art. In other cases, chance takes control and creates \\nchaotic artworks that incorporate abstract styles. In many cases, digital artists combine the two. \\nGenerative art comes in a variety of forms, from music to literature to digital graphics. By \\ndefinition, generative art is a form of art that is either entirely or partially created using an \\nautonomous system. Generative art is a unique combination of computer science and art. This \\nsystem can be represented by any type of algorithm: mathematical, mechanical, or biological. \\nGenerative art creation usually involves a programming language with the use of codes. \\nSimilarly, generative content that uses AI uses prompt technology to generate the desired \\ninformation. Investigating the Python programming language for generating artwo rk will \\ncontribute to the understanding of generative art and provide important and meaningful insights \\ninto artificial intelligence. \\nThis type of art is often inspired by modern art, especially Pop Art, which relies heavily \\non ordered geometric patterns. However, it is a very broad and rich category of art that has one \\ncentral characteristic. Generative art in some way involves a self -governing or autonomous \\nsystem. \\nChance is a kind of autonomous system. By incorporating chance into a piece of code \\nart, different unique pieces of art are generated each time the script is executed or in response \\nto the user's interaction. This can create different types of ideas that are available for selection. \\nThis randomness can also be orderly and autonomous or the integration of mixing and chaos. \\nAutonomous or generative art is not rejecting creativity, it finds creativity through \\ndifferent fields by building art pieces through coding. Artists may argue that generative arts will \\nkill manual art eventually. A game designer from Colorado USA recently took home the first \\nprize in the digital arts or digitally manipulated photography category at the Colorado State Fair \\nFine Arts Competition. His winning image was made with Midjourney - an Artificial \\nIntelligence system that can come up with images at a prompt. The win was met with resistance \\nas many would argue that using AI would be as easy as typing prompts. However, to come up \\nwith such complicated imagery, there were a lot of things involved. It took more than 80 hours. \\nThis example of generative art does not involve any coding but uses prompts, tweaks, light \\nadjustments, and Photoshop to come up with the final art piece which initially needed 900 \\niterations apart from using more AI programs to improve resolution (Harwell, 2022). \\n \\nRESEARCH QUESTIONS \\n1. What is generative art, and how can Python programming language be utilized \\nin its creation? \\nGenerative art is a form of digital art that uses algorithms, often aided by computers and \\nsoftware, to create artwork. Rather than creating art manually through traditional techniques \\nsuch as painting or sculpting, generative artists write code that defin es rules, processes, and\"),\n",
       " Document(id='ff221aff-4c4d-4719-8556-8a4dd8a1a2aa', metadata={'producer': 'Microsoft® Word 2016', 'creator': 'Microsoft® Word 2016', 'creationdate': '2023-12-15T20:26:26+08:00', 'author': 'Teddy Soikun', 'moddate': '2023-12-15T20:26:26+08:00', 'source': '../api/index_documents\\\\ED2_PAPER+ID+05+GENERATIVE+ART.pdf', 'total_pages': 12, 'page': 11, 'page_label': '12'}, page_content='[69] \\n \\nREFERENCES \\n \\nA., A. (2023). The Renaissance of Creativity: Exploring the Impact of Generative AI in the Creative \\nIndustry. https://www.linkedin.com/pulse/renaissance -creativity-exploring-impact-generative-ai-\\nadam \\nAela, E. (2023, April 1). Artificial Intelligence: How AI is Changing Art. \\nhttps://aelaschool.com/en/art/artificial-intelligence-art-changes/ \\nAhmed, R. (2023). The Future of Art and Creativity in the Age of AI. \\nhttps://www.linkedin.com/pulse/future-art-creativity-age-ai-rohan-ahmed \\nGwafan, D. (2023). Python Programming Language: A Versatile and Powerful Tool for Modern \\nDevelopment. https://www.linkedin.com/pulse/python -programming-language-versatile-powerful-\\ntool-modern-gwafan \\nGenerative art. (2023). In Wikipedia. \\nhttps://en.wikipedia.org/w/index.php?title=Generative_art&oldid=1176498478 \\nHarwell, D. (2022). He used AI art from Midjourney to win a fine -arts prize. Did he cheat? - The \\nWashington Post. https://www.washingtonpost.com/technology/2022/09/02/midjourney -artificial-\\nintelligence-state-fair-colorado/ \\nMahadik, S. (2023). Transformation of Creative Industries with Generative AI. \\nhttps://www.linkedin.com/pulse/transformation-creative-industries-generative-ai-sandesh-mahadik \\nMatplotlib. (2023). In Wikipedia. \\nhttps://en.wikipedia.org/w/index.php?title=Matplotlib&oldid=1177283978 \\nNigeria,  consistent_hippopotamus | R. C. A. |. (2023). Artists are not happy with the existence of AI. \\nTopical Talk. https://talk.economistfoundation.org/festivals/festival-2023/ai-and-the-arts/artists-are-\\nnot-happy-with-the-existence-of-ai/ \\nNumPy. (2023). In Wikipedia. https://en.wikipedia.org/w/index.php?title=NumPy&oldid=1174952220 \\nPearson, M. (2011). Generative art, a practical guide using processing. \\nPip (package manager). (2023). In Wikipedia. \\nhttps://en.wikipedia.org/w/index.php?title=Pip_(package_manager)&oldid=1161551744 \\nPyCharm. (2023). In Wikipedia. \\nhttps://en.wikipedia.org/w/index.php?title=PyCharm&oldid=1172673606 \\nPython, R. (2023). The Beginner’s Guide to Python Turtle – Real Python. \\nhttps://realpython.com/beginners-guide-python-turtle/ \\nTempel, M. (2017). Generative art for all. Journal of Innovation and Entrepreneurship , 6(1). \\nhttps://www.academia.edu/88354378/Generative_art_for_all'),\n",
       " Document(id='95afa3ea-cf00-40fe-9d0e-e146e125f9fe', metadata={'producer': 'Microsoft® Word 2016', 'creator': 'Microsoft® Word 2016', 'creationdate': '2023-12-15T20:26:26+08:00', 'author': 'Teddy Soikun', 'moddate': '2023-12-15T20:26:26+08:00', 'source': '../api/index_documents\\\\ED2_PAPER+ID+05+GENERATIVE+ART.pdf', 'total_pages': 12, 'page': 0, 'page_label': '1'}, page_content='[58] \\n \\n \\n \\nUNDERSTANDING OF GENERATIVE ART WITH ‘PYTHON’ \\nPROGRAMMING \\n \\n \\nTeddy Marius Soikun1* \\n \\n1Academy of Arts and Creative Technology,  \\nUniversity Malaysia Sabah, 88400 Kota Kinabalu, Malaysia  \\n*tsoikun@ums.edu.my \\n \\nReceived: 21 June 2023 | Revised: 10 July 2023  \\nAccepted: 30 September 2023 / Published: 20 December 2023 \\nDOI: https://10.51200/ga.v13i2.4735     \\n \\n \\nABSTRACT \\nThe article uses the Python programming language to introduce generative arts as an alternative \\nto conventional art and design. Understanding generative arts in the age of Artificial \\nIntelligence (AI) is seen as a way forward to remain relevant. Through the use of a practice -\\nbased research methodology, the article explores principles, processes, and tools for generating \\nart through coding. Practical samples are used to demonstrate the potential of generative art \\nthrough basic coding examples. This research also highlights the role of generative art in \\nfostering interdisciplinary collaboration and transcending the boundaries of conventional art \\nforms. \\nKeywords: Generative Arts, Python, Artificial Intelligence \\n \\nINTRODUCTION \\nThe computer plays a very important role in our life nowadays. Almost every task is connected \\nto the computer. From ordering groceries online to using public transportation to driving a car \\nor communicating with other people. One part that plays an even mo re important role in \\ntechnology is artificial intelligence. Although it has been with us for quite some time, the term \\nstill inspires fear and awe. Most of us are still wondering about its potential and future. AI can \\nbe used in managing traffic routes, pr oducts, movies, and location suggestions, and as virtual \\nassistants such as chatbots, search engines, banks, and so on (Aela, 2023). \\nRecently, the art world has been transformed by the advent of technology, especially \\nAI and generative arts. Many types of art can now be easily made with the help of a computer. \\nWith the advancement of AI, many high -quality artworks can be created with less time and \\nresources. The technology has achieved significant results in generating visual, animated, and \\naudio content (Hodgkins, 2023). \\nAI is more or less comparable to the advent of photography more than a hundred years \\nago. Everyone was shocked when it first appeared. However, it has become a tool for artists to'),\n",
       " Document(id='49d4c718-8c8e-461f-b018-a3da58c39776', metadata={'producer': 'Microsoft® Word 2016', 'creator': 'Microsoft® Word 2016', 'creationdate': '2023-12-15T20:26:26+08:00', 'author': 'Teddy Soikun', 'moddate': '2023-12-15T20:26:26+08:00', 'source': '../api/index_documents\\\\ED2_PAPER+ID+05+GENERATIVE+ART.pdf', 'total_pages': 12, 'page': 7, 'page_label': '8'}, page_content='[65] \\n \\nsimple generative art piece may give insights into how the technology works and may \\nlead to the understanding of AI generative content in art.  \\n Explanation  Sample codes \\n1 Python must be installed in the \\ncomputer as well as the \\nrequired libraries. matplotlib is \\ninstalled using pip: \\n \\n2 Following PBR, the researcher \\ndefine the generative art piece. \\nThe art piece should be pixel \\nbased coloured concept. This \\nis designed for a digital poster \\nbackground.  \\n \\n3 To use the Python’s library, it \\nmust be installed in the \\ncomputer. It is then imported \\nin the current project. The \\nresearcher uses matplotlib for \\nplotting and numpy for \\nnumerical operations. \\n \\n4 Because it is an artpiece, \\nsimilarly to some design \\nsoftware, a blank canvas \\nshould be created. NumPy is \\nused with the specified width \\nand height. \\n \\n5 The art is generated by \\nmanipulating the canvas. \\n \\nThe parameters are defined by \\nthe spiral and iterate through a \\nrange of points. For each \\npoint, the position is \\ncalculated using polar \\ncoordinates, and a random \\ncolor is assigned to it. \\n \\n \\n6 Matplotlib is used to display \\nthe generated art. The axis are \\nturned off to make it purely \\nvisual.')]"
      ]
     },
     "execution_count": 23,
     "metadata": {},
     "output_type": "execute_result"
    }
   ],
   "source": [
    "vs.similarity_search(\"generative ai\")"
   ]
  },
  {
   "cell_type": "code",
   "execution_count": 28,
   "metadata": {},
   "outputs": [
    {
     "data": {
      "text/plain": [
       "30"
      ]
     },
     "execution_count": 28,
     "metadata": {},
     "output_type": "execute_result"
    }
   ],
   "source": [
    "vs.index.ntotal"
   ]
  }
 ],
 "metadata": {
  "kernelspec": {
   "display_name": ".venv",
   "language": "python",
   "name": "python3"
  },
  "language_info": {
   "codemirror_mode": {
    "name": "ipython",
    "version": 3
   },
   "file_extension": ".py",
   "mimetype": "text/x-python",
   "name": "python",
   "nbconvert_exporter": "python",
   "pygments_lexer": "ipython3",
   "version": "3.11.0"
  }
 },
 "nbformat": 4,
 "nbformat_minor": 2
}

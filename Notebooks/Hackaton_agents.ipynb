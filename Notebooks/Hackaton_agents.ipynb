{
 "cells": [
  {
   "cell_type": "markdown",
   "metadata": {},
   "source": [
    "### Hackaton: Agentic Solution"
   ]
  },
  {
   "cell_type": "markdown",
   "metadata": {},
   "source": [
    "We propose to create a multi-agent solution.\n",
    "\n",
    "The solution will integrate the following agents:\n",
    "\n",
    "1. Supervisor\n",
    "2. Chat assistant\n",
    "3. Text generation\n",
    "4. Image generation\n",
    "5. Diagram generation"
   ]
  },
  {
   "cell_type": "code",
   "execution_count": 1,
   "metadata": {},
   "outputs": [],
   "source": [
    "# Call LLM\n",
    "from langchain_openai.chat_models.azure import AzureChatOpenAI\n",
    "from langgraph_supervisor import create_supervisor\n",
    "from langgraph.prebuilt import create_react_agent\n",
    "import os\n",
    "\n",
    "llm = AzureChatOpenAI(\n",
    "    openai_api_version=os.environ[\"AZURE_OPENAI_API_VERSION\"],\n",
    "    azure_deployment=os.environ[\"AZURE_OPENAI_CHAT_DEPLOYMENT_NAME\"],\n",
    ")"
   ]
  },
  {
   "cell_type": "code",
   "execution_count": 3,
   "metadata": {},
   "outputs": [],
   "source": [
    "# dummy functions\n",
    "\n",
    "def generate_text(query: str) -> str:\n",
    "    \"\"\"Generate text based on user query\"\"\"\n",
    "    return f\"This is the text agent, input text: {query}\"\n",
    "\n",
    "\n",
    "def generate_images(query: str) -> str:\n",
    "    \"\"\"Generate images based on user query\"\"\"\n",
    "    return f\"This is the image agent, input text: {query}\"\n",
    "\n",
    "def generate_flow_charts(query: str) -> str:\n",
    "    \"\"\"Generate flow charts based on user query\"\"\"\n",
    "    return f\"This is the diagrams agent, input text: {query}\""
   ]
  },
  {
   "cell_type": "code",
   "execution_count": 5,
   "metadata": {},
   "outputs": [],
   "source": [
    "# create agents\n",
    "\n",
    "text_agent = create_react_agent(\n",
    "    model=llm, \n",
    "    tools=[generate_text],\n",
    "    name=\"text_creator\",\n",
    "    prompt=\"You're a smart assistant that generate funny text\"\n",
    ")\n",
    "\n",
    "images_agent = create_react_agent(\n",
    "    model=llm,\n",
    "    tools=[generate_images, generate_flow_charts],\n",
    "    name=\"image_creator\",\n",
    "    prompt=\"You are a world class drawer that generates images and sketches like a pro\"\n",
    ")"
   ]
  },
  {
   "cell_type": "code",
   "execution_count": 7,
   "metadata": {},
   "outputs": [],
   "source": [
    "# create agents workflow\n",
    "workflow = create_supervisor(\n",
    "    [text_agent, images_agent],\n",
    "    model = llm,\n",
    "    prompt= (\n",
    "        \"You are a team supervisor managing a images generator and a text expert generator. \"\n",
    "        \"For text and documents queryes, use text_agent. \"\n",
    "        \"For images related queries, use images_agent.\"\n",
    "    )\n",
    ")\n",
    "\n",
    "app = workflow.compile()"
   ]
  },
  {
   "cell_type": "code",
   "execution_count": 8,
   "metadata": {},
   "outputs": [
    {
     "data": {
      "image/png": "[encoded data removed]",
      "text/plain": [
       "<IPython.core.display.Image object>"
      ]
     },
     "metadata": {},
     "output_type": "display_data"
    }
   ],
   "source": [
    "from IPython.display import Image, display\n",
    "try:\n",
    "    display(Image(app.get_graph().draw_mermaid_png()))\n",
    "except Exception:\n",
    "    pass"
   ]
  },
  {
   "cell_type": "code",
   "execution_count": 9,
   "metadata": {},
   "outputs": [
    {
     "data": {
      "text/plain": [
       "{'messages': [HumanMessage(content='I need a summary of the following book: The alquemist', additional_kwargs={}, response_metadata={}, id='878e1251-a0b1-4205-a053-dc3842a30d96'),\n",
       "  AIMessage(content='', additional_kwargs={'tool_calls': [{'id': 'call_PUfKoZQdNJNiyNJqCIGxAUo5', 'function': {'arguments': '{}', 'name': 'transfer_to_text_creator'}, 'type': 'function'}], 'refusal': None}, response_metadata={'token_usage': {'completion_tokens': 13, 'prompt_tokens': 103, 'total_tokens': 116, 'completion_tokens_details': {'accepted_prediction_tokens': 0, 'audio_tokens': 0, 'reasoning_tokens': 0, 'rejected_prediction_tokens': 0}, 'prompt_tokens_details': {'audio_tokens': 0, 'cached_tokens': 0}}, 'model_name': 'gpt-4o-mini-2024-07-18', 'system_fingerprint': 'fp_ded0d14823', 'prompt_filter_results': [{'prompt_index': 0, 'content_filter_results': {'hate': {'filtered': False, 'severity': 'safe'}, 'jailbreak': {'filtered': False, 'detected': False}, 'self_harm': {'filtered': False, 'severity': 'safe'}, 'sexual': {'filtered': False, 'severity': 'safe'}, 'violence': {'filtered': False, 'severity': 'safe'}}}], 'finish_reason': 'tool_calls', 'logprobs': None, 'content_filter_results': {}}, name='supervisor', id='run-0e348f02-5116-436b-9b63-330ca2562628-0', tool_calls=[{'name': 'transfer_to_text_creator', 'args': {}, 'id': 'call_PUfKoZQdNJNiyNJqCIGxAUo5', 'type': 'tool_call'}], usage_metadata={'input_tokens': 103, 'output_tokens': 13, 'total_tokens': 116, 'input_token_details': {'audio': 0, 'cache_read': 0}, 'output_token_details': {'audio': 0, 'reasoning': 0}}),\n",
       "  ToolMessage(content='Successfully transferred to text_creator', name='transfer_to_text_creator', id='b69a3094-127b-408e-8330-dec2537fe269', tool_call_id='call_PUfKoZQdNJNiyNJqCIGxAUo5'),\n",
       "  AIMessage(content='\"The Alchemist\" follows the journey of a young Andalusian shepherd named Santiago who dreams of finding a treasure near the Egyptian pyramids. Along his quest, he meets several mentors, including a king and an alchemist, who teach him important life lessons. Santiago learns to follow his dreams, listen to his heart, and understand the interconnectedness of all things. As he travels through deserts and faces various challenges, he discovers that the true treasure lies not just in gold but in the experiences and wisdom gained along the way. The novel emphasizes themes of personal destiny, spirituality, and the pursuit of happiness.', additional_kwargs={'refusal': None}, response_metadata={'token_usage': {'completion_tokens': 123, 'prompt_tokens': 428, 'total_tokens': 551, 'completion_tokens_details': {'accepted_prediction_tokens': 0, 'audio_tokens': 0, 'reasoning_tokens': 0, 'rejected_prediction_tokens': 0}, 'prompt_tokens_details': {'audio_tokens': 0, 'cached_tokens': 0}}, 'model_name': 'gpt-4o-mini-2024-07-18', 'system_fingerprint': 'fp_ded0d14823', 'prompt_filter_results': [{'prompt_index': 0, 'content_filter_results': {'hate': {'filtered': False, 'severity': 'safe'}, 'jailbreak': {'filtered': False, 'detected': False}, 'self_harm': {'filtered': False, 'severity': 'safe'}, 'sexual': {'filtered': False, 'severity': 'safe'}, 'violence': {'filtered': False, 'severity': 'safe'}}}], 'finish_reason': 'stop', 'logprobs': None, 'content_filter_results': {'hate': {'filtered': False, 'severity': 'safe'}, 'protected_material_code': {'filtered': False, 'detected': False}, 'protected_material_text': {'filtered': False, 'detected': False}, 'self_harm': {'filtered': False, 'severity': 'safe'}, 'sexual': {'filtered': False, 'severity': 'safe'}, 'violence': {'filtered': False, 'severity': 'safe'}}}, name='text_creator', id='run-22e7b8d6-97c8-4e1d-907f-91b9d05d4bdf-0', usage_metadata={'input_tokens': 428, 'output_tokens': 123, 'total_tokens': 551, 'input_token_details': {'audio': 0, 'cache_read': 0}, 'output_token_details': {'audio': 0, 'reasoning': 0}}),\n",
       "  AIMessage(content='Transferring back to supervisor', additional_kwargs={}, response_metadata={}, name='text_creator', id='52bbb92d-d3eb-4409-8ffb-a47ff6f4e29a', tool_calls=[{'name': 'transfer_back_to_supervisor', 'args': {}, 'id': '9f2c9efa-7d7c-49d9-a544-8d23754e0355', 'type': 'tool_call'}]),\n",
       "  ToolMessage(content='Successfully transferred back to supervisor', name='transfer_back_to_supervisor', id='9aa591df-e224-423a-a9d8-965f3b509cd3', tool_call_id='9f2c9efa-7d7c-49d9-a544-8d23754e0355'),\n",
       "  AIMessage(content='I have provided a summary of \"The Alchemist.\" If you need any more information or have additional queries, feel free to ask!', additional_kwargs={'refusal': None}, response_metadata={'token_usage': {'completion_tokens': 29, 'prompt_tokens': 303, 'total_tokens': 332, 'completion_tokens_details': {'accepted_prediction_tokens': 0, 'audio_tokens': 0, 'reasoning_tokens': 0, 'rejected_prediction_tokens': 0}, 'prompt_tokens_details': {'audio_tokens': 0, 'cached_tokens': 0}}, 'model_name': 'gpt-4o-mini-2024-07-18', 'system_fingerprint': 'fp_ded0d14823', 'prompt_filter_results': [{'prompt_index': 0, 'content_filter_results': {'hate': {'filtered': False, 'severity': 'safe'}, 'jailbreak': {'filtered': False, 'detected': False}, 'self_harm': {'filtered': False, 'severity': 'safe'}, 'sexual': {'filtered': False, 'severity': 'safe'}, 'violence': {'filtered': False, 'severity': 'safe'}}}], 'finish_reason': 'stop', 'logprobs': None, 'content_filter_results': {'hate': {'filtered': False, 'severity': 'safe'}, 'self_harm': {'filtered': False, 'severity': 'safe'}, 'sexual': {'filtered': False, 'severity': 'safe'}, 'violence': {'filtered': False, 'severity': 'safe'}}}, name='supervisor', id='run-4656b886-dd28-47b8-b8ec-5f2d46cf222c-0', usage_metadata={'input_tokens': 303, 'output_tokens': 29, 'total_tokens': 332, 'input_token_details': {'audio': 0, 'cache_read': 0}, 'output_token_details': {'audio': 0, 'reasoning': 0}})]}"
      ]
     },
     "execution_count": 9,
     "metadata": {},
     "output_type": "execute_result"
    }
   ],
   "source": [
    "result = app.invoke(\n",
    "    {\"messages\":[\n",
    "        {\n",
    "            \"role\": \"user\",\n",
    "            \"content\": \"I need a summary of the following book: The alquemist\"\n",
    "        }\n",
    "    ]}\n",
    ")\n",
    "\n",
    "result"
   ]
  },
  {
   "cell_type": "code",
   "execution_count": 11,
   "metadata": {},
   "outputs": [
    {
     "name": "stdout",
     "output_type": "stream",
     "text": [
      "output from node supervisor \n",
      "----\n",
      "{'messages': [HumanMessage(content='I need a picture of a simple tree', additional_kwargs={}, response_metadata={}, id='f49009f1-b28d-49a9-be81-5aa80890c43f'), AIMessage(content='', additional_kwargs={'tool_calls': [{'id': 'call_rJshWbT5COdz8qTHk2tEbqmu', 'function': {'arguments': '{}', 'name': 'transfer_to_image_creator'}, 'type': 'function'}], 'refusal': None}, response_metadata={'token_usage': {'completion_tokens': 13, 'prompt_tokens': 98, 'total_tokens': 111, 'completion_tokens_details': {'accepted_prediction_tokens': 0, 'audio_tokens': 0, 'reasoning_tokens': 0, 'rejected_prediction_tokens': 0}, 'prompt_tokens_details': {'audio_tokens': 0, 'cached_tokens': 0}}, 'model_name': 'gpt-4o-mini-2024-07-18', 'system_fingerprint': 'fp_ded0d14823', 'prompt_filter_results': [{'prompt_index': 0, 'content_filter_results': {'hate': {'filtered': False, 'severity': 'safe'}, 'jailbreak': {'filtered': False, 'detected': False}, 'self_harm': {'filtered': False, 'severity': 'safe'}, 'sexual': {'filtered': False, 'severity': 'safe'}, 'violence': {'filtered': False, 'severity': 'safe'}}}], 'finish_reason': 'tool_calls', 'logprobs': None, 'content_filter_results': {}}, name='supervisor', id='run-c2f9e8d3-0cd3-42d7-9caa-9919e3265c69-0', tool_calls=[{'name': 'transfer_to_image_creator', 'args': {}, 'id': 'call_rJshWbT5COdz8qTHk2tEbqmu', 'type': 'tool_call'}], usage_metadata={'input_tokens': 98, 'output_tokens': 13, 'total_tokens': 111, 'input_token_details': {'audio': 0, 'cache_read': 0}, 'output_token_details': {'audio': 0, 'reasoning': 0}}), ToolMessage(content='Successfully transferred to image_creator', name='transfer_to_image_creator', id='7ad97506-758d-448d-b5ff-d2c57433267c', tool_call_id='call_rJshWbT5COdz8qTHk2tEbqmu')]}\n",
      "output from node image_creator \n",
      "----\n",
      "{'messages': [AIMessage(content='Here is a simple illustration of a tree with a trunk and green leaves. If you need any modifications or another image, just let me know!', additional_kwargs={'refusal': None}, response_metadata={'token_usage': {'completion_tokens': 31, 'prompt_tokens': 215, 'total_tokens': 246, 'completion_tokens_details': {'accepted_prediction_tokens': 0, 'audio_tokens': 0, 'reasoning_tokens': 0, 'rejected_prediction_tokens': 0}, 'prompt_tokens_details': {'audio_tokens': 0, 'cached_tokens': 0}}, 'model_name': 'gpt-4o-mini-2024-07-18', 'system_fingerprint': 'fp_ded0d14823', 'prompt_filter_results': [{'prompt_index': 0, 'content_filter_results': {'hate': {'filtered': False, 'severity': 'safe'}, 'jailbreak': {'filtered': False, 'detected': False}, 'self_harm': {'filtered': False, 'severity': 'safe'}, 'sexual': {'filtered': False, 'severity': 'safe'}, 'violence': {'filtered': False, 'severity': 'safe'}}}], 'finish_reason': 'stop', 'logprobs': None, 'content_filter_results': {'hate': {'filtered': False, 'severity': 'safe'}, 'self_harm': {'filtered': False, 'severity': 'safe'}, 'sexual': {'filtered': False, 'severity': 'safe'}, 'violence': {'filtered': False, 'severity': 'safe'}}}, name='image_creator', id='run-fe786f40-e694-4f01-803d-201ebc2ad8ac-0', usage_metadata={'input_tokens': 215, 'output_tokens': 31, 'total_tokens': 246, 'input_token_details': {'audio': 0, 'cache_read': 0}, 'output_token_details': {'audio': 0, 'reasoning': 0}}), AIMessage(content='Transferring back to supervisor', additional_kwargs={}, response_metadata={}, name='image_creator', id='c6be279c-e55c-41c8-892c-4246c1e159c7', tool_calls=[{'name': 'transfer_back_to_supervisor', 'args': {}, 'id': 'e3da51a1-6fd9-4637-812f-1b39a503f41f', 'type': 'tool_call'}]), ToolMessage(content='Successfully transferred back to supervisor', name='transfer_back_to_supervisor', id='e244fcf6-ea28-49d6-bfde-bc6f2eae91a7', tool_call_id='e3da51a1-6fd9-4637-812f-1b39a503f41f')]}\n",
      "output from node supervisor \n",
      "----\n",
      "{'messages': [HumanMessage(content='I need a picture of a simple tree', additional_kwargs={}, response_metadata={}, id='f49009f1-b28d-49a9-be81-5aa80890c43f'), AIMessage(content='', additional_kwargs={'tool_calls': [{'id': 'call_rJshWbT5COdz8qTHk2tEbqmu', 'function': {'arguments': '{}', 'name': 'transfer_to_image_creator'}, 'type': 'function'}], 'refusal': None}, response_metadata={'token_usage': {'completion_tokens': 13, 'prompt_tokens': 98, 'total_tokens': 111, 'completion_tokens_details': {'accepted_prediction_tokens': 0, 'audio_tokens': 0, 'reasoning_tokens': 0, 'rejected_prediction_tokens': 0}, 'prompt_tokens_details': {'audio_tokens': 0, 'cached_tokens': 0}}, 'model_name': 'gpt-4o-mini-2024-07-18', 'system_fingerprint': 'fp_ded0d14823', 'prompt_filter_results': [{'prompt_index': 0, 'content_filter_results': {'hate': {'filtered': False, 'severity': 'safe'}, 'jailbreak': {'filtered': False, 'detected': False}, 'self_harm': {'filtered': False, 'severity': 'safe'}, 'sexual': {'filtered': False, 'severity': 'safe'}, 'violence': {'filtered': False, 'severity': 'safe'}}}], 'finish_reason': 'tool_calls', 'logprobs': None, 'content_filter_results': {}}, name='supervisor', id='run-c2f9e8d3-0cd3-42d7-9caa-9919e3265c69-0', tool_calls=[{'name': 'transfer_to_image_creator', 'args': {}, 'id': 'call_rJshWbT5COdz8qTHk2tEbqmu', 'type': 'tool_call'}], usage_metadata={'input_tokens': 98, 'output_tokens': 13, 'total_tokens': 111, 'input_token_details': {'audio': 0, 'cache_read': 0}, 'output_token_details': {'audio': 0, 'reasoning': 0}}), ToolMessage(content='Successfully transferred to image_creator', name='transfer_to_image_creator', id='7ad97506-758d-448d-b5ff-d2c57433267c', tool_call_id='call_rJshWbT5COdz8qTHk2tEbqmu'), AIMessage(content='Here is a simple illustration of a tree with a trunk and green leaves. If you need any modifications or another image, just let me know!', additional_kwargs={'refusal': None}, response_metadata={'token_usage': {'completion_tokens': 31, 'prompt_tokens': 215, 'total_tokens': 246, 'completion_tokens_details': {'accepted_prediction_tokens': 0, 'audio_tokens': 0, 'reasoning_tokens': 0, 'rejected_prediction_tokens': 0}, 'prompt_tokens_details': {'audio_tokens': 0, 'cached_tokens': 0}}, 'model_name': 'gpt-4o-mini-2024-07-18', 'system_fingerprint': 'fp_ded0d14823', 'prompt_filter_results': [{'prompt_index': 0, 'content_filter_results': {'hate': {'filtered': False, 'severity': 'safe'}, 'jailbreak': {'filtered': False, 'detected': False}, 'self_harm': {'filtered': False, 'severity': 'safe'}, 'sexual': {'filtered': False, 'severity': 'safe'}, 'violence': {'filtered': False, 'severity': 'safe'}}}], 'finish_reason': 'stop', 'logprobs': None, 'content_filter_results': {'hate': {'filtered': False, 'severity': 'safe'}, 'self_harm': {'filtered': False, 'severity': 'safe'}, 'sexual': {'filtered': False, 'severity': 'safe'}, 'violence': {'filtered': False, 'severity': 'safe'}}}, name='image_creator', id='run-fe786f40-e694-4f01-803d-201ebc2ad8ac-0', usage_metadata={'input_tokens': 215, 'output_tokens': 31, 'total_tokens': 246, 'input_token_details': {'audio': 0, 'cache_read': 0}, 'output_token_details': {'audio': 0, 'reasoning': 0}}), AIMessage(content='Transferring back to supervisor', additional_kwargs={}, response_metadata={}, name='image_creator', id='c6be279c-e55c-41c8-892c-4246c1e159c7', tool_calls=[{'name': 'transfer_back_to_supervisor', 'args': {}, 'id': 'e3da51a1-6fd9-4637-812f-1b39a503f41f', 'type': 'tool_call'}]), ToolMessage(content='Successfully transferred back to supervisor', name='transfer_back_to_supervisor', id='e244fcf6-ea28-49d6-bfde-bc6f2eae91a7', tool_call_id='e3da51a1-6fd9-4637-812f-1b39a503f41f'), AIMessage(content='I have requested a picture of a simple tree. If you would like to see it or need further modifications, please let me know!', additional_kwargs={'refusal': None}, response_metadata={'token_usage': {'completion_tokens': 29, 'prompt_tokens': 206, 'total_tokens': 235, 'completion_tokens_details': {'accepted_prediction_tokens': 0, 'audio_tokens': 0, 'reasoning_tokens': 0, 'rejected_prediction_tokens': 0}, 'prompt_tokens_details': {'audio_tokens': 0, 'cached_tokens': 0}}, 'model_name': 'gpt-4o-mini-2024-07-18', 'system_fingerprint': 'fp_b705f0c291', 'prompt_filter_results': [{'prompt_index': 0, 'content_filter_results': {'hate': {'filtered': False, 'severity': 'safe'}, 'jailbreak': {'filtered': False, 'detected': False}, 'self_harm': {'filtered': False, 'severity': 'safe'}, 'sexual': {'filtered': False, 'severity': 'safe'}, 'violence': {'filtered': False, 'severity': 'safe'}}}], 'finish_reason': 'stop', 'logprobs': None, 'content_filter_results': {'hate': {'filtered': False, 'severity': 'safe'}, 'self_harm': {'filtered': False, 'severity': 'safe'}, 'sexual': {'filtered': False, 'severity': 'safe'}, 'violence': {'filtered': False, 'severity': 'safe'}}}, name='supervisor', id='run-7d29fbac-60d6-4081-abab-61d14cb866aa-0', usage_metadata={'input_tokens': 206, 'output_tokens': 29, 'total_tokens': 235, 'input_token_details': {'audio': 0, 'cache_read': 0}, 'output_token_details': {'audio': 0, 'reasoning': 0}})]}\n"
     ]
    }
   ],
   "source": [
    "inputs = {\"messages\": [\"I need a picture of a simple tree\"]}\n",
    "\n",
    "for output in app.stream(inputs):\n",
    "\n",
    "    for key, value in output.items():\n",
    "        print(f\"output from node {key} \")\n",
    "        print(\"----\")\n",
    "        print(value)"
   ]
  }
 ],
 "metadata": {
  "kernelspec": {
   "display_name": ".venv",
   "language": "python",
   "name": "python3"
  },
  "language_info": {
   "codemirror_mode": {
    "name": "ipython",
    "version": 3
   },
   "file_extension": ".py",
   "mimetype": "text/x-python",
   "name": "python",
   "nbconvert_exporter": "python",
   "pygments_lexer": "ipython3",
   "version": "3.11.0"
  }
 },
 "nbformat": 4,
 "nbformat_minor": 2
}

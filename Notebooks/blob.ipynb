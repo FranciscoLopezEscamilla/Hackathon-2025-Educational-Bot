{
 "cells": [
  {
   "cell_type": "code",
   "execution_count": 1,
   "metadata": {},
   "outputs": [],
   "source": [
    "import os\n",
    "from azure.identity import DefaultAzureCredential\n",
    "from azure.storage.blob import BlobServiceClient, ContainerClient, BlobClient\n",
    "\n",
    "\n",
    "account_url = os.getenv('STORAGE_ACCOUNT_URL')\n",
    "conn_str = os.getenv('CONN_STR')\n",
    "container_name = os.getenv('CONTAINER')\n",
    "credential = DefaultAzureCredential()\n",
    "blob_service_client = BlobServiceClient.from_connection_string(conn_str)"
   ]
  },
  {
   "cell_type": "code",
   "execution_count": 4,
   "metadata": {},
   "outputs": [],
   "source": [
    "container_client = blob_service_client.get_container_client(container=container_name)\n",
    "        \n",
    "\n",
    "file_path = \"../api/output/sample_file_from_agent.pdf\"\n",
    "\n",
    "with open(file=file_path, mode=\"rb\") as data:\n",
    "        \n",
    "    blob_client = container_client.upload_blob(name=\"test_file.pdf\", data=data, overwrite=True)"
   ]
  },
  {
   "cell_type": "code",
   "execution_count": 19,
   "metadata": {},
   "outputs": [],
   "source": [
    "from pydantic import BaseModel\n",
    "from typing import List, Optional\n",
    "\n",
    "class DocumentMetadata(BaseModel):\n",
    "    name: str\n",
    "    url: str\n",
    "\n",
    "class GeneratedFiles(BaseModel):\n",
    "    blob_files: Optional[List[DocumentMetadata]] = []\n",
    "\n",
    "\n",
    "container_client = blob_service_client.get_container_client(container=container_name)\n",
    "blob_list = container_client.list_blobs()\n",
    "\n",
    "#gen_files_list = GeneratedFiles()\n",
    "\n",
    "simple_list = []\n",
    "\n",
    "for blob in blob_list:\n",
    "    blob_client = container_client.get_blob_client(blob=blob)\n",
    "    \n",
    "   \n",
    "    simple_list.append(DocumentMetadata(name=blob.name, url=blob_client.url))\n",
    "    \n",
    "\n",
    "\n",
    "gen_files_list=GeneratedFiles(blob_files=simple_list)\n",
    "\n",
    "    \n",
    "                  \n",
    "                    "
   ]
  },
  {
   "cell_type": "code",
   "execution_count": 31,
   "metadata": {},
   "outputs": [
    {
     "data": {
      "text/plain": [
       "[DocumentMetadata(name='\"Creating AI Art with Python: A Beginner\\'s Guide\".pdf', url='https://azuresearch001.blob.core.windows.net/hackaton2025/%22Creating%20AI%20Art%20with%20Python%3A%20A%20Beginner%27s%20Guide%22.pdf'),\n",
       " DocumentMetadata(name='\"Transforming Creativity: The Impact of Generative AI in Art\".pdf', url='https://azuresearch001.blob.core.windows.net/hackaton2025/%22Transforming%20Creativity%3A%20The%20Impact%20of%20Generative%20AI%20in%20Art%22.pdf'),\n",
       " DocumentMetadata(name='0756e2bb-842d-4a6a-983b-ff7c93df82c6.png.png', url='https://azuresearch001.blob.core.windows.net/hackaton2025/0756e2bb-842d-4a6a-983b-ff7c93df82c6.png.png'),\n",
       " DocumentMetadata(name='0bccd852-540b-4510-b0b4-d7d4ffa812f8.png.png', url='https://azuresearch001.blob.core.windows.net/hackaton2025/0bccd852-540b-4510-b0b4-d7d4ffa812f8.png.png'),\n",
       " DocumentMetadata(name='14b70d69-c3e9-498d-94b4-3085d0883375.png.png', url='https://azuresearch001.blob.core.windows.net/hackaton2025/14b70d69-c3e9-498d-94b4-3085d0883375.png.png'),\n",
       " DocumentMetadata(name='1cbfa319-99e7-4ed0-a9b0-3aa94f68aac7.png.png', url='https://azuresearch001.blob.core.windows.net/hackaton2025/1cbfa319-99e7-4ed0-a9b0-3aa94f68aac7.png.png'),\n",
       " DocumentMetadata(name='38cab39c-9605-48f8-a299-25c06cc5ce8a.png.png', url='https://azuresearch001.blob.core.windows.net/hackaton2025/38cab39c-9605-48f8-a299-25c06cc5ce8a.png.png'),\n",
       " DocumentMetadata(name='3f2335dc-3589-4b77-bda0-c20c6818c4aa.png.png', url='https://azuresearch001.blob.core.windows.net/hackaton2025/3f2335dc-3589-4b77-bda0-c20c6818c4aa.png.png'),\n",
       " DocumentMetadata(name='4c8aad88-3827-476a-b621-86ce01747b8d.png.png', url='https://azuresearch001.blob.core.windows.net/hackaton2025/4c8aad88-3827-476a-b621-86ce01747b8d.png.png'),\n",
       " DocumentMetadata(name='4f76fc1e-ddfd-4854-8f9a-cfbcecaa4a05.png.png', url='https://azuresearch001.blob.core.windows.net/hackaton2025/4f76fc1e-ddfd-4854-8f9a-cfbcecaa4a05.png.png'),\n",
       " DocumentMetadata(name='63f29cef-6b23-4ad5-acf2-a8830d07f51e.png.png', url='https://azuresearch001.blob.core.windows.net/hackaton2025/63f29cef-6b23-4ad5-acf2-a8830d07f51e.png.png'),\n",
       " DocumentMetadata(name='653d1a74-a628-405e-871e-e2c33798c0c1.png.png', url='https://azuresearch001.blob.core.windows.net/hackaton2025/653d1a74-a628-405e-871e-e2c33798c0c1.png.png'),\n",
       " DocumentMetadata(name='6800dfe8-a4b4-4a49-a4b8-5b2dabf5f32a.png.png', url='https://azuresearch001.blob.core.windows.net/hackaton2025/6800dfe8-a4b4-4a49-a4b8-5b2dabf5f32a.png.png'),\n",
       " DocumentMetadata(name='7105b626-e62e-46a1-bc26-7d8efa178c0c.png.png', url='https://azuresearch001.blob.core.windows.net/hackaton2025/7105b626-e62e-46a1-bc26-7d8efa178c0c.png.png'),\n",
       " DocumentMetadata(name='78006b2b-c08e-4eca-a47b-ebe1b47df397.png.png', url='https://azuresearch001.blob.core.windows.net/hackaton2025/78006b2b-c08e-4eca-a47b-ebe1b47df397.png.png'),\n",
       " DocumentMetadata(name='859340cd-5507-45de-b87f-1384d473e823.png.png', url='https://azuresearch001.blob.core.windows.net/hackaton2025/859340cd-5507-45de-b87f-1384d473e823.png.png'),\n",
       " DocumentMetadata(name='97237c9b-c3fe-4c51-9e5e-37c40e07fe7c.png.png', url='https://azuresearch001.blob.core.windows.net/hackaton2025/97237c9b-c3fe-4c51-9e5e-37c40e07fe7c.png.png'),\n",
       " DocumentMetadata(name='A Comprehensive Guide to Cat Breeds.pdf', url='https://azuresearch001.blob.core.windows.net/hackaton2025/A%20Comprehensive%20Guide%20to%20Cat%20Breeds.pdf'),\n",
       " DocumentMetadata(name='Creating Art with Generative AI: A Step-by-Step Guide**.pdf', url='https://azuresearch001.blob.core.windows.net/hackaton2025/Creating%20Art%20with%20Generative%20AI%3A%20A%20Step-by-Step%20Guide%2A%2A.pdf'),\n",
       " DocumentMetadata(name='Exploring the Danse Macabre: An Artistic Allegory of Death and its Cultural Impact.pdf', url='https://azuresearch001.blob.core.windows.net/hackaton2025/Exploring%20the%20Danse%20Macabre%3A%20An%20Artistic%20Allegory%20of%20Death%20and%20its%20Cultural%20Impact.pdf'),\n",
       " DocumentMetadata(name='Onboarding Guide for New Joiners in the ABC Project.pdf', url='https://azuresearch001.blob.core.windows.net/hackaton2025/Onboarding%20Guide%20for%20New%20Joiners%20in%20the%20ABC%20Project.pdf'),\n",
       " DocumentMetadata(name='The Dance of Death: An Exploration of Danse Macabre in Art and Culture.pdf', url='https://azuresearch001.blob.core.windows.net/hackaton2025/The%20Dance%20of%20Death%3A%20An%20Exploration%20of%20Danse%20Macabre%20in%20Art%20and%20Culture.pdf'),\n",
       " DocumentMetadata(name='The Dance of Death: An Exploration of the Danse Macabre Tradition.pdf', url='https://azuresearch001.blob.core.windows.net/hackaton2025/The%20Dance%20of%20Death%3A%20An%20Exploration%20of%20the%20Danse%20Macabre%20Tradition.pdf'),\n",
       " DocumentMetadata(name='The Danse Macabre: An Exploration of the Dance of Death**.pdf', url='https://azuresearch001.blob.core.windows.net/hackaton2025/The%20Danse%20Macabre%3A%20An%20Exploration%20of%20the%20Dance%20of%20Death%2A%2A.pdf'),\n",
       " DocumentMetadata(name='The Fascinating World of Cats.pdf', url='https://azuresearch001.blob.core.windows.net/hackaton2025/The%20Fascinating%20World%20of%20Cats.pdf'),\n",
       " DocumentMetadata(name='a142a976-43c6-4d0e-89ab-1a40a2429814.png.png', url='https://azuresearch001.blob.core.windows.net/hackaton2025/a142a976-43c6-4d0e-89ab-1a40a2429814.png.png'),\n",
       " DocumentMetadata(name='b144afc9-a74a-4405-bd85-85364703fe9b.png.png', url='https://azuresearch001.blob.core.windows.net/hackaton2025/b144afc9-a74a-4405-bd85-85364703fe9b.png.png'),\n",
       " DocumentMetadata(name='b4213320-a835-4b96-a113-75ba62359deb.png.png', url='https://azuresearch001.blob.core.windows.net/hackaton2025/b4213320-a835-4b96-a113-75ba62359deb.png.png'),\n",
       " DocumentMetadata(name='c21ed6d0-b310-49bf-8dff-7920dad8ca42.png.pdf', url='https://azuresearch001.blob.core.windows.net/hackaton2025/c21ed6d0-b310-49bf-8dff-7920dad8ca42.png.pdf'),\n",
       " DocumentMetadata(name='demo.pptx.pptx', url='https://azuresearch001.blob.core.windows.net/hackaton2025/demo.pptx.pptx'),\n",
       " DocumentMetadata(name='e1f5706d-8a06-453a-ba58-ee812a23dc81.png.png', url='https://azuresearch001.blob.core.windows.net/hackaton2025/e1f5706d-8a06-453a-ba58-ee812a23dc81.png.png'),\n",
       " DocumentMetadata(name='ef3c8474-1b0a-42ff-b855-30610b8a5ec3.png.png', url='https://azuresearch001.blob.core.windows.net/hackaton2025/ef3c8474-1b0a-42ff-b855-30610b8a5ec3.png.png'),\n",
       " DocumentMetadata(name='f75366f4-e4da-4787-9042-7f9e3013b4db.png.png', url='https://azuresearch001.blob.core.windows.net/hackaton2025/f75366f4-e4da-4787-9042-7f9e3013b4db.png.png'),\n",
       " DocumentMetadata(name='fd1ab69f-acbb-4d90-bc0c-a37d6f55cf60.png.png', url='https://azuresearch001.blob.core.windows.net/hackaton2025/fd1ab69f-acbb-4d90-bc0c-a37d6f55cf60.png.png'),\n",
       " DocumentMetadata(name='sample_file_from_agent.pdf', url='https://azuresearch001.blob.core.windows.net/hackaton2025/sample_file_from_agent.pdf'),\n",
       " DocumentMetadata(name='test_file.pdf', url='https://azuresearch001.blob.core.windows.net/hackaton2025/test_file.pdf')]"
      ]
     },
     "execution_count": 31,
     "metadata": {},
     "output_type": "execute_result"
    }
   ],
   "source": [
    "simple_list"
   ]
  }
 ],
 "metadata": {
  "kernelspec": {
   "display_name": ".venv",
   "language": "python",
   "name": "python3"
  },
  "language_info": {
   "codemirror_mode": {
    "name": "ipython",
    "version": 3
   },
   "file_extension": ".py",
   "mimetype": "text/x-python",
   "name": "python",
   "nbconvert_exporter": "python",
   "pygments_lexer": "ipython3",
   "version": "3.11.0"
  }
 },
 "nbformat": 4,
 "nbformat_minor": 2
}

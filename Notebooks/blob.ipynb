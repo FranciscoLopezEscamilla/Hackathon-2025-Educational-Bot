{
 "cells": [
  {
   "cell_type": "code",
   "execution_count": 3,
   "metadata": {},
   "outputs": [],
   "source": [
    "import os\n",
    "from azure.identity import DefaultAzureCredential\n",
    "from azure.storage.blob import BlobServiceClient, ContainerClient, BlobClient\n",
    "\n",
    "\n",
    "account_url = os.getenv('STORAGE_ACCOUNT_URL')\n",
    "conn_str = os.getenv('CONN_STR')\n",
    "container_name = os.getenv('CONTAINER')\n",
    "credential = DefaultAzureCredential()\n",
    "blob_service_client = BlobServiceClient.from_connection_string(conn_str)"
   ]
  },
  {
   "cell_type": "code",
   "execution_count": 4,
   "metadata": {},
   "outputs": [],
   "source": [
    "container_client = blob_service_client.get_container_client(container=container_name)\n",
    "        \n",
    "\n",
    "file_path = \"../api/output/sample_file_from_agent.pdf\"\n",
    "\n",
    "with open(file=file_path, mode=\"rb\") as data:\n",
    "        \n",
    "    blob_client = container_client.upload_blob(name=\"test_file.pdf\", data=data, overwrite=True)"
   ]
  }
 ],
 "metadata": {
  "kernelspec": {
   "display_name": ".venv",
   "language": "python",
   "name": "python3"
  },
  "language_info": {
   "codemirror_mode": {
    "name": "ipython",
    "version": 3
   },
   "file_extension": ".py",
   "mimetype": "text/x-python",
   "name": "python",
   "nbconvert_exporter": "python",
   "pygments_lexer": "ipython3",
   "version": "3.11.0"
  }
 },
 "nbformat": 4,
 "nbformat_minor": 2
}

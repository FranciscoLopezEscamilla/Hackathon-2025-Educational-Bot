{
 "cells": [
  {
   "cell_type": "code",
   "execution_count": 5,
   "metadata": {},
   "outputs": [],
   "source": [
    "from diagrams import Diagram, Cluster, Edge\n",
    "from diagrams.digitalocean.compute import Droplet\n",
    "from diagrams.digitalocean.database import DbaasPrimary\n",
    "from diagrams.elastic.elasticsearch import Logstash\n",
    "from diagrams.aws.compute import EC2\n",
    "\n",
    "\n",
    "#with Diagram(\"Simple Diagram\") as diag:\n",
    "#    EC2(\"web\")"
   ]
  },
  {
   "cell_type": "code",
   "execution_count": 33,
   "metadata": {},
   "outputs": [],
   "source": [
    "import os\n",
    "from langchain_openai.chat_models.azure import AzureChatOpenAI\n",
    "\n",
    "openai_api_key = os.getenv('AZURE_OPENAI_API_KEY')\n",
    "openai_api_base = os.getenv('AZURE_OPENAI_ENDPOINT')\n",
    "openai_api_version = os.getenv('AZURE_OPENAI_API_VERSION')\n",
    "embeddings_model = os.getenv('AZURE_OPENAI_EMBEDDING_DEPLOYMENT_NAME')\n",
    "gpt_model = os.getenv(\"AZURE_OPENAI_CHAT_DEPLOYMENT_NAME\")\n",
    "\n",
    "llm = AzureChatOpenAI(\n",
    "                openai_api_version=openai_api_version,\n",
    "                azure_deployment=gpt_model,\n",
    "            )"
   ]
  },
  {
   "cell_type": "code",
   "execution_count": 28,
   "metadata": {},
   "outputs": [],
   "source": [
    "import base64\n",
    "\n",
    "def encode_image(image_path):\n",
    "    with open(image_path, \"rb\") as image_file:\n",
    "        return base64.b64encode(image_file.read()).decode('utf-8')\n",
    "    \n",
    "\n",
    "img = encode_image(\"./Tire_demo/Tire-change.jpg\")"
   ]
  },
  {
   "cell_type": "code",
   "execution_count": 33,
   "metadata": {},
   "outputs": [],
   "source": [
    "def describe_images(image_path):\n",
    "\n",
    "    image = encode_image(image_path)\n",
    "    messages = {\n",
    "        \"role\": \"user\",\n",
    "        \"content\":[\n",
    "            {\"type\":\"text\", \"text\": \"Tell me what's in the image in a simple sentence\"},\n",
    "            {\"type\": \"image_url\", \"image_url\":{\"url\": f\"data:image/jpeg;base64,{image}\", \"detail\":\"low\"}},\n",
    "        \n",
    "        ]\n",
    "    }\n",
    "\n",
    "    return {\"image_description\": llm.invoke([messages]).content, \"path\": image_path}\n"
   ]
  },
  {
   "cell_type": "code",
   "execution_count": 34,
   "metadata": {},
   "outputs": [
    {
     "data": {
      "text/plain": [
       "{'image_description': 'A person is using a wrench to change a tire on a car.',\n",
       " 'path': './Tire_demo/images.jpg'}"
      ]
     },
     "execution_count": 34,
     "metadata": {},
     "output_type": "execute_result"
    }
   ],
   "source": [
    "describe_images(\"./Tire_demo/images.jpg\")"
   ]
  },
  {
   "cell_type": "code",
   "execution_count": 43,
   "metadata": {},
   "outputs": [],
   "source": [
    "from langchain_core.prompts import PromptTemplate\n",
    "\n",
    "def diagram_creator(images, text):\n",
    "    \"Uses Graphiz to generate smart diagrams based on text and images.\"\n",
    "\n",
    "    prompt = \"\"\"You're a smart assistant that writes python code.\n",
    "Your job is to write a python code that uses Graphviz to generate a flow chart of the following text and images.\n",
    "Analyze and understand the text very carefully, highlight the main components. Do no add more than 6 nodes.\n",
    "Review the images descriptions and use the image to create the flow chart when you think is appropiate. \n",
    "Plasee add images to the flow chart. To find the images path, use the \"path\" property of the images dictionary below.\n",
    "The flow chart must be great and self-explanatory.\n",
    "\n",
    "Text: {text}\n",
    "\n",
    "Images: {images}\n",
    "\n",
    "Return just the snippet of code. Nothing else.\n",
    "\"\"\"\n",
    "\n",
    "    prompt_template = PromptTemplate.from_template(prompt)\n",
    "    chain  = prompt_template | llm\n",
    "    chain = chain.invoke({\"text\": text, \"images\": images})\n",
    "\n",
    "    return chain.content"
   ]
  },
  {
   "cell_type": "code",
   "execution_count": 31,
   "metadata": {},
   "outputs": [],
   "source": [
    "text = \"\"\"\n",
    "To change a tire, first, find a safe, level location and set up the wheel chocks. Next, loosen the lug nuts, jack up the car, and remove the flat tire. Then, mount the spare tire, lower the car, and tighten the lug nuts. Finally, fully lower the car and check the lug nuts. \n",
    "Here's a more detailed breakdown:\n",
    "1. Safety First:\n",
    "Find a safe location: Pull over to a safe and level spot, away from traffic if possible. \n",
    "Engage the parking brake: Turn on your hazard lights and apply the parking brake. \n",
    "Place wheel chocks: Place the wheel chocks on the wheels diagonally opposite the tire you're changing. \n",
    "2. Prepare the Vehicle:\n",
    "Loosen the lug nuts: Using the lug wrench, loosen the lug nuts (but don't remove them yet). \n",
    "Locate the jack point: Consult your owner's manual or look for the designated jack points on your car. \n",
    "Position the jack: Place the jack securely under the designated jacking point. \n",
    "3. Remove the Flat Tire:\n",
    "Raise the vehicle: Raise the car using the jack, enough to remove the flat tire.\n",
    "Remove lug nuts: Completely remove the lug nuts.\n",
    "Remove the flat tire: Carefully remove the flat tire, placing it aside safely. \n",
    "4. Install the Spare Tire:\n",
    "Mount the spare tire: Align the spare tire with the lug bolts and push it onto the hub.\n",
    "Replace lug nuts: Place the lug nuts on the wheel and tighten them by hand. \n",
    "5. Lower the Vehicle and Tighten:\n",
    "Lower the car:\n",
    "Slowly lower the car until the spare tire is on the ground, but the weight is not fully on the spare.\n",
    "Tighten lug nuts:\n",
    "Use the lug wrench to tighten the lug nuts in a star pattern, then fully lower the car and tighten the lug nuts again. \n",
    "6. Final Steps:\n",
    "Check lug nuts:\n",
    "After driving a short distance, check the lug nuts again to ensure they are tight. \n",
    "Consult a professional:\n",
    "If you're not comfortable changing a tire, it's best to call for roadside assistance or a professional mechanic. \n",
    "\"\"\"\n",
    "\n",
    "images = {'image_description': 'A person is using a wrench to change a tire on a car.',\n",
    " 'path': './Tire_demo/images.jpg'}"
   ]
  },
  {
   "cell_type": "code",
   "execution_count": 44,
   "metadata": {},
   "outputs": [],
   "source": [
    "diagram = diagram_creator(text, images)"
   ]
  },
  {
   "cell_type": "code",
   "execution_count": 45,
   "metadata": {},
   "outputs": [
    {
     "name": "stdout",
     "output_type": "stream",
     "text": [
      "```python\n",
      "import graphviz\n",
      "\n",
      "dot = graphviz.Digraph(comment='Tire Changing Process')\n",
      "\n",
      "dot.node('A', '1. Safety First\\n- Find a safe location\\n- Engage parking brake\\n- Place wheel chocks')\n",
      "dot.node('B', '2. Prepare the Vehicle\\n- Loosen lug nuts\\n- Locate the jack point\\n- Position the jack')\n",
      "dot.node('C', '3. Remove the Flat Tire\\n- Raise the vehicle\\n- Remove lug nuts\\n- Remove flat tire')\n",
      "dot.node('D', '4. Install Spare Tire\\n- Mount spare tire\\n- Replace lug nuts')\n",
      "dot.node('E', '5. Lower Vehicle and Tighten\\n- Lower car\\n- Tighten lug nuts in star pattern')\n",
      "dot.node('F', '6. Final Steps\\n- Check lug nuts\\n- Consult a professional')\n",
      "\n",
      "dot.node('Image', 'Person changing tire', shape='rect', image='./Tire_demo/images.jpg', label='', or='none')\n",
      "\n",
      "dot.edges(['AB', 'BC', 'CD', 'DE', 'EF'])\n",
      "dot.attr(ranksep='0.5')\n",
      "\n",
      "dot.render('tire_changing_flowchart', format='png', cleanup=True)\n",
      "```\n"
     ]
    }
   ],
   "source": [
    "print(diagram)"
   ]
  },
  {
   "cell_type": "code",
   "execution_count": 22,
   "metadata": {},
   "outputs": [],
   "source": [
    "from PIL import Image\n",
    "\n",
    "img = Image.open(\"../api/assets/generated_images/2025-02-27-14-58-20/genai_img_9a12a22b-ccdf-4828-bfdd-9cac4971f474.jpg\")\n",
    "\n",
    "width, height = img.size \n",
    "\n",
    "size = 250, 250\n",
    "\n",
    "img.thumbnail(size, Image.Resampling.LANCZOS)\n",
    "\n",
    "\n",
    "img.show()"
   ]
  },
  {
   "cell_type": "code",
   "execution_count": 87,
   "metadata": {},
   "outputs": [
    {
     "ename": "CalledProcessError",
     "evalue": "Command '[WindowsPath('dot'), '-Kdot', '-Tpdf', '-O', 'printer set up']' returned non-zero exit status 3221226356. [stderr: b'']",
     "output_type": "error",
     "traceback": [
      "\u001b[1;31m---------------------------------------------------------------------------\u001b[0m",
      "\u001b[1;31mCalledProcessError\u001b[0m                        Traceback (most recent call last)",
      "File \u001b[1;32mc:\\Users\\p.a.rodriguez.canedo\\Documents\\Hackaton_2025\\.venv\\Lib\\site-packages\\graphviz\\backend\\execute.py:88\u001b[0m, in \u001b[0;36mrun_check\u001b[1;34m(cmd, input_lines, encoding, quiet, **kwargs)\u001b[0m\n\u001b[0;32m     87\u001b[0m \u001b[38;5;28;01mtry\u001b[39;00m:\n\u001b[1;32m---> 88\u001b[0m     \u001b[43mproc\u001b[49m\u001b[38;5;241;43m.\u001b[39;49m\u001b[43mcheck_returncode\u001b[49m\u001b[43m(\u001b[49m\u001b[43m)\u001b[49m\n\u001b[0;32m     89\u001b[0m \u001b[38;5;28;01mexcept\u001b[39;00m subprocess\u001b[38;5;241m.\u001b[39mCalledProcessError \u001b[38;5;28;01mas\u001b[39;00m e:\n",
      "File \u001b[1;32m~\\AppData\\Local\\Programs\\Python\\Python311\\Lib\\subprocess.py:501\u001b[0m, in \u001b[0;36mCompletedProcess.check_returncode\u001b[1;34m(self)\u001b[0m\n\u001b[0;32m    500\u001b[0m \u001b[38;5;28;01mif\u001b[39;00m \u001b[38;5;28mself\u001b[39m\u001b[38;5;241m.\u001b[39mreturncode:\n\u001b[1;32m--> 501\u001b[0m     \u001b[38;5;28;01mraise\u001b[39;00m CalledProcessError(\u001b[38;5;28mself\u001b[39m\u001b[38;5;241m.\u001b[39mreturncode, \u001b[38;5;28mself\u001b[39m\u001b[38;5;241m.\u001b[39margs, \u001b[38;5;28mself\u001b[39m\u001b[38;5;241m.\u001b[39mstdout,\n\u001b[0;32m    502\u001b[0m                              \u001b[38;5;28mself\u001b[39m\u001b[38;5;241m.\u001b[39mstderr)\n",
      "\u001b[1;31mCalledProcessError\u001b[0m: Command '[WindowsPath('dot'), '-Kdot', '-Tpdf', '-O', 'printer set up']' returned non-zero exit status 3221226356.",
      "\nDuring handling of the above exception, another exception occurred:\n",
      "\u001b[1;31mCalledProcessError\u001b[0m                        Traceback (most recent call last)",
      "Cell \u001b[1;32mIn[87], line 26\u001b[0m\n\u001b[0;32m     21\u001b[0m dot\u001b[38;5;241m.\u001b[39medge(\u001b[38;5;124m'\u001b[39m\u001b[38;5;124mE\u001b[39m\u001b[38;5;124m'\u001b[39m, \u001b[38;5;124m'\u001b[39m\u001b[38;5;124mF\u001b[39m\u001b[38;5;124m'\u001b[39m)\n\u001b[0;32m     22\u001b[0m dot\u001b[38;5;241m.\u001b[39medge(\u001b[38;5;124m'\u001b[39m\u001b[38;5;124mF\u001b[39m\u001b[38;5;124m'\u001b[39m, \u001b[38;5;124m'\u001b[39m\u001b[38;5;124mG\u001b[39m\u001b[38;5;124m'\u001b[39m)\n\u001b[1;32m---> 26\u001b[0m \u001b[43mdot\u001b[49m\u001b[38;5;241;43m.\u001b[39;49m\u001b[43mrender\u001b[49m\u001b[43m(\u001b[49m\u001b[38;5;124;43m\"\u001b[39;49m\u001b[38;5;124;43mprinter set up\u001b[39;49m\u001b[38;5;124;43m\"\u001b[39;49m\u001b[43m,\u001b[49m\u001b[43m \u001b[49m\u001b[43mview\u001b[49m\u001b[38;5;241;43m=\u001b[39;49m\u001b[38;5;28;43;01mTrue\u001b[39;49;00m\u001b[43m)\u001b[49m\n",
      "File \u001b[1;32mc:\\Users\\p.a.rodriguez.canedo\\Documents\\Hackaton_2025\\.venv\\Lib\\site-packages\\graphviz\\_tools.py:171\u001b[0m, in \u001b[0;36mdeprecate_positional_args.<locals>.decorator.<locals>.wrapper\u001b[1;34m(*args, **kwargs)\u001b[0m\n\u001b[0;32m    162\u001b[0m     wanted \u001b[38;5;241m=\u001b[39m \u001b[38;5;124m'\u001b[39m\u001b[38;5;124m, \u001b[39m\u001b[38;5;124m'\u001b[39m\u001b[38;5;241m.\u001b[39mjoin(\u001b[38;5;124mf\u001b[39m\u001b[38;5;124m'\u001b[39m\u001b[38;5;132;01m{\u001b[39;00mname\u001b[38;5;132;01m}\u001b[39;00m\u001b[38;5;124m=\u001b[39m\u001b[38;5;132;01m{\u001b[39;00mvalue\u001b[38;5;132;01m!r}\u001b[39;00m\u001b[38;5;124m'\u001b[39m\n\u001b[0;32m    163\u001b[0m                        \u001b[38;5;28;01mfor\u001b[39;00m name, value \u001b[38;5;129;01min\u001b[39;00m deprecated\u001b[38;5;241m.\u001b[39mitems())\n\u001b[0;32m    164\u001b[0m     warnings\u001b[38;5;241m.\u001b[39mwarn(\u001b[38;5;124mf\u001b[39m\u001b[38;5;124m'\u001b[39m\u001b[38;5;124mThe signature of \u001b[39m\u001b[38;5;132;01m{\u001b[39;00mfunc\u001b[38;5;241m.\u001b[39m\u001b[38;5;18m__name__\u001b[39m\u001b[38;5;132;01m}\u001b[39;00m\u001b[38;5;124m will be reduced\u001b[39m\u001b[38;5;124m'\u001b[39m\n\u001b[0;32m    165\u001b[0m                   \u001b[38;5;124mf\u001b[39m\u001b[38;5;124m'\u001b[39m\u001b[38;5;124m to \u001b[39m\u001b[38;5;132;01m{\u001b[39;00msupported_number\u001b[38;5;132;01m}\u001b[39;00m\u001b[38;5;124m positional args\u001b[39m\u001b[38;5;124m'\u001b[39m\n\u001b[0;32m    166\u001b[0m                   \u001b[38;5;124mf\u001b[39m\u001b[38;5;124m'\u001b[39m\u001b[38;5;124m \u001b[39m\u001b[38;5;132;01m{\u001b[39;00m\u001b[38;5;28mlist\u001b[39m(supported)\u001b[38;5;132;01m}\u001b[39;00m\u001b[38;5;124m: pass \u001b[39m\u001b[38;5;132;01m{\u001b[39;00mwanted\u001b[38;5;132;01m}\u001b[39;00m\u001b[38;5;124m'\u001b[39m\n\u001b[0;32m    167\u001b[0m                   \u001b[38;5;124m'\u001b[39m\u001b[38;5;124m as keyword arg(s)\u001b[39m\u001b[38;5;124m'\u001b[39m,\n\u001b[0;32m    168\u001b[0m                   stacklevel\u001b[38;5;241m=\u001b[39mstacklevel,\n\u001b[0;32m    169\u001b[0m                   category\u001b[38;5;241m=\u001b[39mcategory)\n\u001b[1;32m--> 171\u001b[0m \u001b[38;5;28;01mreturn\u001b[39;00m \u001b[43mfunc\u001b[49m\u001b[43m(\u001b[49m\u001b[38;5;241;43m*\u001b[39;49m\u001b[43margs\u001b[49m\u001b[43m,\u001b[49m\u001b[43m \u001b[49m\u001b[38;5;241;43m*\u001b[39;49m\u001b[38;5;241;43m*\u001b[39;49m\u001b[43mkwargs\u001b[49m\u001b[43m)\u001b[49m\n",
      "File \u001b[1;32mc:\\Users\\p.a.rodriguez.canedo\\Documents\\Hackaton_2025\\.venv\\Lib\\site-packages\\graphviz\\rendering.py:122\u001b[0m, in \u001b[0;36mRender.render\u001b[1;34m(self, filename, directory, view, cleanup, format, renderer, formatter, neato_no_op, quiet, quiet_view, outfile, engine, raise_if_result_exists, overwrite_source)\u001b[0m\n\u001b[0;32m    118\u001b[0m filepath \u001b[38;5;241m=\u001b[39m \u001b[38;5;28mself\u001b[39m\u001b[38;5;241m.\u001b[39msave(filename, directory\u001b[38;5;241m=\u001b[39mdirectory, skip_existing\u001b[38;5;241m=\u001b[39m\u001b[38;5;28;01mNone\u001b[39;00m)\n\u001b[0;32m    120\u001b[0m args\u001b[38;5;241m.\u001b[39mappend(filepath)\n\u001b[1;32m--> 122\u001b[0m rendered \u001b[38;5;241m=\u001b[39m \u001b[38;5;28;43mself\u001b[39;49m\u001b[38;5;241;43m.\u001b[39;49m\u001b[43m_render\u001b[49m\u001b[43m(\u001b[49m\u001b[38;5;241;43m*\u001b[39;49m\u001b[43margs\u001b[49m\u001b[43m,\u001b[49m\u001b[43m \u001b[49m\u001b[38;5;241;43m*\u001b[39;49m\u001b[38;5;241;43m*\u001b[39;49m\u001b[43mkwargs\u001b[49m\u001b[43m)\u001b[49m\n\u001b[0;32m    124\u001b[0m \u001b[38;5;28;01mif\u001b[39;00m cleanup:\n\u001b[0;32m    125\u001b[0m     log\u001b[38;5;241m.\u001b[39mdebug(\u001b[38;5;124m'\u001b[39m\u001b[38;5;124mdelete \u001b[39m\u001b[38;5;132;01m%r\u001b[39;00m\u001b[38;5;124m'\u001b[39m, filepath)\n",
      "File \u001b[1;32mc:\\Users\\p.a.rodriguez.canedo\\Documents\\Hackaton_2025\\.venv\\Lib\\site-packages\\graphviz\\_tools.py:171\u001b[0m, in \u001b[0;36mdeprecate_positional_args.<locals>.decorator.<locals>.wrapper\u001b[1;34m(*args, **kwargs)\u001b[0m\n\u001b[0;32m    162\u001b[0m     wanted \u001b[38;5;241m=\u001b[39m \u001b[38;5;124m'\u001b[39m\u001b[38;5;124m, \u001b[39m\u001b[38;5;124m'\u001b[39m\u001b[38;5;241m.\u001b[39mjoin(\u001b[38;5;124mf\u001b[39m\u001b[38;5;124m'\u001b[39m\u001b[38;5;132;01m{\u001b[39;00mname\u001b[38;5;132;01m}\u001b[39;00m\u001b[38;5;124m=\u001b[39m\u001b[38;5;132;01m{\u001b[39;00mvalue\u001b[38;5;132;01m!r}\u001b[39;00m\u001b[38;5;124m'\u001b[39m\n\u001b[0;32m    163\u001b[0m                        \u001b[38;5;28;01mfor\u001b[39;00m name, value \u001b[38;5;129;01min\u001b[39;00m deprecated\u001b[38;5;241m.\u001b[39mitems())\n\u001b[0;32m    164\u001b[0m     warnings\u001b[38;5;241m.\u001b[39mwarn(\u001b[38;5;124mf\u001b[39m\u001b[38;5;124m'\u001b[39m\u001b[38;5;124mThe signature of \u001b[39m\u001b[38;5;132;01m{\u001b[39;00mfunc\u001b[38;5;241m.\u001b[39m\u001b[38;5;18m__name__\u001b[39m\u001b[38;5;132;01m}\u001b[39;00m\u001b[38;5;124m will be reduced\u001b[39m\u001b[38;5;124m'\u001b[39m\n\u001b[0;32m    165\u001b[0m                   \u001b[38;5;124mf\u001b[39m\u001b[38;5;124m'\u001b[39m\u001b[38;5;124m to \u001b[39m\u001b[38;5;132;01m{\u001b[39;00msupported_number\u001b[38;5;132;01m}\u001b[39;00m\u001b[38;5;124m positional args\u001b[39m\u001b[38;5;124m'\u001b[39m\n\u001b[0;32m    166\u001b[0m                   \u001b[38;5;124mf\u001b[39m\u001b[38;5;124m'\u001b[39m\u001b[38;5;124m \u001b[39m\u001b[38;5;132;01m{\u001b[39;00m\u001b[38;5;28mlist\u001b[39m(supported)\u001b[38;5;132;01m}\u001b[39;00m\u001b[38;5;124m: pass \u001b[39m\u001b[38;5;132;01m{\u001b[39;00mwanted\u001b[38;5;132;01m}\u001b[39;00m\u001b[38;5;124m'\u001b[39m\n\u001b[0;32m    167\u001b[0m                   \u001b[38;5;124m'\u001b[39m\u001b[38;5;124m as keyword arg(s)\u001b[39m\u001b[38;5;124m'\u001b[39m,\n\u001b[0;32m    168\u001b[0m                   stacklevel\u001b[38;5;241m=\u001b[39mstacklevel,\n\u001b[0;32m    169\u001b[0m                   category\u001b[38;5;241m=\u001b[39mcategory)\n\u001b[1;32m--> 171\u001b[0m \u001b[38;5;28;01mreturn\u001b[39;00m \u001b[43mfunc\u001b[49m\u001b[43m(\u001b[49m\u001b[38;5;241;43m*\u001b[39;49m\u001b[43margs\u001b[49m\u001b[43m,\u001b[49m\u001b[43m \u001b[49m\u001b[38;5;241;43m*\u001b[39;49m\u001b[38;5;241;43m*\u001b[39;49m\u001b[43mkwargs\u001b[49m\u001b[43m)\u001b[49m\n",
      "File \u001b[1;32mc:\\Users\\p.a.rodriguez.canedo\\Documents\\Hackaton_2025\\.venv\\Lib\\site-packages\\graphviz\\backend\\rendering.py:326\u001b[0m, in \u001b[0;36mrender\u001b[1;34m(engine, format, filepath, renderer, formatter, neato_no_op, quiet, outfile, raise_if_result_exists, overwrite_filepath)\u001b[0m\n\u001b[0;32m    322\u001b[0m cmd \u001b[38;5;241m+\u001b[39m\u001b[38;5;241m=\u001b[39m args\n\u001b[0;32m    324\u001b[0m \u001b[38;5;28;01massert\u001b[39;00m filepath \u001b[38;5;129;01mis\u001b[39;00m \u001b[38;5;129;01mnot\u001b[39;00m \u001b[38;5;28;01mNone\u001b[39;00m, \u001b[38;5;124m'\u001b[39m\u001b[38;5;124mwork around pytype false alarm\u001b[39m\u001b[38;5;124m'\u001b[39m\n\u001b[1;32m--> 326\u001b[0m \u001b[43mexecute\u001b[49m\u001b[38;5;241;43m.\u001b[39;49m\u001b[43mrun_check\u001b[49m\u001b[43m(\u001b[49m\u001b[43mcmd\u001b[49m\u001b[43m,\u001b[49m\n\u001b[0;32m    327\u001b[0m \u001b[43m                  \u001b[49m\u001b[43mcwd\u001b[49m\u001b[38;5;241;43m=\u001b[39;49m\u001b[43mfilepath\u001b[49m\u001b[38;5;241;43m.\u001b[39;49m\u001b[43mparent\u001b[49m\u001b[43m \u001b[49m\u001b[38;5;28;43;01mif\u001b[39;49;00m\u001b[43m \u001b[49m\u001b[43mfilepath\u001b[49m\u001b[38;5;241;43m.\u001b[39;49m\u001b[43mparent\u001b[49m\u001b[38;5;241;43m.\u001b[39;49m\u001b[43mparts\u001b[49m\u001b[43m \u001b[49m\u001b[38;5;28;43;01melse\u001b[39;49;00m\u001b[43m \u001b[49m\u001b[38;5;28;43;01mNone\u001b[39;49;00m\u001b[43m,\u001b[49m\n\u001b[0;32m    328\u001b[0m \u001b[43m                  \u001b[49m\u001b[43mquiet\u001b[49m\u001b[38;5;241;43m=\u001b[39;49m\u001b[43mquiet\u001b[49m\u001b[43m,\u001b[49m\n\u001b[0;32m    329\u001b[0m \u001b[43m                  \u001b[49m\u001b[43mcapture_output\u001b[49m\u001b[38;5;241;43m=\u001b[39;49m\u001b[38;5;28;43;01mTrue\u001b[39;49;00m\u001b[43m)\u001b[49m\n\u001b[0;32m    331\u001b[0m \u001b[38;5;28;01mreturn\u001b[39;00m os\u001b[38;5;241m.\u001b[39mfspath(outfile)\n",
      "File \u001b[1;32mc:\\Users\\p.a.rodriguez.canedo\\Documents\\Hackaton_2025\\.venv\\Lib\\site-packages\\graphviz\\backend\\execute.py:90\u001b[0m, in \u001b[0;36mrun_check\u001b[1;34m(cmd, input_lines, encoding, quiet, **kwargs)\u001b[0m\n\u001b[0;32m     88\u001b[0m     proc\u001b[38;5;241m.\u001b[39mcheck_returncode()\n\u001b[0;32m     89\u001b[0m \u001b[38;5;28;01mexcept\u001b[39;00m subprocess\u001b[38;5;241m.\u001b[39mCalledProcessError \u001b[38;5;28;01mas\u001b[39;00m e:\n\u001b[1;32m---> 90\u001b[0m     \u001b[38;5;28;01mraise\u001b[39;00m CalledProcessError(\u001b[38;5;241m*\u001b[39me\u001b[38;5;241m.\u001b[39margs)\n\u001b[0;32m     92\u001b[0m \u001b[38;5;28;01mreturn\u001b[39;00m proc\n",
      "\u001b[1;31mCalledProcessError\u001b[0m: Command '[WindowsPath('dot'), '-Kdot', '-Tpdf', '-O', 'printer set up']' returned non-zero exit status 3221226356. [stderr: b'']"
     ]
    }
   ],
   "source": [
    "from graphviz import Digraph\n",
    "\n",
    "# Create a new directed graph\n",
    "dot = Digraph()\n",
    "\n",
    "# Add nodes (steps) to the graph\n",
    "dot.node('A', 'Connect printer to computer and power source.')\n",
    "dot.node('B', 'Go to My Devices (Windows) or Printers and Scanners (Mac).')\n",
    "dot.node('C', 'Click Add Device and select your printer.')\n",
    "dot.node('D', 'Print a test page to ensure your printer works.')\n",
    "dot.node('E', label='image', image = \"../api/assets/generated_images/2025-02-27-14-58-20/genai_img_9a12a22b-ccdf-4828-bfdd-9cac4971f474.jpg\")\n",
    "dot.node('F', label=\"image2\", image = \"../api/assets/generated_images/2025-02-27-15-29-10/genai_img_b4b09826-76bb-4cc4-a268-730cda29bac7.jpg\")\n",
    "dot.node('G', label = \"last-image\", image = \"../api/assets/generated_images/2025-04-21-11-57-47/genai_img_3dd85cd2-0a73-4e1f-8ff4-c37b8a4df012_thumbnail.jpg\")\n",
    "\n",
    "# Add edges (arrows) to connect the steps\n",
    "dot.edge('A', 'B', 'Connect')\n",
    "dot.edge('B', 'C', 'Next')\n",
    "dot.edge('B', 'D', 'Optional')\n",
    "dot.edge('C', 'D', 'Confirm')\n",
    "dot.edge('D', 'E')\n",
    "dot.edge('E', 'F')\n",
    "dot.edge('F', 'G')\n",
    "\n",
    "\n",
    "\n",
    "dot.render(\"printer set up\", view=True)"
   ]
  },
  {
   "cell_type": "code",
   "execution_count": 42,
   "metadata": {},
   "outputs": [],
   "source": [
    "\n",
    "\n",
    "prompt = f\"\"\"You're a smart assistant that writes python code.\n",
    "Your job is to write a python code that uses the Diagram library to generate a flow chart of the following text\n",
    "\n",
    "### TEXT ###\n",
    "{text}\n",
    "\n",
    "Please return just the python snippet, nothing else.\n",
    "\"\"\"\n",
    "\n",
    "answer = llm.invoke(prompt).content"
   ]
  },
  {
   "cell_type": "code",
   "execution_count": 43,
   "metadata": {},
   "outputs": [
    {
     "name": "stdout",
     "output_type": "stream",
     "text": [
      "```python\n",
      "from diagram import Diagram, Box\n",
      "\n",
      "# Create a flow chart diagram\n",
      "diagram = Diagram('Tire Change Process')\n",
      "\n",
      "# Define steps\n",
      "safety_first = Box('Safety First')\n",
      "safe_location = Box('Find a safe location')\n",
      "engage_brake = Box('Engage the parking brake')\n",
      "place_chocks = Box('Place wheel chocks')\n",
      "\n",
      "prepare_vehicle = Box('Prepare the Vehicle')\n",
      "loosen_lug_nuts = Box('Loosen the lug nuts')\n",
      "locate_jack_point = Box('Locate the jack point')\n",
      "position_jack = Box('Position the jack')\n",
      "\n",
      "remove_flat_tire = Box('Remove the Flat Tire')\n",
      "raise_vehicle = Box('Raise the vehicle')\n",
      "remove_lug_nuts = Box('Remove lug nuts')\n",
      "remove_flat = Box('Remove the flat tire')\n",
      "\n",
      "install_spare_tire = Box('Install the Spare Tire')\n",
      "mount_spare = Box('Mount the spare tire')\n",
      "replace_lug_nuts = Box('Replace lug nuts')\n",
      "\n",
      "lower_vehicle = Box('Lower the Vehicle and Tighten')\n",
      "lower_car = Box('Lower the car')\n",
      "tighten_lug_nuts = Box('Tighten lug nuts')\n",
      "\n",
      "final_steps = Box('Final Steps')\n",
      "check_lug_nuts = Box('Check lug nuts')\n",
      "consult_professional = Box('Consult a professional')\n",
      "\n",
      "# Add boxes and connections\n",
      "diagram.add(safety_first)\n",
      "safety_first.add(safe_location)\n",
      "safety_first.add(engage_brake)\n",
      "safety_first.add(place_chocks)\n",
      "\n",
      "diagram.add(prepare_vehicle)\n",
      "prepare_vehicle.add(loosen_lug_nuts)\n",
      "prepare_vehicle.add(locate_jack_point)\n",
      "prepare_vehicle.add(position_jack)\n",
      "\n",
      "diagram.add(remove_flat_tire)\n",
      "remove_flat_tire.add(raise_vehicle)\n",
      "remove_flat_tire.add(remove_lug_nuts)\n",
      "remove_flat_tire.add(remove_flat)\n",
      "\n",
      "diagram.add(install_spare_tire)\n",
      "install_spare_tire.add(mount_spare)\n",
      "install_spare_tire.add(replace_lug_nuts)\n",
      "\n",
      "diagram.add(lower_vehicle)\n",
      "lower_vehicle.add(lower_car)\n",
      "lower_vehicle.add(tighten_lug_nuts)\n",
      "\n",
      "diagram.add(final_steps)\n",
      "final_steps.add(check_lug_nuts)\n",
      "final_steps.add(consult_professional)\n",
      "\n",
      "# Generate the flow chart\n",
      "diagram.render('tire_change_flow_chart')\n",
      "```\n"
     ]
    }
   ],
   "source": [
    "print(answer)"
   ]
  },
  {
   "cell_type": "code",
   "execution_count": 41,
   "metadata": {},
   "outputs": [],
   "source": [
    "from diagrams import Diagram, Edge\n",
    "from diagrams.openstack.networking import Designate"
   ]
  },
  {
   "cell_type": "code",
   "execution_count": null,
   "metadata": {},
   "outputs": [],
   "source": [
    "from diagrams import Diagram, Edge\n",
    "from diagrams.openstack.network import Router\n",
    "\n",
    "\n",
    "with Diagram(\"Change a Tire Flow Chart\", show=False):\n",
    "    safety_first = Router(\"Safety First\")\n",
    "    safe_location = Router(\"Find a safe location\")\n",
    "    engage_parking_brake = Router(\"Engage the parking brake\")\n",
    "    place_wheel_chocks = Router(\"Place wheel chocks\")\n",
    "\n",
    "    prepare_vehicle = Router(\"Prepare the Vehicle\")\n",
    "    loosen_lug_nuts = Router(\"Loosen the lug nuts\")\n",
    "    locate_jack_point = Router(\"Locate the jack point\")\n",
    "    position_jack = Router(\"Position the jack\")\n",
    "\n",
    "    remove_flat_tire = Router(\"Remove the Flat Tire\")\n",
    "    raise_vehicle = Router(\"Raise the vehicle\")\n",
    "    remove_lug_nuts = Router(\"Remove lug nuts\")\n",
    "    remove_flat_tire_safe = Router(\"Remove the flat tire\")\n",
    "\n",
    "    install_spare_tire = Router(\"Install the Spare Tire\")\n",
    "    mount_spare_tire = Router(\"Mount the spare tire\")\n",
    "    replace_lug_nuts = Router(\"Replace lug nuts\")\n",
    "\n",
    "    lower_vehicle = Router(\"Lower the Vehicle and Tighten\")\n",
    "\n",
    "\n",
    "final_steps >> check_lug_nuts\n",
    "final_steps >> consult_professional"
   ]
  }
 ],
 "metadata": {
  "kernelspec": {
   "display_name": ".venv",
   "language": "python",
   "name": "python3"
  },
  "language_info": {
   "codemirror_mode": {
    "name": "ipython",
    "version": 3
   },
   "file_extension": ".py",
   "mimetype": "text/x-python",
   "name": "python",
   "nbconvert_exporter": "python",
   "pygments_lexer": "ipython3",
   "version": "3.11.0"
  }
 },
 "nbformat": 4,
 "nbformat_minor": 2
}

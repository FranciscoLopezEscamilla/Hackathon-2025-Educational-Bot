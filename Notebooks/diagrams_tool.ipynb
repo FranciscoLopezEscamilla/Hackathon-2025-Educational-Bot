{
 "cells": [
  {
   "cell_type": "code",
   "execution_count": 2,
   "metadata": {},
   "outputs": [],
   "source": [
    "import os\n",
    "from langchain_openai.chat_models.azure import AzureChatOpenAI\n",
    "\n",
    "openai_api_key = os.getenv('AZURE_OPENAI_API_KEY')\n",
    "openai_api_base = os.getenv('AZURE_OPENAI_ENDPOINT')\n",
    "openai_api_version = os.getenv('AZURE_OPENAI_API_VERSION')\n",
    "embeddings_model = os.getenv('AZURE_OPENAI_EMBEDDING_DEPLOYMENT_NAME')\n",
    "gpt_model = os.getenv(\"AZURE_OPENAI_CHAT_DEPLOYMENT_NAME\")\n",
    "\n",
    "llm = AzureChatOpenAI(\n",
    "                openai_api_version=openai_api_version,\n",
    "                azure_deployment=gpt_model,\n",
    "            )"
   ]
  },
  {
   "cell_type": "code",
   "execution_count": 13,
   "metadata": {},
   "outputs": [],
   "source": [
    "from langchain_core.prompts import PromptTemplate\n",
    "\n",
    "def diagram_agent(text):\n",
    "    \"you are a diagram creator expert that generates diagrams with mermaid package\"\n",
    "\n",
    "    prompt = \"\"\"Your job is to write the code to generate a colorful mermaid diagram describing the text below:\n",
    "\n",
    "    {text} \n",
    "    \n",
    "    Please understand the text before generating the code. use the text information only , don't use any other information.\n",
    "    only generate the code as output nothing extra. Do not add code that is not part of mermaid.\n",
    "    each line in the code must be terminated by ; \n",
    "    Code:\"\"\"\n",
    "\n",
    "    template = PromptTemplate.from_template(prompt)\n",
    "    chain = template | llm\n",
    "    response = chain.invoke({\"text\": text})\n",
    "    return response.content\n",
    "    "
   ]
  },
  {
   "cell_type": "code",
   "execution_count": 10,
   "metadata": {},
   "outputs": [],
   "source": [
    "from mermaid import Mermaid\n",
    "\n",
    "def execute_mermaid(graph):\n",
    "\n",
    "    if \"mermaid\" in graph:\n",
    "        graph = graph.replace(\"mermaid\",\"\").replace(\"`\", \"\")\n",
    "    return Mermaid(graph)\n"
   ]
  },
  {
   "cell_type": "code",
   "execution_count": 11,
   "metadata": {},
   "outputs": [
    {
     "name": "stdout",
     "output_type": "stream",
     "text": [
      "You can use the following Python libraries for art generation based on the provided context:\n",
      "\n",
      "1. **Matplotlib** - A plotting library for creating static, animated, and interactive visualizations.\n",
      "2. **NumPy** - A library that adds support for large multi-dimensional arrays and matrices, along with mathematical functions to operate on these arrays.\n",
      "3. **Turtle** - A pre-installed Python library that allows users to create various types of shapes and images, useful for interactive programming.\n",
      "4. **Pygame** - Mentioned as one of the libraries for creating visuals (specific details not provided in the text).\n",
      "5. **Processing.py** - Another library mentioned for creating visuals (details not provided).\n",
      "6. **TensorFlow** - Used for implementing generative adversarial networks (GANs) to create realistic images.\n",
      "\n",
      "These libraries enable various aspects of generative art creation, from visualizations to interactive and dynamic art pieces.\n"
     ]
    }
   ],
   "source": [
    "import sys\n",
    "import os\n",
    "from langchain_core.output_parsers import StrOutputParser\n",
    "from langchain_core.runnables import RunnablePassthrough\n",
    "from langchain_community.vectorstores import FAISS\n",
    "from langchain_openai import AzureOpenAIEmbeddings\n",
    "\n",
    "#sys.path.append(os.path.abspath(\"../api/\"))\n",
    "\n",
    "embeddings = AzureOpenAIEmbeddings(\n",
    "                azure_endpoint=os.getenv('AZURE_OPENAI_ENDPOINT'),\n",
    "                api_key=os.getenv('AZURE_OPENAI_API_KEY'),\n",
    "                azure_deployment=os.getenv('AZURE_OPENAI_EMBEDDING_DEPLOYMENT_NAME')\n",
    "            )\n",
    "\n",
    "\n",
    "index_path =  \"../api/index/faiss_index\"\n",
    "vector_store = FAISS.load_local(index_path, embeddings, allow_dangerous_deserialization=True)\n",
    "retriever = vector_store.as_retriever()\n",
    "template = \"\"\"Answer questions based only on the following context: \n",
    "        \n",
    "        ### CONTEXT ###\n",
    "        {context}\n",
    "        \n",
    "        Question: {question}\n",
    "        \n",
    "        If the context doesn't provide enough information to answer the question, say that you don't know.\n",
    "        Do not respond with information outside the previous context.\"\"\"\n",
    "\n",
    "prompt = PromptTemplate.from_template(template)\n",
    "\n",
    "chain = (\n",
    "            {\"context\": retriever, \"question\": RunnablePassthrough()}\n",
    "            | prompt\n",
    "            | llm\n",
    "            | StrOutputParser()\n",
    "        )\n",
    "\n",
    "query=\"what python libraries can I use for art generation\"\n",
    "result = chain.invoke(query)\n",
    "\n",
    "print(result)"
   ]
  },
  {
   "cell_type": "code",
   "execution_count": 14,
   "metadata": {},
   "outputs": [],
   "source": [
    "graph = diagram_agent(text = result)"
   ]
  },
  {
   "cell_type": "code",
   "execution_count": 15,
   "metadata": {},
   "outputs": [
    {
     "name": "stdout",
     "output_type": "stream",
     "text": [
      "```mermaid\n",
      "graph TD;\n",
      "    A[Python Libraries for Art Generation] --> B[Matplotlib];\n",
      "    A --> C[NumPy];\n",
      "    A --> D[Turtle];\n",
      "    A --> E[Pygame];\n",
      "    A --> F[Processing.py];\n",
      "    A --> G[TensorFlow];\n",
      "    B --> H[Static, Animated, Interactive Visualizations];\n",
      "    C --> I[Multi-dimensional Arrays, Mathematical Functions];\n",
      "    D --> J[Shapes and Images Creation];\n",
      "    E --> K[Visuals Creation];\n",
      "    F --> L[Visuals Creation];\n",
      "    G --> M[Generative Adversarial Networks];\n",
      "    H --> N[Artistic Representations];\n",
      "    I --> O[Data Processing];\n",
      "    J --> P[Interactive Programming];\n",
      "    K --> Q[Dynamic Art Pieces];\n",
      "    L --> R[Creative Visuals];\n",
      "    M --> S[Realistic Images];\n",
      "```\n"
     ]
    }
   ],
   "source": [
    "print(graph)"
   ]
  },
  {
   "cell_type": "code",
   "execution_count": 17,
   "metadata": {},
   "outputs": [],
   "source": [
    "diagram = execute_mermaid(graph)"
   ]
  },
  {
   "cell_type": "code",
   "execution_count": null,
   "metadata": {},
   "outputs": [
    {
     "data": {
      "text/plain": [
       "mermaid.mermaid.Mermaid"
      ]
     },
     "execution_count": 19,
     "metadata": {},
     "output_type": "execute_result"
    }
   ],
   "source": [
    "diagram"
   ]
  }
 ],
 "metadata": {
  "kernelspec": {
   "display_name": ".venv",
   "language": "python",
   "name": "python3"
  },
  "language_info": {
   "codemirror_mode": {
    "name": "ipython",
    "version": 3
   },
   "file_extension": ".py",
   "mimetype": "text/x-python",
   "name": "python",
   "nbconvert_exporter": "python",
   "pygments_lexer": "ipython3",
   "version": "3.11.0"
  }
 },
 "nbformat": 4,
 "nbformat_minor": 2
}

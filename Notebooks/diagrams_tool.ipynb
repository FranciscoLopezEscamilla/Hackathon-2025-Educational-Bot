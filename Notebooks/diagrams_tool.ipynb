{
 "cells": [
  {
   "cell_type": "code",
   "execution_count": 15,
   "metadata": {},
   "outputs": [],
   "source": [
    "import os\n",
    "from langchain_openai.chat_models.azure import AzureChatOpenAI\n",
    "\n",
    "openai_api_key = os.getenv('AZURE_OPENAI_API_KEY')\n",
    "openai_api_base = os.getenv('AZURE_OPENAI_ENDPOINT')\n",
    "openai_api_version = os.getenv('AZURE_OPENAI_API_VERSION')\n",
    "embeddings_model = os.getenv('AZURE_OPENAI_EMBEDDING_DEPLOYMENT_NAME')\n",
    "gpt_model = os.getenv(\"AZURE_OPENAI_CHAT_DEPLOYMENT_NAME\")\n",
    "\n",
    "llm = AzureChatOpenAI(\n",
    "                openai_api_version=openai_api_version,\n",
    "                azure_deployment=gpt_model,\n",
    "            )"
   ]
  },
  {
   "cell_type": "code",
   "execution_count": 57,
   "metadata": {},
   "outputs": [],
   "source": [
    "from langchain_core.prompts import PromptTemplate\n",
    "\n",
    "def diagram_agent(text):\n",
    "    \"you are a diagram creator expert that generates diagrams with mermaid package\"\n",
    "\n",
    "    prompt = \"\"\"Your job is to write the code to generate a colorful mermaid diagram describing the text below:\n",
    "\n",
    "    {text} \n",
    "    \n",
    "    Please understand the text before generating the code. use the text information only , don't use any other information.\n",
    "    only generate the code as output nothing extra.\n",
    "    each line in the code must be terminated by ; \n",
    "    Code:\"\"\"\n",
    "\n",
    "    template = PromptTemplate.from_template(prompt)\n",
    "    chain = template | llm\n",
    "    response = chain.invoke({\"text\": text})\n",
    "    return response.content\n",
    "    "
   ]
  },
  {
   "cell_type": "code",
   "execution_count": 58,
   "metadata": {},
   "outputs": [],
   "source": [
    "from mermaid import Mermaid\n",
    "\n",
    "def execute_mermaid(graph):\n",
    "\n",
    "    if \"mermaid\" in graph:\n",
    "        graph = graph.replace(\"mermaid\",\"\").replace(\"`\", \"\")\n",
    "    return Mermaid(graph)\n"
   ]
  },
  {
   "cell_type": "code",
   "execution_count": 60,
   "metadata": {},
   "outputs": [
    {
     "name": "stdout",
     "output_type": "stream",
     "text": [
      "You can use the following Python libraries for art generation:\n",
      "\n",
      "1. **Matplotlib** - A plotting library used for creating static, animated, and interactive visualizations.\n",
      "2. **NumPy** - A library that adds support for large multi-dimensional arrays and matrices, providing high-level mathematical functions for operations on these arrays.\n",
      "3. **Turtle** - A pre-installed library that allows users to create various types of shapes and images on a virtual canvas.\n",
      "4. **Pygame** - While not explicitly mentioned in the provided context, it is noted as one of the libraries that can be used for generative artwork.\n",
      "5. **Processing.py** - Another library referenced for its capabilities in creating visuals, though not elaborated upon in the context.\n",
      "6. **TensorFlow** - Used for implementing generative adversarial networks (GANs) which can create realistic images.\n",
      "\n",
      "These libraries facilitate the creation of generative artwork by enabling various types of visualizations, manipulations, and interactions.\n"
     ]
    }
   ],
   "source": [
    "import sys\n",
    "import os\n",
    "from langchain_core.output_parsers import StrOutputParser\n",
    "from langchain_core.runnables import RunnablePassthrough\n",
    "from langchain_community.vectorstores import FAISS\n",
    "from langchain_openai import AzureOpenAIEmbeddings\n",
    "\n",
    "#sys.path.append(os.path.abspath(\"../api/\"))\n",
    "\n",
    "embeddings = AzureOpenAIEmbeddings(\n",
    "                azure_endpoint=os.getenv('AZURE_OPENAI_ENDPOINT'),\n",
    "                api_key=os.getenv('AZURE_OPENAI_API_KEY'),\n",
    "                azure_deployment=os.getenv('AZURE_OPENAI_EMBEDDING_DEPLOYMENT_NAME')\n",
    "            )\n",
    "\n",
    "\n",
    "index_path =  \"../api/index/faiss_index\"\n",
    "vector_store = FAISS.load_local(index_path, embeddings, allow_dangerous_deserialization=True)\n",
    "retriever = vector_store.as_retriever()\n",
    "template = \"\"\"Answer questions based only on the following context: \n",
    "        \n",
    "        ### CONTEXT ###\n",
    "        {context}\n",
    "        \n",
    "        Question: {question}\n",
    "        \n",
    "        If the context doesn't provide enough information to answer the question, say that you don't know.\n",
    "        Do not respond with information outside the previous context.\"\"\"\n",
    "\n",
    "prompt = PromptTemplate.from_template(template)\n",
    "\n",
    "chain = (\n",
    "            {\"context\": retriever, \"question\": RunnablePassthrough()}\n",
    "            | prompt\n",
    "            | llm\n",
    "            | StrOutputParser()\n",
    "        )\n",
    "\n",
    "query=\"what python libraries can I use for art generation\"\n",
    "result = chain.invoke(query)\n",
    "\n",
    "print(result)"
   ]
  },
  {
   "cell_type": "code",
   "execution_count": 47,
   "metadata": {},
   "outputs": [],
   "source": [
    "graph = diagram_agent(text = result)"
   ]
  },
  {
   "cell_type": "code",
   "execution_count": 53,
   "metadata": {},
   "outputs": [
    {
     "name": "stdout",
     "output_type": "stream",
     "text": [
      "```mermaid\n",
      "graph TD;\n",
      "    A[Install Python and required libraries] --> B[Define the generative art piece];\n",
      "    B --> C[Import libraries];\n",
      "    C --> D[Create a blank canvas];\n",
      "    D --> E[Generate the art];\n",
      "    E --> F[Display the generated art];\n",
      "    \n",
      "    style A fill:#ffcccb,stroke:#ff0000,stroke-width:2px;\n",
      "    style B fill:#add8e6,stroke:#0000ff,stroke-width:2px;\n",
      "    style C fill:#90ee90,stroke:#008000,stroke-width:2px;\n",
      "    style D fill:#ffffe0,stroke:#ffff00,stroke-width:2px;\n",
      "    style E fill:#d8bfd8,stroke:#9370db,stroke-width:2px;\n",
      "    style F fill:#ffe4e1,stroke:#ff69b4,stroke-width:2px;\n",
      "```\n"
     ]
    }
   ],
   "source": [
    "print(graph)"
   ]
  },
  {
   "cell_type": "code",
   "execution_count": 59,
   "metadata": {},
   "outputs": [
    {
     "data": {
      "text/html": [
       "\n",
       "        <div class=\"mermaid-d6884b39-a903-4a19-ac8f-02849afa8856\"></div>\n",
       "        <script type=\"module\">\n",
       "            import mermaid from 'https://cdn.jsdelivr.net/npm/mermaid@10.1.0/+esm'\n",
       "            const graphDefinition = 'graph TD;\\n    A[Install Python and required libraries] --> B[Define the generative art piece];\\n    B --> C[Import libraries];\\n    C --> D[Create a blank canvas];\\n    D --> E[Generate the art];\\n    E --> F[Display the generated art];\\n    \\n    style A fill:#ffcccb,stroke:#ff0000,stroke-width:2px;\\n    style B fill:#add8e6,stroke:#0000ff,stroke-width:2px;\\n    style C fill:#90ee90,stroke:#008000,stroke-width:2px;\\n    style D fill:#ffffe0,stroke:#ffff00,stroke-width:2px;\\n    style E fill:#d8bfd8,stroke:#9370db,stroke-width:2px;\\n    style F fill:#ffe4e1,stroke:#ff69b4,stroke-width:2px;\\n';\n",
       "            const element = document.querySelector('.mermaid-d6884b39-a903-4a19-ac8f-02849afa8856');\n",
       "            const { svg } = await mermaid.render('graphDiv-d6884b39-a903-4a19-ac8f-02849afa8856', graphDefinition);\n",
       "            element.innerHTML = svg;\n",
       "        </script>\n",
       "        "
      ],
      "text/plain": [
       "<mermaid.mermaid.Mermaid at 0x1de4e022150>"
      ]
     },
     "execution_count": 59,
     "metadata": {},
     "output_type": "execute_result"
    }
   ],
   "source": [
    "execute_mermaid(graph)"
   ]
  }
 ],
 "metadata": {
  "kernelspec": {
   "display_name": ".venv",
   "language": "python",
   "name": "python3"
  },
  "language_info": {
   "codemirror_mode": {
    "name": "ipython",
    "version": 3
   },
   "file_extension": ".py",
   "mimetype": "text/x-python",
   "name": "python",
   "nbconvert_exporter": "python",
   "pygments_lexer": "ipython3",
   "version": "3.11.0"
  }
 },
 "nbformat": 4,
 "nbformat_minor": 2
}

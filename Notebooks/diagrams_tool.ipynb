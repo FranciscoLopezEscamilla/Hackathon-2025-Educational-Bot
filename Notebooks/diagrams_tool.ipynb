{
 "cells": [
  {
   "cell_type": "code",
   "execution_count": 5,
   "metadata": {},
   "outputs": [],
   "source": [
    "from diagrams import Diagram, Cluster, Edge\n",
    "from diagrams.digitalocean.compute import Droplet\n",
    "from diagrams.digitalocean.database import DbaasPrimary\n",
    "from diagrams.elastic.elasticsearch import Logstash\n",
    "from diagrams.aws.compute import EC2\n",
    "\n",
    "\n",
    "#with Diagram(\"Simple Diagram\") as diag:\n",
    "#    EC2(\"web\")"
   ]
  },
  {
   "cell_type": "code",
   "execution_count": 6,
   "metadata": {},
   "outputs": [],
   "source": [
    "import os\n",
    "from langchain_openai.chat_models.azure import AzureChatOpenAI\n",
    "\n",
    "openai_api_key = os.getenv('AZURE_OPENAI_API_KEY')\n",
    "openai_api_base = os.getenv('AZURE_OPENAI_ENDPOINT')\n",
    "openai_api_version = os.getenv('AZURE_OPENAI_API_VERSION')\n",
    "embeddings_model = os.getenv('AZURE_OPENAI_EMBEDDING_DEPLOYMENT_NAME')\n",
    "gpt_model = os.getenv(\"AZURE_OPENAI_CHAT_DEPLOYMENT_NAME\")\n",
    "\n",
    "llm = AzureChatOpenAI(\n",
    "                openai_api_version=openai_api_version,\n",
    "                azure_deployment=gpt_model,\n",
    "            )"
   ]
  },
  {
   "cell_type": "code",
   "execution_count": 28,
   "metadata": {},
   "outputs": [],
   "source": [
    "import base64\n",
    "\n",
    "def encode_image(image_path):\n",
    "    with open(image_path, \"rb\") as image_file:\n",
    "        return base64.b64encode(image_file.read()).decode('utf-8')\n",
    "    \n",
    "\n",
    "img = encode_image(\"./Tire_demo/Tire-change.jpg\")"
   ]
  },
  {
   "cell_type": "code",
   "execution_count": 33,
   "metadata": {},
   "outputs": [],
   "source": [
    "def describe_images(image_path):\n",
    "\n",
    "    image = encode_image(image_path)\n",
    "    messages = {\n",
    "        \"role\": \"user\",\n",
    "        \"content\":[\n",
    "            {\"type\":\"text\", \"text\": \"Tell me what's in the image in a simple sentence\"},\n",
    "            {\"type\": \"image_url\", \"image_url\":{\"url\": f\"data:image/jpeg;base64,{image}\", \"detail\":\"low\"}},\n",
    "        \n",
    "        ]\n",
    "    }\n",
    "\n",
    "    return {\"image_description\": llm.invoke([messages]).content, \"path\": image_path}\n"
   ]
  },
  {
   "cell_type": "code",
   "execution_count": 34,
   "metadata": {},
   "outputs": [
    {
     "data": {
      "text/plain": [
       "{'image_description': 'A person is using a wrench to change a tire on a car.',\n",
       " 'path': './Tire_demo/images.jpg'}"
      ]
     },
     "execution_count": 34,
     "metadata": {},
     "output_type": "execute_result"
    }
   ],
   "source": [
    "describe_images(\"./Tire_demo/images.jpg\")"
   ]
  },
  {
   "cell_type": "code",
   "execution_count": 43,
   "metadata": {},
   "outputs": [],
   "source": [
    "from langchain_core.prompts import PromptTemplate\n",
    "\n",
    "def diagram_creator(images, text):\n",
    "    \"Uses Graphiz to generate smart diagrams based on text and images.\"\n",
    "\n",
    "    prompt = \"\"\"You're a smart assistant that writes python code.\n",
    "Your job is to write a python code that uses Graphviz to generate a flow chart of the following text and images.\n",
    "Analyze and understand the text very carefully, highlight the main components. Do no add more than 6 nodes.\n",
    "Review the images descriptions and use the image to create the flow chart when you think is appropiate. \n",
    "Plasee add images to the flow chart. To find the images path, use the \"path\" property of the images dictionary below.\n",
    "The flow chart must be great and self-explanatory.\n",
    "\n",
    "Text: {text}\n",
    "\n",
    "Images: {images}\n",
    "\n",
    "Return just the snippet of code. Nothing else.\n",
    "\"\"\"\n",
    "\n",
    "    prompt_template = PromptTemplate.from_template(prompt)\n",
    "    chain  = prompt_template | llm\n",
    "    chain = chain.invoke({\"text\": text, \"images\": images})\n",
    "\n",
    "    return chain.content"
   ]
  },
  {
   "cell_type": "code",
   "execution_count": 36,
   "metadata": {},
   "outputs": [],
   "source": [
    "text = \"\"\"\n",
    "To change a tire, first, find a safe, level location and set up the wheel chocks. Next, loosen the lug nuts, jack up the car, and remove the flat tire. Then, mount the spare tire, lower the car, and tighten the lug nuts. Finally, fully lower the car and check the lug nuts. \n",
    "Here's a more detailed breakdown:\n",
    "1. Safety First:\n",
    "Find a safe location: Pull over to a safe and level spot, away from traffic if possible. \n",
    "Engage the parking brake: Turn on your hazard lights and apply the parking brake. \n",
    "Place wheel chocks: Place the wheel chocks on the wheels diagonally opposite the tire you're changing. \n",
    "2. Prepare the Vehicle:\n",
    "Loosen the lug nuts: Using the lug wrench, loosen the lug nuts (but don't remove them yet). \n",
    "Locate the jack point: Consult your owner's manual or look for the designated jack points on your car. \n",
    "Position the jack: Place the jack securely under the designated jacking point. \n",
    "3. Remove the Flat Tire:\n",
    "Raise the vehicle: Raise the car using the jack, enough to remove the flat tire.\n",
    "Remove lug nuts: Completely remove the lug nuts.\n",
    "Remove the flat tire: Carefully remove the flat tire, placing it aside safely. \n",
    "4. Install the Spare Tire:\n",
    "Mount the spare tire: Align the spare tire with the lug bolts and push it onto the hub.\n",
    "Replace lug nuts: Place the lug nuts on the wheel and tighten them by hand. \n",
    "5. Lower the Vehicle and Tighten:\n",
    "Lower the car:\n",
    "Slowly lower the car until the spare tire is on the ground, but the weight is not fully on the spare.\n",
    "Tighten lug nuts:\n",
    "Use the lug wrench to tighten the lug nuts in a star pattern, then fully lower the car and tighten the lug nuts again. \n",
    "6. Final Steps:\n",
    "Check lug nuts:\n",
    "After driving a short distance, check the lug nuts again to ensure they are tight. \n",
    "Consult a professional:\n",
    "If you're not comfortable changing a tire, it's best to call for roadside assistance or a professional mechanic. \n",
    "\"\"\"\n",
    "\n",
    "images = {'image_description': 'A person is using a wrench to change a tire on a car.',\n",
    " 'path': './Tire_demo/images.jpg'}"
   ]
  },
  {
   "cell_type": "code",
   "execution_count": 44,
   "metadata": {},
   "outputs": [],
   "source": [
    "diagram = diagram_creator(text, images)"
   ]
  },
  {
   "cell_type": "code",
   "execution_count": 45,
   "metadata": {},
   "outputs": [
    {
     "name": "stdout",
     "output_type": "stream",
     "text": [
      "```python\n",
      "import graphviz\n",
      "\n",
      "dot = graphviz.Digraph(comment='Tire Changing Process')\n",
      "\n",
      "dot.node('A', '1. Safety First\\n- Find a safe location\\n- Engage parking brake\\n- Place wheel chocks')\n",
      "dot.node('B', '2. Prepare the Vehicle\\n- Loosen lug nuts\\n- Locate the jack point\\n- Position the jack')\n",
      "dot.node('C', '3. Remove the Flat Tire\\n- Raise the vehicle\\n- Remove lug nuts\\n- Remove flat tire')\n",
      "dot.node('D', '4. Install Spare Tire\\n- Mount spare tire\\n- Replace lug nuts')\n",
      "dot.node('E', '5. Lower Vehicle and Tighten\\n- Lower car\\n- Tighten lug nuts in star pattern')\n",
      "dot.node('F', '6. Final Steps\\n- Check lug nuts\\n- Consult a professional')\n",
      "\n",
      "dot.node('Image', 'Person changing tire', shape='rect', image='./Tire_demo/images.jpg', label='', or='none')\n",
      "\n",
      "dot.edges(['AB', 'BC', 'CD', 'DE', 'EF'])\n",
      "dot.attr(ranksep='0.5')\n",
      "\n",
      "dot.render('tire_changing_flowchart', format='png', cleanup=True)\n",
      "```\n"
     ]
    }
   ],
   "source": [
    "print(diagram)"
   ]
  },
  {
   "cell_type": "code",
   "execution_count": 25,
   "metadata": {},
   "outputs": [
    {
     "data": {
      "text/plain": [
       "['Tire_demo\\\\AdobeStock_274756878_resize-269x300.jpg',\n",
       " 'Tire_demo\\\\images (1).jpg',\n",
       " 'Tire_demo\\\\images.jpg',\n",
       " 'Tire_demo\\\\Tire-change.jpg']"
      ]
     },
     "execution_count": 25,
     "metadata": {},
     "output_type": "execute_result"
    }
   ],
   "source": [
    "images"
   ]
  },
  {
   "cell_type": "code",
   "execution_count": 7,
   "metadata": {},
   "outputs": [
    {
     "name": "stderr",
     "output_type": "stream",
     "text": [
      "Warning: No such file or directory while opening ../api/assets/test_imgs/images.jpg\n",
      "Warning: No or improper image=\"../api/assets/test_imgs/images.jpg\" for node \"G\"\n"
     ]
    },
    {
     "data": {
      "text/plain": [
       "'printer set up.pdf'"
      ]
     },
     "execution_count": 7,
     "metadata": {},
     "output_type": "execute_result"
    }
   ],
   "source": [
    "from graphviz import Digraph\n",
    "\n",
    "# Create a new directed graph\n",
    "dot = Digraph()\n",
    "\n",
    "# Add nodes (steps) to the graph\n",
    "dot.node('A', 'Connect printer to computer and power source.')\n",
    "dot.node('B', 'Go to My Devices (Windows) or Printers and Scanners (Mac).')\n",
    "dot.node('C', 'Click Add Device and select your printer.')\n",
    "dot.node('D', 'Print a test page to ensure your printer works.')\n",
    "dot.node('E', label='image', image = \"../api/assets/generated_images/2025-02-27-14-58-20/genai_img_9a12a22b-ccdf-4828-bfdd-9cac4971f474.jpg\")\n",
    "dot.node('F', label=\"image2\", image = \"../api/assets/generated_images/2025-02-27-15-29-10/genai_img_b4b09826-76bb-4cc4-a268-730cda29bac7.jpg\")\n",
    "dot.node('G', label=\"image3\", image = \"../api/assets/test_imgs/images.jpg\")\n",
    "\n",
    "# Add edges (arrows) to connect the steps\n",
    "dot.edge('A', 'B', 'Connect')\n",
    "dot.edge('B', 'C', 'Next')\n",
    "dot.edge('C', 'D', 'Confirm')\n",
    "dot.edge('D', 'E')\n",
    "dot.edge('E', 'F')\n",
    "dot.edge('F', 'G')\n",
    "\n",
    "\n",
    "\n",
    "dot.render(\"printer set up\", view=True)"
   ]
  }
 ],
 "metadata": {
  "kernelspec": {
   "display_name": ".venv",
   "language": "python",
   "name": "python3"
  },
  "language_info": {
   "codemirror_mode": {
    "name": "ipython",
    "version": 3
   },
   "file_extension": ".py",
   "mimetype": "text/x-python",
   "name": "python",
   "nbconvert_exporter": "python",
   "pygments_lexer": "ipython3",
   "version": "3.11.0"
  }
 },
 "nbformat": 4,
 "nbformat_minor": 2
}

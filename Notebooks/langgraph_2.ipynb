{
 "cells": [
  {
   "cell_type": "code",
   "execution_count": 2,
   "metadata": {},
   "outputs": [],
   "source": [
    "from langchain_openai import AzureChatOpenAI\n",
    "\n",
    "import os\n",
    "\n",
    "llm = AzureChatOpenAI(\n",
    "    openai_api_version=os.environ[\"AZURE_OPENAI_API_VERSION\"],\n",
    "    azure_deployment=os.environ[\"AZURE_OPENAI_CHAT_DEPLOYMENT_NAME\"],\n",
    ")"
   ]
  },
  {
   "cell_type": "code",
   "execution_count": 14,
   "metadata": {},
   "outputs": [],
   "source": [
    "def function_1(input_1):\n",
    "    query = f\"\"\" Your task is to provide only the topic based on the user query.\n",
    "Only output te topic among: [Japan, Sports]. Don't include reasoning. \n",
    "Following the user query: {input_1}\n",
    "\"\"\"\n",
    "    response = llm.invoke(query)\n",
    "    return response.content\n",
    "\n",
    "def function_2(input_2):\n",
    "    TOPIC_UPPER = input_2.upper()\n",
    "    response = f\"Here is the topic in UPPER case: {TOPIC_UPPER}\"\n",
    "    return response"
   ]
  },
  {
   "cell_type": "code",
   "execution_count": 15,
   "metadata": {},
   "outputs": [],
   "source": [
    "from langgraph.graph import Graph\n",
    "\n",
    "workflow = Graph()\n",
    "\n",
    "workflow.add_node(\"node_1\", function_1)\n",
    "workflow.add_node(\"node_2\", function_2)\n",
    "\n",
    "workflow.add_edge(\"node_1\", \"node_2\")\n",
    "\n",
    "workflow.set_entry_point(\"node_1\")\n",
    "workflow.set_finish_point(\"node_2\")\n",
    "\n",
    "app = workflow.compile()"
   ]
  },
  {
   "cell_type": "code",
   "execution_count": 18,
   "metadata": {},
   "outputs": [
    {
     "data": {
      "text/plain": [
       "'Here is the topic in UPPER case: SPORTS'"
      ]
     },
     "execution_count": 18,
     "metadata": {},
     "output_type": "execute_result"
    }
   ],
   "source": [
    "app.invoke('The weather in mexico is sunny')"
   ]
  },
  {
   "cell_type": "code",
   "execution_count": 19,
   "metadata": {},
   "outputs": [
    {
     "name": "stdout",
     "output_type": "stream",
     "text": [
      "output from node node_1 \n",
      "----\n",
      "Sports\n",
      "output from node node_2 \n",
      "----\n",
      "Here is the topic in UPPER case: SPORTS\n"
     ]
    }
   ],
   "source": [
    "input = \"The basket match was too long \"\n",
    "\n",
    "for output in app.stream(input):\n",
    "\n",
    "    for key, value in output.items():\n",
    "        print(f\"output from node {key} \")\n",
    "        print(\"----\")\n",
    "        print(value)"
   ]
  },
  {
   "cell_type": "code",
   "execution_count": 23,
   "metadata": {},
   "outputs": [],
   "source": [
    "from langchain_community.vectorstores import FAISS\n",
    "from langchain_openai import AzureOpenAIEmbeddings\n",
    "\n",
    "api_key = os.getenv('AZURE_OPENAI_API_KEY')\n",
    "api_base = os.getenv('AZURE_OPENAI_ENDPOINT')\n",
    "version = os.getenv('AZURE_OPENAI_API_VERSION')\n",
    "embeddings_model = os.getenv('AZURE_OPENAI_EMBEDDING_DEPLOYMENT_NAME')\n",
    "\n",
    "embeddings = AzureOpenAIEmbeddings(\n",
    "                azure_endpoint=api_base,\n",
    "                api_key=api_key,\n",
    "                azure_deployment=embeddings_model)\n",
    "\n",
    "index_path = \"../api/index/faiss_index\"\n",
    "\n",
    "    \n",
    "vector_store = FAISS.load_local(index_path, embeddings, allow_dangerous_deserialization=True)\n",
    "retriever = vector_store.as_retriever()\n",
    "#documents = retriever.invoke(query)\n",
    "#result_string = \"\\n\\n\".join(doc.page_content for doc in documents)\n",
    "\n",
    "    "
   ]
  },
  {
   "cell_type": "code",
   "execution_count": 50,
   "metadata": {},
   "outputs": [
    {
     "data": {
      "text/plain": [
       "[Document(id='fc8c5482-ab44-4f23-b63d-246243627280', metadata={'producer': 'pdfTeX-1.40.25', 'creator': 'LaTeX with hyperref', 'creationdate': '2023-06-08T00:43:38+00:00', 'author': '', 'keywords': '', 'moddate': '2023-06-08T00:43:38+00:00', 'ptex.fullbanner': 'This is pdfTeX, Version 3.141592653-2.6-1.40.25 (TeX Live 2023) kpathsea version 6.3.5', 'subject': '', 'title': '', 'trapped': '/False', 'source': 'C:\\\\Users\\\\p.a.rodriguez.canedo\\\\Documents\\\\Hackaton_2025\\\\api\\\\index_documents\\\\genai-art.pdf', 'total_pages': 23, 'page': 0, 'page_label': '1'}, page_content='Art and the science of generative AI: A deeper dive\\nZiv Epstein1∗, Aaron Hertzmann2, Laura Herman3,4, Robert Mahari1,5,\\nMorgan R. Frank 6, Matthew Groh1, Hope Schroeder1, Amy Smith7,\\nMemo Akten8, Jessica Fjeld5, Hany Farid9, Neil Leach10,\\nAlex “Sandy” Pentland1, Olga Russakovsky11\\n1MIT Media Lab\\n2Adobe Research\\n3University of Oxford\\n4Adobe, Inc.\\n5Harvard Law School\\n6University of Pittsburgh\\n7Queen Mary University London\\n8University of California, San Diego\\n9University of California, Berkeley\\n10Florida International University\\n11Princeton University\\n∗To whom correspondence should be addressed; E-mail: zive@mit.edu.\\nA new class of tools, colloquially calledgenerative AI, can produce high-quality\\nartistic media for visual arts, concept art, music, fiction, literature, video, and\\nanimation. The generative capabilities of these tools are likely to fundamen-\\ntally alter the creative processes by which creators formulate ideas and put\\nthem into production. As creativity is reimagined, so too may be many sec-\\ntors of society. Understanding the impact of generative AI—and making pol-\\nicy decisions around it—requires new interdisciplinary scientific inquiry into\\nculture, economics, law, algorithms, and the interaction of technology and cre-\\nativity. We argue that generative AI is not the harbinger of art’s demise, but\\nrather is a new medium with its own distinct affordances. In this vein, we\\nconsider the impacts of this new medium on creators across four themes: aes-\\nthetics and culture, legal questions of ownership and credit, the future of cre-\\native work, and impacts on the contemporary media ecosystem. Across these\\n1\\narXiv:2306.04141v1  [cs.AI]  7 Jun 2023'),\n",
       " Document(id='2999b243-bee4-4bd2-8a5f-9e5103a2fabe', metadata={'producer': 'pdfTeX-1.40.25', 'creator': 'LaTeX with hyperref', 'creationdate': '2023-06-08T00:43:38+00:00', 'author': '', 'keywords': '', 'moddate': '2023-06-08T00:43:38+00:00', 'ptex.fullbanner': 'This is pdfTeX, Version 3.141592653-2.6-1.40.25 (TeX Live 2023) kpathsea version 6.3.5', 'subject': '', 'title': '', 'trapped': '/False', 'source': 'C:\\\\Users\\\\p.a.rodriguez.canedo\\\\Documents\\\\Hackaton_2025\\\\api\\\\index_documents\\\\genai-art.pdf', 'total_pages': 23, 'page': 12, 'page_label': '13'}, page_content='generative AI earlier in the workflow for speculation and idea generation [ 127, 128, 40], or\\nby building algorithms that are explicitly designed to interact with distinct modes of human\\ncreativity.\\nEvery artistic medium mirrors and comments on the issues of its time, and contemporary AI-\\ngenerated art reflects present issues surrounding automation, corporate control, and the attention\\neconomy. Ultimately, we express our humanity through art, so understanding and shaping the\\nimpact of AI on creative expression is at the center of broader questions about its impact on\\nsociety.\\nThe widespread adoption of generative AI is not inevitable. Rather, its uses and impacts\\nwill be shaped by the collective decisions made by technology developers, users, regulators\\nand civil society. Therefore, new research into generative AI is required to ensure the use of\\nthese technologies is beneficial and must engage with critical stakeholders, particularly artists\\nand creative laborers themselves, many of whom actively engage with difficult questions at the\\nvanguard of societal change.\\nContributions and Position\\nThis paper is a large-scale collaboration between the 14 authors. It was initiated and conceptu-\\nalized by Ziv Epstein, Aaron Hertzmann, Amy Smith and Hope Schroeder at the 2023 Interna-\\ntional Conference of Computational Creativity. Co-authors were invited with expertise in each\\nof the four themes: Shifts in Culture & Aesthetics, Legal Dimensions of Authorship, Labor\\nEconomics of Creative Work, and Impacts Media Ecosystem. The Shifts in Culture & Aesthet-\\nics section was led by Laura Herman with supervision from Memo Akten and contribution from\\nMemo Akten, Olga Russakovsky, Neil Leach, and Ziv Epstein. The Legal Dimensions of Au-\\nthorship section was led by Robert Mahari with supervision from Jessica Fjeld and contribution\\nfrom Jessica Fjeld and Aaron Hertzmann. The Labor Economics of Creative Work section was\\nled by Morgan R. Frank with contribution from Alex Pentland and Amy Smith. The Impacts\\non the Media Ecosystem section was led by Matthew Groh and Hope Schroeder with super-\\nvision from Hany Farid and contribution from Hany Farid and Ziv Epstein. The drafts were\\ncollectively edited and refined by all authors.\\nThis work is an academic collaboration, but we acknowledge that two authors—Aaron\\nHertzmann and Laura Herman—work for Adobe, which makes generative AI tools. These au-\\nthors collaborated on this piece building on their scholarship on these topics, and both have joint\\nacademic affiliations. Furthermore, three authors—Ziv Epstein, Matthew Groh and Morgan R.\\nFrank—had previously consulted for OpenAI by red teaming their generative AI systems (Ziv\\nEpstein and Matthew Groh red teamed DALL-E 2 and Morgan R. Frank red teamed chatGPT).\\n13'),\n",
       " Document(id='95bbf9ba-fecd-4cdc-87ec-60a118f4bb70', metadata={'producer': 'pdfTeX-1.40.25', 'creator': 'LaTeX with hyperref', 'creationdate': '2023-06-08T00:43:38+00:00', 'author': '', 'keywords': '', 'moddate': '2023-06-08T00:43:38+00:00', 'ptex.fullbanner': 'This is pdfTeX, Version 3.141592653-2.6-1.40.25 (TeX Live 2023) kpathsea version 6.3.5', 'subject': '', 'title': '', 'trapped': '/False', 'source': 'C:\\\\Users\\\\p.a.rodriguez.canedo\\\\Documents\\\\Hackaton_2025\\\\api\\\\index_documents\\\\genai-art.pdf', 'total_pages': 23, 'page': 1, 'page_label': '2'}, page_content='themes, we highlight key research questions and directions to inform policy\\nand beneficial uses of the technology.\\nNote: This white paper is an expanded version of Epstein et al 2023 published in Sci-\\nence Perspectives on July 16, 2023 which you can find at the following DOI: 10.1126/sci-\\nence.adh4451.\\n1 Introduction\\nGenerative AI systems increasingly have the capability to produce high-quality artistic media\\nfor visual arts, concept art, music, fiction, literature, and video/animation. For example, dif-\\nfusion models can synthesize high-quality images [ 1] and large language models can produce\\nsensible-sounding and impressive prose and verse in a wide range of contexts [2]. The genera-\\ntive capabilities of these tools are likely to fundamentally alter the creative processes by which\\ncreators formulate ideas and put them into production. As creativity is reimagined, so too may\\nbe many sectors of society. Understanding the impact of generative AI—and making policy\\ndecisions around it—requires new interdisciplinary scientific inquiry into culture, economics,\\nlaw, algorithms, and the interaction of technology and creativity.\\nGenerative AI tools, at first glance, seem to fully automate artistic production—an impres-\\nsion that mirrors past instances when traditionalists viewed new technologies as threatening\\n“art itself.” In fact, these moments of technological change did not indicate the “end of art,” but\\nhad much more complex effects, recasting the roles and practices of creators and shifting the\\naesthetics of contemporary media [ 3]. For example, some 19th-century artists saw the advent\\nof photography as a threat to painting. Instead of replacing painting, however, photography\\neventually liberated it from realism, giving rise to Impressionism and the Modern Art move-\\nment. On the other hand, portrait photography did largely replace portrait painting, leading to\\na short-term loss of jobs among portraiturists and postcard painters [ 4]. Many other historical\\nanalogies illustrate similar trends, with a new artistic technology challenging traditional creative\\npractices and jobs while in time creating new roles for and genres of art. The digitization of\\nmusic production (e.g., digital sampling and sound synthesis) was decried as “the end of mu-\\nsic.” Instead, it altered the ways we produce and listen to music and helped spawn new genres,\\nlike Hip Hop and Drum’n’bass. This follows trends in computer animation (where traditional\\nanimators thought that computers would replace animators entirely, but instead computer an-\\nimation flourished as a medium and jobs for computer animators increased [ 5, 6]) and digital\\nphotography (which in its time challenged photographic principles and assumptions, but now it\\nis commonplace and widely used [7, 8]).\\nLike these historical analogs, generative AI is not necessarily the harbinger of art’s demise,\\nbut rather is a new medium with its own distinct affordances. As a suite of tools used by\\nhuman creators, generative AI is positioned to upend many sectors of the creative industry and\\nbeyond—threatening existing jobs and labor models in the short term, while ultimately enabling\\n2'),\n",
       " Document(id='2f63fee3-411f-46e7-89b1-443121ca6ecf', metadata={'producer': 'Microsoft® Word 2016', 'creator': 'Microsoft® Word 2016', 'creationdate': '2023-12-15T20:26:26+08:00', 'author': 'Teddy Soikun', 'moddate': '2023-12-15T20:26:26+08:00', 'source': 'C:\\\\Users\\\\p.a.rodriguez.canedo\\\\Documents\\\\Hackaton_2025\\\\api\\\\index_documents\\\\ED2_PAPER+ID+05+GENERATIVE+ART.pdf', 'total_pages': 12, 'page': 11, 'page_label': '12'}, page_content='[69] \\n \\nREFERENCES \\n \\nA., A. (2023). The Renaissance of Creativity: Exploring the Impact of Generative AI in the Creative \\nIndustry. https://www.linkedin.com/pulse/renaissance -creativity-exploring-impact-generative-ai-\\nadam \\nAela, E. (2023, April 1). Artificial Intelligence: How AI is Changing Art. \\nhttps://aelaschool.com/en/art/artificial-intelligence-art-changes/ \\nAhmed, R. (2023). The Future of Art and Creativity in the Age of AI. \\nhttps://www.linkedin.com/pulse/future-art-creativity-age-ai-rohan-ahmed \\nGwafan, D. (2023). Python Programming Language: A Versatile and Powerful Tool for Modern \\nDevelopment. https://www.linkedin.com/pulse/python -programming-language-versatile-powerful-\\ntool-modern-gwafan \\nGenerative art. (2023). In Wikipedia. \\nhttps://en.wikipedia.org/w/index.php?title=Generative_art&oldid=1176498478 \\nHarwell, D. (2022). He used AI art from Midjourney to win a fine -arts prize. Did he cheat? - The \\nWashington Post. https://www.washingtonpost.com/technology/2022/09/02/midjourney -artificial-\\nintelligence-state-fair-colorado/ \\nMahadik, S. (2023). Transformation of Creative Industries with Generative AI. \\nhttps://www.linkedin.com/pulse/transformation-creative-industries-generative-ai-sandesh-mahadik \\nMatplotlib. (2023). In Wikipedia. \\nhttps://en.wikipedia.org/w/index.php?title=Matplotlib&oldid=1177283978 \\nNigeria,  consistent_hippopotamus | R. C. A. |. (2023). Artists are not happy with the existence of AI. \\nTopical Talk. https://talk.economistfoundation.org/festivals/festival-2023/ai-and-the-arts/artists-are-\\nnot-happy-with-the-existence-of-ai/ \\nNumPy. (2023). In Wikipedia. https://en.wikipedia.org/w/index.php?title=NumPy&oldid=1174952220 \\nPearson, M. (2011). Generative art, a practical guide using processing. \\nPip (package manager). (2023). In Wikipedia. \\nhttps://en.wikipedia.org/w/index.php?title=Pip_(package_manager)&oldid=1161551744 \\nPyCharm. (2023). In Wikipedia. \\nhttps://en.wikipedia.org/w/index.php?title=PyCharm&oldid=1172673606 \\nPython, R. (2023). The Beginner’s Guide to Python Turtle – Real Python. \\nhttps://realpython.com/beginners-guide-python-turtle/ \\nTempel, M. (2017). Generative art for all. Journal of Innovation and Entrepreneurship , 6(1). \\nhttps://www.academia.edu/88354378/Generative_art_for_all')]"
      ]
     },
     "execution_count": 50,
     "metadata": {},
     "output_type": "execute_result"
    }
   ],
   "source": [
    "retriever.invoke(\"gen ai in art\")"
   ]
  },
  {
   "cell_type": "code",
   "execution_count": 21,
   "metadata": {},
   "outputs": [],
   "source": [
    "from langchain_core.output_parsers import StrOutputParser\n",
    "from langchain_core.prompts import ChatPromptTemplate\n",
    "from langchain_core.runnables import RunnablePassthrough\n",
    "from langchain.chains import retrieval_qa\n",
    "\n"
   ]
  },
  {
   "cell_type": "code",
   "execution_count": 49,
   "metadata": {},
   "outputs": [],
   "source": [
    "from typing_extensions import TypedDict\n",
    "from langgraph.graph.message import add_messages\n",
    "from langchain_core.messages import BaseMessage\n",
    "from typing import Annotated, Sequence\n",
    "import operator\n",
    "\n",
    "class State(TypedDict):\n",
    "    messages: Annotated[Sequence[BaseMessage], operator.add]"
   ]
  },
  {
   "cell_type": "code",
   "execution_count": null,
   "metadata": {},
   "outputs": [],
   "source": [
    "def function_1(state: State):\n",
    "    messages = state['messages']\n",
    "    question = messages[-1]\n",
    "\n",
    "    query = f\"\"\" Your task is to provide only the topic based on the user query.\n",
    "Only output the topic among: [GenAI For art, Gen ai for music]. Don't include reasoning. \n",
    "Following the user query: {question}\n",
    "\"\"\"\n",
    "    response = llm.invoke(query)\n",
    "\n",
    "    state['messages'].append(response.content)\n",
    "    return state\n",
    "\n",
    "def function_2(state: State):\n",
    "    messages = state['messages']\n",
    "    question = messages[0]\n",
    "\n",
    "    template = \"Answer questions based only on the following context: {context} Question: {question}\"\n",
    "    \n",
    "    prompt = ChatPromptTemplate.from_template(template)\n",
    "\n",
    "    retrieval_chain = (\n",
    "        {\"context\": retriever, \"question\": RunnablePassthrough()}\n",
    "        | prompt\n",
    "        | llm\n",
    "        | StrOutputParser()\n",
    "    )\n",
    "    result = retrieval_chain.invoke(question)\n",
    "    \n",
    "    return result"
   ]
  },
  {
   "cell_type": "code",
   "execution_count": 28,
   "metadata": {},
   "outputs": [],
   "source": [
    "workflow = Graph()\n",
    "\n",
    "workflow.add_node(\"agent\", function_1)\n",
    "workflow.add_node(\"tool\", function_2)\n",
    "\n",
    "workflow.add_edge(\"agent\", \"tool\")\n",
    "\n",
    "workflow.set_entry_point(\"agent\")\n",
    "workflow.set_finish_point(\"tool\")\n",
    "\n",
    "app = workflow.compile()"
   ]
  },
  {
   "cell_type": "code",
   "execution_count": 30,
   "metadata": {},
   "outputs": [
    {
     "name": "stdout",
     "output_type": "stream",
     "text": [
      "To create art with generative AI using Python, follow these steps based on the provided context:\n",
      "\n",
      "1. **Install Necessary Software**: Ensure you have Python installed on your computer along with required libraries. You can install libraries like Matplotlib and NumPy using pip.\n",
      "\n",
      "2. **Define the Art Piece**: Decide on the concept for your generative art piece. It may be a pixel-based colored design intended for a digital poster background.\n",
      "\n",
      "3. **Set Up the Canvas**: Create a blank canvas using NumPy with specified width and height to serve as the base for your artwork.\n",
      "\n",
      "4. **Manipulate the Canvas**: Use algorithms to generate the artwork. Define parameters such as a spiral pattern, and iterate through a range of points to calculate their positions using polar coordinates. Assign random colors to each point to create visual interest.\n",
      "\n",
      "5. **Display the Art**: Utilize Matplotlib to visualize the generated art. Make sure to turn off the axes to ensure the focus is on the artwork itself.\n",
      "\n",
      "6. **Additional Techniques**: Explore other generative art forms using Python. For instance:\n",
      "   - **Fractal Patterns**: Use mathematical equations to generate fractals like the Mandelbrot set.\n",
      "   - **Particle Systems**: Create animations that simulate the interaction of particles based on predefined rules.\n",
      "   - **Neural Networks**: Implement generative adversarial networks (GANs) using libraries like TensorFlow for more complex image generation.\n",
      "\n",
      "By combining programming skills with creativity, you can create unique pieces of generative art using Python.\n"
     ]
    }
   ],
   "source": [
    "inputs = {\"messages\": [\"Tell me how to create art with generative AI using python\"]}\n",
    "\n",
    "print(app.invoke(inputs))"
   ]
  },
  {
   "cell_type": "code",
   "execution_count": 32,
   "metadata": {},
   "outputs": [
    {
     "name": "stdout",
     "output_type": "stream",
     "text": [
      "output from node agent \n",
      "----\n",
      "{'messages': ['Tell me how to create art with generative AI using python', 'GenAI For art', 'GenAI For art']}\n",
      "output from node tool \n",
      "----\n",
      "To create art with generative AI using Python, you can follow these steps:\n",
      "\n",
      "1. **Install Python and Required Libraries**: Make sure Python is installed on your computer. You’ll also need to install necessary libraries such as `matplotlib` for plotting and `numpy` for numerical operations. You can install `matplotlib` using pip:\n",
      "   ```\n",
      "   pip install matplotlib\n",
      "   ```\n",
      "\n",
      "2. **Define Your Generative Art Piece**: Decide what type of generative art you want to create. For example, you could aim for a pixel-based colored concept suitable for a digital poster background.\n",
      "\n",
      "3. **Set Up Your Coding Environment**: Open your preferred code editor or IDE, and start a new Python project. Import the required libraries:\n",
      "   ```python\n",
      "   import numpy as np\n",
      "   import matplotlib.pyplot as plt\n",
      "   ```\n",
      "\n",
      "4. **Create a Blank Canvas**: Use NumPy to create a blank canvas of specified width and height. This canvas will be the base for your generative art:\n",
      "   ```python\n",
      "   width, height = 800, 600  # Set your canvas size\n",
      "   canvas = np.zeros((height, width, 3))  # Create a blank RGB canvas\n",
      "   ```\n",
      "\n",
      "5. **Generate Your Art**: Define the parameters for your art generation. For instance, you can create a spiral pattern by iterating through a range of points, calculating positions using polar coordinates, and assigning random colors:\n",
      "   ```python\n",
      "   for i in range(num_points):  # num_points is the number of points to generate\n",
      "       theta = np.linspace(0, 4 * np.pi, num_points)  # Angle\n",
      "       r = theta**2  # Radius\n",
      "       \n",
      "       x = width / 2 + r * np.cos(theta)  # x coordinates\n",
      "       y = height / 2 + r * np.sin(theta)  # y coordinates\n",
      "\n",
      "       # Assign a random color\n",
      "       color = np.random.rand(3,)\n",
      "       canvas[int(y[i]), int(x[i])] = color  # Set pixel color\n",
      "   ```\n",
      "\n",
      "6. **Display Your Art**: Use `matplotlib` to visualize the generated art. Turn off the axes for a cleaner look:\n",
      "   ```python\n",
      "   plt.imshow(canvas)\n",
      "   plt.axis('off')  # Turn off axes\n",
      "   plt.show()  # Display the art\n",
      "   ```\n",
      "\n",
      "By following these steps, you can create and visualize a piece of generative art using Python. The key is to define your artistic rules and let the algorithm generate the visuals based on those rules.\n"
     ]
    }
   ],
   "source": [
    "\n",
    "\n",
    "for output in app.stream(inputs):\n",
    "\n",
    "    for key, value in output.items():\n",
    "        print(f\"output from node {key} \")\n",
    "        print(\"----\")\n",
    "        print(value)"
   ]
  },
  {
   "cell_type": "code",
   "execution_count": 34,
   "metadata": {},
   "outputs": [],
   "source": [
    "from langchain.output_parsers import PydanticOutputParser\n",
    "from langchain.prompts import PromptTemplate\n",
    "from pydantic import BaseModel, Field\n",
    "\n",
    "class TopicSelectionParser(BaseModel):\n",
    "    Topic: str = Field(description=\"Selected topic\")\n",
    "\n",
    "parser = PydanticOutputParser(pydantic_object=TopicSelectionParser)"
   ]
  },
  {
   "cell_type": "code",
   "execution_count": 51,
   "metadata": {},
   "outputs": [],
   "source": [
    "def function_1(state: State):\n",
    "    print(\"Calling Agent...\")\n",
    "    messages = state['messages']\n",
    "    question = messages[-1]\n",
    "\n",
    "    template = \"\"\" Your task is to provide only the topic based on the user query.\n",
    "Only output the topic among: [GenAI Art, GenAI Music, Not Related]. Don't include reasoning. \n",
    "Following the user query: {question}\n",
    "{format_instructions}\n",
    "\"\"\"\n",
    "    prompt = PromptTemplate(\n",
    "        template = template,\n",
    "        input_variables=[question],\n",
    "        partial_variables={\"format_instructions\" : parser.get_format_instructions()}\n",
    "    )\n",
    "\n",
    "    chain = prompt | llm | parser\n",
    "    response = chain.invoke({\"question\": question, \"format_instructions\": parser.get_format_instructions()})\n",
    "\n",
    "\n",
    "    print(response)\n",
    "    #state['messages'].append(response.content)\n",
    "    return {\"messages\": [response.Topic]}\n",
    "\n",
    "def function_2(state: State):\n",
    "    print(\"Calling RAG...\")\n",
    "    messages = state['messages']\n",
    "    question = messages[0]\n",
    "\n",
    "    template = \"Answer questions based only on the following context: {context} Question: {question}\"\n",
    "    \n",
    "    prompt = ChatPromptTemplate.from_template(template)\n",
    "\n",
    "    retrieval_chain = (\n",
    "        {\"context\": retriever, \"question\": RunnablePassthrough()}\n",
    "        | prompt\n",
    "        | llm\n",
    "        | StrOutputParser()\n",
    "    )\n",
    "    result = retrieval_chain.invoke(question)\n",
    "    \n",
    "    return {\"messages\": [result]}\n",
    "\n",
    "def function_3(state: State):\n",
    "    print(\"calling LLM...\")\n",
    "\n",
    "    messages = state['messages']\n",
    "    question = messages[0]\n",
    "\n",
    "    query = f\"Answer the following question with your knowledge of the real world. Question: {question}\"\n",
    "\n",
    "    response = llm.invoke(query)\n",
    "    return {\"messages\": [response.content]}\n",
    "\n",
    "\n",
    "def router(state: State):\n",
    "    print(\"Router...\")\n",
    "    messages = state['messages']\n",
    "    last_message = messages[-1]\n",
    "    print(f\"last message: {last_message}\")\n",
    "    \n",
    "    if 'GenAI Art' in last_message or 'GenAI Music' in last_message:\n",
    "        return 'RAG'\n",
    "    else:\n",
    "        return 'LLM'\n",
    "\n"
   ]
  },
  {
   "cell_type": "code",
   "execution_count": 52,
   "metadata": {},
   "outputs": [],
   "source": [
    "from langgraph.graph import StateGraph, END\n",
    "\n",
    "graph = StateGraph(State)\n",
    "\n",
    "graph.add_node(\"agent\", function_1)\n",
    "graph.add_node(\"RAG\", function_2)\n",
    "graph.add_node(\"LLM\", function_3)\n",
    "\n",
    "graph.set_entry_point(\"agent\")\n",
    "\n",
    "graph.add_conditional_edges(\n",
    "    \"agent\",\n",
    "    router\n",
    "   # conditional_edge_mapping = {\n",
    "   #     \"RAG Call\": \"RAG\",\n",
    "   #     \"LLM Call\": \"LLM\"\n",
    "   # }\n",
    ")\n",
    "\n",
    "graph.add_edge(\"RAG\", END)\n",
    "graph.add_edge(\"LLM\", END)\n",
    "\n",
    "\n",
    "app = graph.compile()"
   ]
  },
  {
   "cell_type": "code",
   "execution_count": 55,
   "metadata": {},
   "outputs": [
    {
     "name": "stdout",
     "output_type": "stream",
     "text": [
      "Calling Agent...\n",
      "Topic='GenAI Art'\n",
      "Router...\n",
      "last message: GenAI Art\n",
      "Calling RAG...\n",
      "{'messages': ['Can Art be created with AI TOOLS ?', 'GenAI Art', 'Yes, art can be created with AI tools. Generative AI is described as a new class of tools that can produce high-quality artistic media across various forms, including visual arts, music, literature, and more. Additionally, generative art, which often involves algorithms and programming, creates artwork that can be entirely or partially generated autonomously, showcasing the collaboration between human creativity and AI capabilities.']}\n"
     ]
    }
   ],
   "source": [
    "inputs = {\"messages\": [\"Can Art be created with AI TOOLS ?\"]}\n",
    "\n",
    "print(app.invoke(inputs))"
   ]
  }
 ],
 "metadata": {
  "kernelspec": {
   "display_name": ".venv",
   "language": "python",
   "name": "python3"
  },
  "language_info": {
   "codemirror_mode": {
    "name": "ipython",
    "version": 3
   },
   "file_extension": ".py",
   "mimetype": "text/x-python",
   "name": "python",
   "nbconvert_exporter": "python",
   "pygments_lexer": "ipython3",
   "version": "3.11.0"
  }
 },
 "nbformat": 4,
 "nbformat_minor": 2
}
